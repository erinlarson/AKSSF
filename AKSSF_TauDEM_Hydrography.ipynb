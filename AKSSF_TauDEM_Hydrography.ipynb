{
 "cells": [
  {
   "cell_type": "markdown",
   "metadata": {
    "collapsed": true,
    "pycharm": {
     "name": "#%% md\n"
    }
   },
   "source": [
    "# AKSSF Hydrography\n",
    "## Construct Synthetic Stream Network and Catchments using TauDEM tools and Timm's 10m composite DEM clipped to Study Area"
   ]
  },
  {
   "cell_type": "markdown",
   "source": [
    "### Define Hydroprocessing Function\n",
    "Create synthetic stream network and calculate stream reach and watersheds(catchments) using TauDEM tools\n",
    "**May want to burn in NHD streams to force flow direction, can consider after examining results**\n",
    "\n",
    "1. Clip input 10 meter composite DEM to study area and fill pits\n",
    "2. Calculate D8 flow direction grid\n",
    "    * This process takes the longest\n",
    "3. Calculate D8 contributing area\n",
    "4. Generate stream grid using Peuker Douglass Stream Definition\n",
    "    * Accumulation threshold = 75\n",
    "    * Minimum threshold = 20\n",
    "    * Maximum threshold = 500\n",
    "    * Number threshold values = 15\n",
    "5. Process stream reach and watersheds\n",
    "6. Export watershed grid to shapefile\n",
    "\n",
    "### Inputs:\n",
    "1. study_area: A polygon feature class with the field \"Processing_Region\" that has been coded to designate unique\n",
    "watersheds to be processed iteratively.\n",
    "\n",
    "2. TauLoc: path to TauDEM toolbox on local machine <a href = \"https://hydrology.usu.edu/taudem/taudem5/\"> TauDEM\n",
    "</a> must be installed.\n",
    "\n",
    "3. DEM:  path to 10 meter composite DEM covering study area.  DEM will be clipped to the study area polygon during\n",
    "processing.\n",
    "\n",
    "4. datafolder: path to Output folder where data will be saved.\n"
   ],
   "metadata": {
    "collapsed": false
   }
  },
  {
   "cell_type": "code",
   "execution_count": 1,
   "outputs": [],
   "source": [
    "def hydroprocess(**kwargs):\n",
    "    # Import packages\n",
    "    import os\n",
    "    import arcpy\n",
    "    import datetime\n",
    "    import time\n",
    "\n",
    "    \"\"\"\n",
    "    Description: Creates synthetic stream network and catchments from input DEM\n",
    "    :param Input_Number_of_Processes: 10\n",
    "    :param Input_DEM: demclip #Dem clipped to study area\n",
    "    :param Check_for_edge_contamination:False #Dem clipped to watershed boundary so keep false\n",
    "    :param Outputs: region_out # name of processing region\n",
    "    :param _Name_catchments_shp: catchname\n",
    "    :param Output_Stream_Reach_file: streamname\n",
    "    :return:\n",
    "    \"\"\"\n",
    "\n",
    "    # To allow overwriting outputs change overwriteOutput option to True.\n",
    "    arcpy.env.overwriteOutput = True\n",
    "\n",
    "    # Import TauDEM tools\n",
    "    arcpy.ImportToolbox(TauLoc)\n",
    "\n",
    "    # Use two thirds of cores on processes that can be split.\n",
    "    arcpy.env.parallelProcessingFactor = \"66%\"\n",
    "\n",
    "    # Parse key word argument inputs\n",
    "    outfol = kwargs['outfol']\n",
    "    Input_DEM = kwargs['rasclip']\n",
    "    region = kwargs['region']\n",
    "    Input_Number_of_Processes = kwargs['Input_Number_of_Processes']\n",
    "    Check_for_edge_contamination = kwargs['Check_for_edge_contamination']\n",
    "\n",
    "\n",
    "    # Process: Pit Remove\n",
    "    DEM_fillname = region + \"_fel.tif\"\n",
    "    DEM_fill = os.path.join(outfol, DEM_fillname)\n",
    "\n",
    "    if not os.path.exists(DEM_fill):\n",
    "        # Start timing function\n",
    "        iteration_start = time.time()\n",
    "        arcpy.PitRemove(Input_Elevation_Grid=Input_DEM, Fill_Considering_only_4_way_neighbors=False,\n",
    "                         Input_Depression_Mask_Grid=\"\", Input_Number_of_Processes=Input_Number_of_Processes,\n",
    "                         Output_Pit_Removed_Elevation_Grid=DEM_fill)\n",
    "        # End timing\n",
    "        iteration_end = time.time()\n",
    "        iteration_elapsed = int(iteration_end - iteration_start)\n",
    "        iteration_success_time = datetime.datetime.now()\n",
    "        # Report success\n",
    "        print(f'Pits filled at {iteration_success_time.strftime(\"%Y-%m-%d %H:%M\")} (Elapsed time: {datetime.timedelta(seconds=iteration_elapsed)})')\n",
    "        print('----------')\n",
    "    else:\n",
    "        print(\"Pit Filled Elevation Grid already exists \")\n",
    "        print('----------')\n",
    "    DEM_fill = arcpy.Raster(DEM_fill)\n",
    "\n",
    "    # Process: D8 Flow Directions (D8 Flow Directions) ()\n",
    "    _Name_p_tifname = region + \"_p.tif\"\n",
    "    _Name_sd8_tifname = region + \"_sd8.tif\"\n",
    "    _Name_p_tif = os.path.join(outfol, _Name_p_tifname)\n",
    "    _Name_sd8_tif = os.path.join(outfol,_Name_sd8_tifname)\n",
    "    if not os.path.exists(_Name_p_tif):\n",
    "        # Start timing function\n",
    "        iteration_start = time.time()\n",
    "        arcpy.D8FlowDir(Input_Pit_Filled_Elevation_Grid=DEM_fill,\n",
    "                         Input_Number_of_Processes=Input_Number_of_Processes,\n",
    "                         Output_D8_Flow_Direction_Grid=_Name_p_tif, Output_D8_Slope_Grid=_Name_sd8_tif)\n",
    "        # End timing\n",
    "        iteration_end = time.time()\n",
    "        iteration_elapsed = int(iteration_end - iteration_start)\n",
    "        iteration_success_time = datetime.datetime.now()\n",
    "        # Report success\n",
    "        print(f'Flow Direction calculated at {iteration_success_time.strftime(\"%Y-%m-%d %H:%M\")} (Elapsed time: {datetime.timedelta(seconds=iteration_elapsed)})')\n",
    "        print('----------')\n",
    "    else:\n",
    "        print(\"Flow Direction Grid already exists\")\n",
    "        print('----------')\n",
    "    _Name_p_tif = arcpy.Raster(_Name_p_tif)\n",
    "    _Name_sd8_tif = arcpy.Raster(_Name_sd8_tif)\n",
    "\n",
    "    # Process: D8 Contributing Area (D8 Contributing Area) ()\n",
    "    _Name_ad8_tifname = region + \"_ad8.tif\"\n",
    "    _Name_ad8_tif = os.path.join(outfol, _Name_ad8_tifname)\n",
    "    if not os.path.exists(_Name_ad8_tif):\n",
    "        # Start timing function\n",
    "        iteration_start = time.time()\n",
    "        arcpy.D8ContributingArea(Input_D8_Flow_Direction_Grid=_Name_p_tif,\n",
    "                                  Input_Outlets=\"\", Input_Weight_Grid=\"\",\n",
    "                                  Check_for_edge_contamination=Check_for_edge_contamination,\n",
    "                                  Input_Number_of_Processes=Input_Number_of_Processes,\n",
    "                                  Output_D8_Contributing_Area_Grid=_Name_ad8_tif)\n",
    "        # End timing\n",
    "        iteration_end = time.time()\n",
    "        iteration_elapsed = int(iteration_end - iteration_start)\n",
    "        iteration_success_time = datetime.datetime.now()\n",
    "        # Report success\n",
    "        print(f'D8 Contributing area calculated at {iteration_success_time.strftime(\"%Y-%m-%d %H:%M\")} (Elapsed time: {datetime.timedelta(seconds=iteration_elapsed)})')\n",
    "        print('----------')\n",
    "    else:\n",
    "        print ('D8 Contributing Area Grid Already Exists')\n",
    "        print('----------')\n",
    "    _Name_ad8_tif = arcpy.Raster(_Name_ad8_tif)\n",
    "\n",
    "    # Process: Peuker Douglas Stream Definition (Peuker Douglas Stream Definition) ()\n",
    "    _Name_ss_tifname = region + \"_ss.tif\"\n",
    "    _Name_ssa_tifname = region + \"_ssa.tif\"\n",
    "    _Name_src_tifname = region + \"_src.tif\"\n",
    "    _Name_drp_txtname = region + \"_drp.txt\"\n",
    "    _Name_ss_tif = os.path.join(outfol, _Name_ss_tifname)\n",
    "    _Name_ssa_tif = os.path.join(outfol, _Name_ssa_tifname)\n",
    "    _Name_src_tif = os.path.join(outfol, _Name_src_tifname)\n",
    "    _Name_drp_txt = os.path.join(outfol, _Name_drp_txtname)\n",
    "\n",
    "    if not os.path.exists(_Name_src_tif):\n",
    "        # Start timing function\n",
    "        iteration_start = time.time()\n",
    "        arcpy.PeukerDouglasStreamDef(Input_Elevation_Grid=DEM_fill,\n",
    "                                      Input_D8_Flow_Direction_Grid=_Name_p_tif,\n",
    "                                      Weight_Center=0.4, Weight_Side=0.1, Weight_Diagonal=0.05,\n",
    "                                      Accumulation_Threshold=75,\n",
    "                                      Check_for_Edge_Contamination=Check_for_edge_contamination,\n",
    "                                      Input_Outlets=\"\", Input_Mask_Grid=\"\",\n",
    "                                      Input_D8_Contributing_Area_for_Drop_Analysis=_Name_ad8_tif,\n",
    "                                      Input_Number_of_Processes=Input_Number_of_Processes,\n",
    "                                      Output_Stream_Source_Grid=_Name_ss_tif,\n",
    "                                      Output_Accumulated_Stream_Source_Grid=_Name_ssa_tif,\n",
    "                                      Output_Stream_Raster_Grid=_Name_src_tif,\n",
    "                                      Output_Drop_Analysis_Table=_Name_drp_txt,\n",
    "                                      Use_the_range_below_to_automatically_select_threshold_by_drop_analysis=True,\n",
    "                                      Minimum_Threshold_Value=20, Maximum_Threshold_Value=500,\n",
    "                                      Number_of_Threshold_Values=15,\n",
    "                                      Use_Logarithmic_spacing_for_threshold_values=True)\n",
    "        # End timing\n",
    "        iteration_end = time.time()\n",
    "        iteration_elapsed = int(iteration_end - iteration_start)\n",
    "        iteration_success_time = datetime.datetime.now()\n",
    "        # Report success\n",
    "        print(f'Stream Definition completed at {iteration_success_time.strftime(\"%Y-%m-%d %H:%M\")} (Elapsed time: {datetime.timedelta(seconds=iteration_elapsed)})')\n",
    "        print('----------')\n",
    "    else:\n",
    "        print('Streams Already Defined')\n",
    "        print('----------')\n",
    "    _Name_ss_tif = arcpy.Raster(_Name_ss_tif)\n",
    "    _Name_ssa_tif = arcpy.Raster(_Name_ssa_tif)\n",
    "    _Name_src_tif = arcpy.Raster(_Name_src_tif)\n",
    "\n",
    "    # Process: Stream Reach And Watershed (Stream Reach And Watershed) ()\n",
    "    Output_Stream_Reach_file = region + '_stream_reach.shp'\n",
    "    Output_Stream_Order_Gridname = region + \"_ord.tif\"\n",
    "    Output_Network_Connectivity_Treename = region + \"_tree.txt\"\n",
    "    Output_Network_Coordinatesname = region + \"_coord.txt\"\n",
    "    Output_Watershed_Gridname = region + \"_w.tif\"\n",
    "    Output_Stream_Order_Grid = os.path.join(outfol, Output_Stream_Order_Gridname)\n",
    "    Output_Network_Connectivity_Tree =  os.path.join(outfol, Output_Network_Connectivity_Treename)\n",
    "    Output_Network_Coordinates = os.path.join(outfol, Output_Network_Coordinatesname)\n",
    "    Output_Watershed_Grid = os.path.join(outfol, Output_Watershed_Gridname)\n",
    "\n",
    "    if not os.path.exists(Output_Stream_Order_Grid):\n",
    "        # Start timing function\n",
    "        iteration_start = time.time()\n",
    "        arcpy.StreamReachAndWatershed(Input_Pit_Filled_Elevation_Grid=DEM_fill,\n",
    "                                       Input_D8_Flow_Direction_Grid=_Name_p_tif,\n",
    "                                       Input_D8_Drainage_Area=_Name_ad8_tif,\n",
    "                                       Input_Stream_Raster_Grid=_Name_src_tif,\n",
    "                                       Input_Outlets=\"\", Delineate_Single_Watershed=False,\n",
    "                                       Input_Number_of_Processes=Input_Number_of_Processes,\n",
    "                                       Output_Stream_Order_Grid=Output_Stream_Order_Grid,\n",
    "                                       Output_Network_Connectivity_Tree=Output_Network_Connectivity_Tree,\n",
    "                                       Output_Network_Coordinates=Output_Network_Coordinates,\n",
    "                                       Output_Stream_Reach_file=Output_Stream_Reach_file,\n",
    "                                       Output_Watershed_Grid=Output_Watershed_Grid)\n",
    "        # End timing\n",
    "        iteration_end = time.time()\n",
    "        iteration_elapsed = int(iteration_end - iteration_start)\n",
    "        iteration_success_time = datetime.datetime.now()\n",
    "        # Report success\n",
    "        print(f'Stream Reach and Watershed completed at {iteration_success_time.strftime(\"%Y-%m-%d %H:%M\")} (Elapsed time: {datetime.timedelta(seconds=iteration_elapsed)})')\n",
    "        print('----------')\n",
    "    else:\n",
    "        print ('Stream Reach and Watershed already identified')\n",
    "        print('----------')\n",
    "    Output_Stream_Order_Grid = arcpy.Raster(Output_Stream_Order_Grid)\n",
    "    Output_Watershed_Grid = arcpy.Raster(Output_Watershed_Grid)\n",
    "\n",
    "    # Process: Watershed Grid To Shapefile\n",
    "    _Name_catchments_shpname = region + \"_watersheds.shp\"\n",
    "    _Name_catchments_shp = os.path.join(outfol, _Name_catchments_shpname)\n",
    "    if not os.path.exists(_Name_catchments_shp):\n",
    "        # Start timing function\n",
    "        iteration_start = time.time()\n",
    "        arcpy.WaterShedGridToShapefile(Input_Watershed_Grid=Output_Watershed_Grid,\n",
    "                                       Output_Watershed_Shapefile=_Name_catchments_shp)\n",
    "        # End timing\n",
    "        iteration_end = time.time()\n",
    "        iteration_elapsed = int(iteration_end - iteration_start)\n",
    "        iteration_success_time = datetime.datetime.now()\n",
    "        # Report success\n",
    "        print(f'Watershed Exported at {iteration_success_time.strftime(\"%Y-%m-%d %H:%M\")} (Elapsed time: {datetime.timedelta(seconds=iteration_elapsed)})')\n",
    "        print('----------')\n",
    "    else:\n",
    "        print(\"Watershed Grid already exported to shapefile\")\n",
    "        print('----------')"
   ],
   "metadata": {
    "collapsed": false,
    "pycharm": {
     "name": "#%%\n"
    }
   }
  },
  {
   "cell_type": "markdown",
   "source": [
    "# Set Inputs\n"
   ],
   "metadata": {
    "collapsed": false
   }
  },
  {
   "cell_type": "code",
   "execution_count": 4,
   "outputs": [
    {
     "name": "stdout",
     "output_type": "stream",
     "text": [
      "Input C:\\Program Files\\TauDEM\\TauDEM5Arc\\TauDEM Tools.tbx set\n",
      "\t---------\n",
      "Input C:\\\\Users\\\\dwmerrigan\\\\Documents\\\\GitHub\\\\AKSSF\\\\hydrography\\\\data\\\\topography\\\\AKSSF_Elevation_Composite_10m.tif set\n",
      "\t---------\n",
      "Please check that the path for C:\\\\Users\\\\dwmerrigan\\\\Documents\\\\GitHub\\\\AKSSF\\\\hydrography\\\\AKSSF_Hydrography.gdb\\\\AKSSF_Bristol_Bay is correct\n",
      "\t---------\n",
      "Input C:\\\\Users\\\\dwmerrigan\\\\Documents\\\\GitHub\\\\AKSSF\\\\hydrography\\\\data\\\\Outputs\\\\TauDEM set\n",
      "\t---------\n"
     ]
    }
   ],
   "source": [
    "import arcpy\n",
    "import os\n",
    "\n",
    "# path to TauDEM toolbox on local machine\n",
    "TauLoc = r\"C:\\Program Files\\TauDEM\\TauDEM5Arc\\TauDEM Tools.tbx\"\n",
    "\n",
    "# 10m Composite DEM Clipped to Study Area\n",
    "DEM = r\"C:\\\\Users\\\\dwmerrigan\\\\Documents\\\\GitHub\\\\AKSSF\\\\hydrography\\\\data\\\\topography\\\\AKSSF_Elevation_Composite_10m.tif\"\n",
    "\n",
    "# Input feature class describing study area and processing regions that can be iterated over\n",
    "study_area = r\"C:\\\\Users\\\\dwmerrigan\\\\Documents\\\\GitHub\\\\AKSSF\\\\hydrography\\\\AKSSF_Hydrography.gdb\\\\AKSSF_Bristol_Bay\"\n",
    "\n",
    "# Folder to store outputs\n",
    "datafolder = r\"C:\\\\Users\\\\dwmerrigan\\\\Documents\\\\GitHub\\\\AKSSF\\\\hydrography\\\\data\\\\Outputs\\\\TauDEM\"\n",
    "\n",
    "inputs = [TauLoc, DEM, study_area, datafolder]\n",
    "for input in inputs:\n",
    "    if not os.path.exists(input):\n",
    "        print('Please check that the path for {} is correct'.format(input))\n",
    "        print('\\t---------')\n",
    "    else:\n",
    "        print('Input {} set'.format(input))\n",
    "        print('\\t---------')\n",
    "\n",
    "\n",
    "\n"
   ],
   "metadata": {
    "collapsed": false,
    "pycharm": {
     "name": "#%%\n"
    }
   }
  },
  {
   "cell_type": "markdown",
   "source": [
    "# Begin Processing"
   ],
   "metadata": {
    "collapsed": false
   }
  },
  {
   "cell_type": "code",
   "execution_count": 3,
   "outputs": [
    {
     "name": "stdout",
     "output_type": "stream",
     "text": [
      "Egegik output location already exists at C:\\\\Users\\\\dwmerrigan\\\\Documents\\\\GitHub\\\\AKSSF\\\\hydrography\\\\data\\\\Outputs\\\\TauDEM\\Egegik\n",
      "\t----------\n",
      "Egegik_layer\n",
      "\t----------\n",
      "'Egegik'\n",
      "\t----------\n",
      "Processing_Region = 'Egegik'\n",
      "\t----------\n",
      "{} Processing Region already exists\n",
      "\t-----------\n",
      "Begin Hydro Processing at\n",
      "Pit Filled Elevation Grid already exists \n",
      "----------\n",
      "Flow Direction Grid already exists\n",
      "----------\n",
      "D8 Contributing Area Grid Already Exists\n",
      "----------\n",
      "Streams Already Defined\n",
      "----------\n",
      "Stream Reach and Watershed already identified\n",
      "----------\n",
      "Watershed Grid already exported to shapefile\n",
      "----------\n",
      "Lakes output location already exists at C:\\\\Users\\\\dwmerrigan\\\\Documents\\\\GitHub\\\\AKSSF\\\\hydrography\\\\data\\\\Outputs\\\\TauDEM\\Lakes\n",
      "\t----------\n",
      "Lakes_layer\n",
      "\t----------\n",
      "'Lakes'\n",
      "\t----------\n",
      "Processing_Region = 'Lakes'\n",
      "\t----------\n",
      "{} Processing Region already exists\n",
      "\t-----------\n",
      "Begin Hydro Processing at\n",
      "Pit Filled Elevation Grid already exists \n",
      "----------\n",
      "Flow Direction Grid already exists\n",
      "----------\n",
      "D8 Contributing area calculated at 2021-01-29 17:36 (Elapsed time: 0:00:01)\n",
      "----------\n",
      "Stream Definition completed at 2021-01-29 17:36 (Elapsed time: 0:00:03)\n",
      "----------\n",
      "Stream Reach and Watershed completed at 2021-01-29 17:36 (Elapsed time: 0:00:02)\n",
      "----------\n",
      "Watershed Exported at 2021-01-29 17:36 (Elapsed time: 0:00:00)\n",
      "----------\n",
      "Nushagak output location created at C:\\\\Users\\\\dwmerrigan\\\\Documents\\\\GitHub\\\\AKSSF\\\\hydrography\\\\data\\\\Outputs\\\\TauDEM\\Nushagak\n",
      "\t----------\n",
      "Nushagak_layer\n",
      "\t----------\n",
      "'Nushagak'\n",
      "\t----------\n",
      "Processing_Region = 'Nushagak'\n",
      "\t----------\n",
      "Clipping DEM to Nushagak region \n",
      "\t-----------\n",
      "Begin Hydro Processing at\n",
      "Pits filled at 2021-01-29 17:36 (Elapsed time: 0:00:01)\n",
      "----------\n",
      "Flow Direction calculated at 2021-01-29 17:37 (Elapsed time: 0:00:11)\n",
      "----------\n",
      "D8 Contributing area calculated at 2021-01-29 17:37 (Elapsed time: 0:00:01)\n",
      "----------\n",
      "Stream Definition completed at 2021-01-29 17:37 (Elapsed time: 0:00:02)\n",
      "----------\n",
      "Stream Reach and Watershed completed at 2021-01-29 17:37 (Elapsed time: 0:00:01)\n",
      "----------\n",
      "Watershed Exported at 2021-01-29 17:37 (Elapsed time: 0:00:00)\n",
      "----------\n",
      "Hydronetwork(s) complete at 2021-01-29 17:37 (Elapsed time: 0:01:07)\n",
      "----------\n"
     ]
    },
    {
     "ename": "TabError",
     "evalue": "inconsistent use of tabs and spaces in indentation (TauDEM Tools.tbx#ArcGISStabilityIndex.InitializeParameters.py, line 23)",
     "output_type": "error",
     "traceback": [
      "\u001B[1;36m  File \u001B[1;32m\"C:\\Program Files\\TauDEM\\TauDEM5Arc\\TauDEM Tools.tbx#ArcGISStabilityIndex.InitializeParameters.py\"\u001B[1;36m, line \u001B[1;32m23\u001B[0m\n\u001B[1;33m    mxd = arcpy.mapping.MapDocument(\"CURRENT\")\u001B[0m\n\u001B[1;37m                                              ^\u001B[0m\n\u001B[1;31mTabError\u001B[0m\u001B[1;31m:\u001B[0m inconsistent use of tabs and spaces in indentation\n"
     ]
    },
    {
     "ename": "TabError",
     "evalue": "inconsistent use of tabs and spaces in indentation (TauDEM Tools.tbx#ParameterRegionTool.InitializeParameters.py, line 27)",
     "output_type": "error",
     "traceback": [
      "\u001B[1;36m  File \u001B[1;32m\"C:\\Program Files\\TauDEM\\TauDEM5Arc\\TauDEM Tools.tbx#ParameterRegionTool.InitializeParameters.py\"\u001B[1;36m, line \u001B[1;32m27\u001B[0m\n\u001B[1;33m    self.params[2].enabled = 0\u001B[0m\n\u001B[1;37m                              ^\u001B[0m\n\u001B[1;31mTabError\u001B[0m\u001B[1;31m:\u001B[0m inconsistent use of tabs and spaces in indentation\n"
     ]
    },
    {
     "ename": "TabError",
     "evalue": "inconsistent use of tabs and spaces in indentation (TauDEM Tools.tbx#ArcGISStabilityIndex.InitializeParameters.py, line 23)",
     "output_type": "error",
     "traceback": [
      "\u001B[1;36m  File \u001B[1;32m\"C:\\Program Files\\TauDEM\\TauDEM5Arc\\TauDEM Tools.tbx#ArcGISStabilityIndex.InitializeParameters.py\"\u001B[1;36m, line \u001B[1;32m23\u001B[0m\n\u001B[1;33m    mxd = arcpy.mapping.MapDocument(\"CURRENT\")\u001B[0m\n\u001B[1;37m                                              ^\u001B[0m\n\u001B[1;31mTabError\u001B[0m\u001B[1;31m:\u001B[0m inconsistent use of tabs and spaces in indentation\n"
     ]
    },
    {
     "ename": "TabError",
     "evalue": "inconsistent use of tabs and spaces in indentation (TauDEM Tools.tbx#ArcGISStabilityIndex.InitializeParameters.py, line 23)",
     "output_type": "error",
     "traceback": [
      "\u001B[1;36m  File \u001B[1;32m\"C:\\Program Files\\TauDEM\\TauDEM5Arc\\TauDEM Tools.tbx#ArcGISStabilityIndex.InitializeParameters.py\"\u001B[1;36m, line \u001B[1;32m23\u001B[0m\n\u001B[1;33m    mxd = arcpy.mapping.MapDocument(\"CURRENT\")\u001B[0m\n\u001B[1;37m                                              ^\u001B[0m\n\u001B[1;31mTabError\u001B[0m\u001B[1;31m:\u001B[0m inconsistent use of tabs and spaces in indentation\n"
     ]
    },
    {
     "ename": "TabError",
     "evalue": "inconsistent use of tabs and spaces in indentation (TauDEM Tools.tbx#ArcGISStabilityIndex.InitializeParameters.py, line 23)",
     "output_type": "error",
     "traceback": [
      "\u001B[1;36m  File \u001B[1;32m\"C:\\Program Files\\TauDEM\\TauDEM5Arc\\TauDEM Tools.tbx#ArcGISStabilityIndex.InitializeParameters.py\"\u001B[1;36m, line \u001B[1;32m23\u001B[0m\n\u001B[1;33m    mxd = arcpy.mapping.MapDocument(\"CURRENT\")\u001B[0m\n\u001B[1;37m                                              ^\u001B[0m\n\u001B[1;31mTabError\u001B[0m\u001B[1;31m:\u001B[0m inconsistent use of tabs and spaces in indentation\n"
     ]
    },
    {
     "ename": "TabError",
     "evalue": "inconsistent use of tabs and spaces in indentation (TauDEM Tools.tbx#ArcGISStabilityIndex.InitializeParameters.py, line 23)",
     "output_type": "error",
     "traceback": [
      "\u001B[1;36m  File \u001B[1;32m\"C:\\Program Files\\TauDEM\\TauDEM5Arc\\TauDEM Tools.tbx#ArcGISStabilityIndex.InitializeParameters.py\"\u001B[1;36m, line \u001B[1;32m23\u001B[0m\n\u001B[1;33m    mxd = arcpy.mapping.MapDocument(\"CURRENT\")\u001B[0m\n\u001B[1;37m                                              ^\u001B[0m\n\u001B[1;31mTabError\u001B[0m\u001B[1;31m:\u001B[0m inconsistent use of tabs and spaces in indentation\n"
     ]
    },
    {
     "ename": "TabError",
     "evalue": "inconsistent use of tabs and spaces in indentation (TauDEM Tools.tbx#ArcGISStabilityIndex.InitializeParameters.py, line 23)",
     "output_type": "error",
     "traceback": [
      "\u001B[1;36m  File \u001B[1;32m\"C:\\Program Files\\TauDEM\\TauDEM5Arc\\TauDEM Tools.tbx#ArcGISStabilityIndex.InitializeParameters.py\"\u001B[1;36m, line \u001B[1;32m23\u001B[0m\n\u001B[1;33m    mxd = arcpy.mapping.MapDocument(\"CURRENT\")\u001B[0m\n\u001B[1;37m                                              ^\u001B[0m\n\u001B[1;31mTabError\u001B[0m\u001B[1;31m:\u001B[0m inconsistent use of tabs and spaces in indentation\n"
     ]
    },
    {
     "ename": "TabError",
     "evalue": "inconsistent use of tabs and spaces in indentation (TauDEM Tools.tbx#ArcGISStabilityIndex.InitializeParameters.py, line 23)",
     "output_type": "error",
     "traceback": [
      "\u001B[1;36m  File \u001B[1;32m\"C:\\Program Files\\TauDEM\\TauDEM5Arc\\TauDEM Tools.tbx#ArcGISStabilityIndex.InitializeParameters.py\"\u001B[1;36m, line \u001B[1;32m23\u001B[0m\n\u001B[1;33m    mxd = arcpy.mapping.MapDocument(\"CURRENT\")\u001B[0m\n\u001B[1;37m                                              ^\u001B[0m\n\u001B[1;31mTabError\u001B[0m\u001B[1;31m:\u001B[0m inconsistent use of tabs and spaces in indentation\n"
     ]
    },
    {
     "ename": "TabError",
     "evalue": "inconsistent use of tabs and spaces in indentation (TauDEM Tools.tbx#ArcGISStabilityIndex.InitializeParameters.py, line 23)",
     "output_type": "error",
     "traceback": [
      "\u001B[1;36m  File \u001B[1;32m\"C:\\Program Files\\TauDEM\\TauDEM5Arc\\TauDEM Tools.tbx#ArcGISStabilityIndex.InitializeParameters.py\"\u001B[1;36m, line \u001B[1;32m23\u001B[0m\n\u001B[1;33m    mxd = arcpy.mapping.MapDocument(\"CURRENT\")\u001B[0m\n\u001B[1;37m                                              ^\u001B[0m\n\u001B[1;31mTabError\u001B[0m\u001B[1;31m:\u001B[0m inconsistent use of tabs and spaces in indentation\n"
     ]
    },
    {
     "ename": "TabError",
     "evalue": "inconsistent use of tabs and spaces in indentation (TauDEM Tools.tbx#ParameterRegionTool.InitializeParameters.py, line 27)",
     "output_type": "error",
     "traceback": [
      "\u001B[1;36m  File \u001B[1;32m\"C:\\Program Files\\TauDEM\\TauDEM5Arc\\TauDEM Tools.tbx#ParameterRegionTool.InitializeParameters.py\"\u001B[1;36m, line \u001B[1;32m27\u001B[0m\n\u001B[1;33m    self.params[2].enabled = 0\u001B[0m\n\u001B[1;37m                              ^\u001B[0m\n\u001B[1;31mTabError\u001B[0m\u001B[1;31m:\u001B[0m inconsistent use of tabs and spaces in indentation\n"
     ]
    },
    {
     "ename": "TabError",
     "evalue": "inconsistent use of tabs and spaces in indentation (TauDEM Tools.tbx#ParameterRegionTool.InitializeParameters.py, line 27)",
     "output_type": "error",
     "traceback": [
      "\u001B[1;36m  File \u001B[1;32m\"C:\\Program Files\\TauDEM\\TauDEM5Arc\\TauDEM Tools.tbx#ParameterRegionTool.InitializeParameters.py\"\u001B[1;36m, line \u001B[1;32m27\u001B[0m\n\u001B[1;33m    self.params[2].enabled = 0\u001B[0m\n\u001B[1;37m                              ^\u001B[0m\n\u001B[1;31mTabError\u001B[0m\u001B[1;31m:\u001B[0m inconsistent use of tabs and spaces in indentation\n"
     ]
    },
    {
     "ename": "TabError",
     "evalue": "inconsistent use of tabs and spaces in indentation (TauDEM Tools.tbx#ParameterRegionTool.InitializeParameters.py, line 27)",
     "output_type": "error",
     "traceback": [
      "\u001B[1;36m  File \u001B[1;32m\"C:\\Program Files\\TauDEM\\TauDEM5Arc\\TauDEM Tools.tbx#ParameterRegionTool.InitializeParameters.py\"\u001B[1;36m, line \u001B[1;32m27\u001B[0m\n\u001B[1;33m    self.params[2].enabled = 0\u001B[0m\n\u001B[1;37m                              ^\u001B[0m\n\u001B[1;31mTabError\u001B[0m\u001B[1;31m:\u001B[0m inconsistent use of tabs and spaces in indentation\n"
     ]
    },
    {
     "ename": "TabError",
     "evalue": "inconsistent use of tabs and spaces in indentation (TauDEM Tools.tbx#ParameterRegionTool.InitializeParameters.py, line 27)",
     "output_type": "error",
     "traceback": [
      "\u001B[1;36m  File \u001B[1;32m\"C:\\Program Files\\TauDEM\\TauDEM5Arc\\TauDEM Tools.tbx#ParameterRegionTool.InitializeParameters.py\"\u001B[1;36m, line \u001B[1;32m27\u001B[0m\n\u001B[1;33m    self.params[2].enabled = 0\u001B[0m\n\u001B[1;37m                              ^\u001B[0m\n\u001B[1;31mTabError\u001B[0m\u001B[1;31m:\u001B[0m inconsistent use of tabs and spaces in indentation\n"
     ]
    },
    {
     "ename": "TabError",
     "evalue": "inconsistent use of tabs and spaces in indentation (TauDEM Tools.tbx#ParameterRegionTool.InitializeParameters.py, line 27)",
     "output_type": "error",
     "traceback": [
      "\u001B[1;36m  File \u001B[1;32m\"C:\\Program Files\\TauDEM\\TauDEM5Arc\\TauDEM Tools.tbx#ParameterRegionTool.InitializeParameters.py\"\u001B[1;36m, line \u001B[1;32m27\u001B[0m\n\u001B[1;33m    self.params[2].enabled = 0\u001B[0m\n\u001B[1;37m                              ^\u001B[0m\n\u001B[1;31mTabError\u001B[0m\u001B[1;31m:\u001B[0m inconsistent use of tabs and spaces in indentation\n"
     ]
    },
    {
     "ename": "TabError",
     "evalue": "inconsistent use of tabs and spaces in indentation (TauDEM Tools.tbx#ParameterRegionTool.InitializeParameters.py, line 27)",
     "output_type": "error",
     "traceback": [
      "\u001B[1;36m  File \u001B[1;32m\"C:\\Program Files\\TauDEM\\TauDEM5Arc\\TauDEM Tools.tbx#ParameterRegionTool.InitializeParameters.py\"\u001B[1;36m, line \u001B[1;32m27\u001B[0m\n\u001B[1;33m    self.params[2].enabled = 0\u001B[0m\n\u001B[1;37m                              ^\u001B[0m\n\u001B[1;31mTabError\u001B[0m\u001B[1;31m:\u001B[0m inconsistent use of tabs and spaces in indentation\n"
     ]
    },
    {
     "ename": "TabError",
     "evalue": "inconsistent use of tabs and spaces in indentation (TauDEM Tools.tbx#ParameterRegionTool.InitializeParameters.py, line 27)",
     "output_type": "error",
     "traceback": [
      "\u001B[1;36m  File \u001B[1;32m\"C:\\Program Files\\TauDEM\\TauDEM5Arc\\TauDEM Tools.tbx#ParameterRegionTool.InitializeParameters.py\"\u001B[1;36m, line \u001B[1;32m27\u001B[0m\n\u001B[1;33m    self.params[2].enabled = 0\u001B[0m\n\u001B[1;37m                              ^\u001B[0m\n\u001B[1;31mTabError\u001B[0m\u001B[1;31m:\u001B[0m inconsistent use of tabs and spaces in indentation\n"
     ]
    },
    {
     "ename": "TabError",
     "evalue": "inconsistent use of tabs and spaces in indentation (TauDEM Tools.tbx#ArcGISStabilityIndex.InitializeParameters.py, line 23)",
     "output_type": "error",
     "traceback": [
      "\u001B[1;36m  File \u001B[1;32m\"C:\\Program Files\\TauDEM\\TauDEM5Arc\\TauDEM Tools.tbx#ArcGISStabilityIndex.InitializeParameters.py\"\u001B[1;36m, line \u001B[1;32m23\u001B[0m\n\u001B[1;33m    mxd = arcpy.mapping.MapDocument(\"CURRENT\")\u001B[0m\n\u001B[1;37m                                              ^\u001B[0m\n\u001B[1;31mTabError\u001B[0m\u001B[1;31m:\u001B[0m inconsistent use of tabs and spaces in indentation\n"
     ]
    },
    {
     "ename": "TabError",
     "evalue": "inconsistent use of tabs and spaces in indentation (TauDEM Tools.tbx#ParameterRegionTool.InitializeParameters.py, line 27)",
     "output_type": "error",
     "traceback": [
      "\u001B[1;36m  File \u001B[1;32m\"C:\\Program Files\\TauDEM\\TauDEM5Arc\\TauDEM Tools.tbx#ParameterRegionTool.InitializeParameters.py\"\u001B[1;36m, line \u001B[1;32m27\u001B[0m\n\u001B[1;33m    self.params[2].enabled = 0\u001B[0m\n\u001B[1;37m                              ^\u001B[0m\n\u001B[1;31mTabError\u001B[0m\u001B[1;31m:\u001B[0m inconsistent use of tabs and spaces in indentation\n"
     ]
    },
    {
     "ename": "TabError",
     "evalue": "inconsistent use of tabs and spaces in indentation (TauDEM Tools.tbx#ArcGISStabilityIndex.InitializeParameters.py, line 23)",
     "output_type": "error",
     "traceback": [
      "\u001B[1;36m  File \u001B[1;32m\"C:\\Program Files\\TauDEM\\TauDEM5Arc\\TauDEM Tools.tbx#ArcGISStabilityIndex.InitializeParameters.py\"\u001B[1;36m, line \u001B[1;32m23\u001B[0m\n\u001B[1;33m    mxd = arcpy.mapping.MapDocument(\"CURRENT\")\u001B[0m\n\u001B[1;37m                                              ^\u001B[0m\n\u001B[1;31mTabError\u001B[0m\u001B[1;31m:\u001B[0m inconsistent use of tabs and spaces in indentation\n"
     ]
    },
    {
     "ename": "TabError",
     "evalue": "inconsistent use of tabs and spaces in indentation (TauDEM Tools.tbx#ArcGISStabilityIndex.InitializeParameters.py, line 23)",
     "output_type": "error",
     "traceback": [
      "\u001B[1;36m  File \u001B[1;32m\"C:\\Program Files\\TauDEM\\TauDEM5Arc\\TauDEM Tools.tbx#ArcGISStabilityIndex.InitializeParameters.py\"\u001B[1;36m, line \u001B[1;32m23\u001B[0m\n\u001B[1;33m    mxd = arcpy.mapping.MapDocument(\"CURRENT\")\u001B[0m\n\u001B[1;37m                                              ^\u001B[0m\n\u001B[1;31mTabError\u001B[0m\u001B[1;31m:\u001B[0m inconsistent use of tabs and spaces in indentation\n"
     ]
    },
    {
     "ename": "TabError",
     "evalue": "inconsistent use of tabs and spaces in indentation (TauDEM Tools.tbx#ArcGISStabilityIndex.InitializeParameters.py, line 23)",
     "output_type": "error",
     "traceback": [
      "\u001B[1;36m  File \u001B[1;32m\"C:\\Program Files\\TauDEM\\TauDEM5Arc\\TauDEM Tools.tbx#ArcGISStabilityIndex.InitializeParameters.py\"\u001B[1;36m, line \u001B[1;32m23\u001B[0m\n\u001B[1;33m    mxd = arcpy.mapping.MapDocument(\"CURRENT\")\u001B[0m\n\u001B[1;37m                                              ^\u001B[0m\n\u001B[1;31mTabError\u001B[0m\u001B[1;31m:\u001B[0m inconsistent use of tabs and spaces in indentation\n"
     ]
    },
    {
     "ename": "TabError",
     "evalue": "inconsistent use of tabs and spaces in indentation (TauDEM Tools.tbx#ArcGISStabilityIndex.InitializeParameters.py, line 23)",
     "output_type": "error",
     "traceback": [
      "\u001B[1;36m  File \u001B[1;32m\"C:\\Program Files\\TauDEM\\TauDEM5Arc\\TauDEM Tools.tbx#ArcGISStabilityIndex.InitializeParameters.py\"\u001B[1;36m, line \u001B[1;32m23\u001B[0m\n\u001B[1;33m    mxd = arcpy.mapping.MapDocument(\"CURRENT\")\u001B[0m\n\u001B[1;37m                                              ^\u001B[0m\n\u001B[1;31mTabError\u001B[0m\u001B[1;31m:\u001B[0m inconsistent use of tabs and spaces in indentation\n"
     ]
    },
    {
     "ename": "TabError",
     "evalue": "inconsistent use of tabs and spaces in indentation (TauDEM Tools.tbx#ArcGISStabilityIndex.InitializeParameters.py, line 23)",
     "output_type": "error",
     "traceback": [
      "\u001B[1;36m  File \u001B[1;32m\"C:\\Program Files\\TauDEM\\TauDEM5Arc\\TauDEM Tools.tbx#ArcGISStabilityIndex.InitializeParameters.py\"\u001B[1;36m, line \u001B[1;32m23\u001B[0m\n\u001B[1;33m    mxd = arcpy.mapping.MapDocument(\"CURRENT\")\u001B[0m\n\u001B[1;37m                                              ^\u001B[0m\n\u001B[1;31mTabError\u001B[0m\u001B[1;31m:\u001B[0m inconsistent use of tabs and spaces in indentation\n"
     ]
    },
    {
     "ename": "TabError",
     "evalue": "inconsistent use of tabs and spaces in indentation (TauDEM Tools.tbx#ArcGISStabilityIndex.InitializeParameters.py, line 23)",
     "output_type": "error",
     "traceback": [
      "\u001B[1;36m  File \u001B[1;32m\"C:\\Program Files\\TauDEM\\TauDEM5Arc\\TauDEM Tools.tbx#ArcGISStabilityIndex.InitializeParameters.py\"\u001B[1;36m, line \u001B[1;32m23\u001B[0m\n\u001B[1;33m    mxd = arcpy.mapping.MapDocument(\"CURRENT\")\u001B[0m\n\u001B[1;37m                                              ^\u001B[0m\n\u001B[1;31mTabError\u001B[0m\u001B[1;31m:\u001B[0m inconsistent use of tabs and spaces in indentation\n"
     ]
    },
    {
     "ename": "TabError",
     "evalue": "inconsistent use of tabs and spaces in indentation (TauDEM Tools.tbx#ArcGISStabilityIndex.InitializeParameters.py, line 23)",
     "output_type": "error",
     "traceback": [
      "\u001B[1;36m  File \u001B[1;32m\"C:\\Program Files\\TauDEM\\TauDEM5Arc\\TauDEM Tools.tbx#ArcGISStabilityIndex.InitializeParameters.py\"\u001B[1;36m, line \u001B[1;32m23\u001B[0m\n\u001B[1;33m    mxd = arcpy.mapping.MapDocument(\"CURRENT\")\u001B[0m\n\u001B[1;37m                                              ^\u001B[0m\n\u001B[1;31mTabError\u001B[0m\u001B[1;31m:\u001B[0m inconsistent use of tabs and spaces in indentation\n"
     ]
    },
    {
     "ename": "TabError",
     "evalue": "inconsistent use of tabs and spaces in indentation (TauDEM Tools.tbx#ParameterRegionTool.InitializeParameters.py, line 27)",
     "output_type": "error",
     "traceback": [
      "\u001B[1;36m  File \u001B[1;32m\"C:\\Program Files\\TauDEM\\TauDEM5Arc\\TauDEM Tools.tbx#ParameterRegionTool.InitializeParameters.py\"\u001B[1;36m, line \u001B[1;32m27\u001B[0m\n\u001B[1;33m    self.params[2].enabled = 0\u001B[0m\n\u001B[1;37m                              ^\u001B[0m\n\u001B[1;31mTabError\u001B[0m\u001B[1;31m:\u001B[0m inconsistent use of tabs and spaces in indentation\n"
     ]
    },
    {
     "ename": "TabError",
     "evalue": "inconsistent use of tabs and spaces in indentation (TauDEM Tools.tbx#ParameterRegionTool.InitializeParameters.py, line 27)",
     "output_type": "error",
     "traceback": [
      "\u001B[1;36m  File \u001B[1;32m\"C:\\Program Files\\TauDEM\\TauDEM5Arc\\TauDEM Tools.tbx#ParameterRegionTool.InitializeParameters.py\"\u001B[1;36m, line \u001B[1;32m27\u001B[0m\n\u001B[1;33m    self.params[2].enabled = 0\u001B[0m\n\u001B[1;37m                              ^\u001B[0m\n\u001B[1;31mTabError\u001B[0m\u001B[1;31m:\u001B[0m inconsistent use of tabs and spaces in indentation\n"
     ]
    },
    {
     "ename": "TabError",
     "evalue": "inconsistent use of tabs and spaces in indentation (TauDEM Tools.tbx#ParameterRegionTool.InitializeParameters.py, line 27)",
     "output_type": "error",
     "traceback": [
      "\u001B[1;36m  File \u001B[1;32m\"C:\\Program Files\\TauDEM\\TauDEM5Arc\\TauDEM Tools.tbx#ParameterRegionTool.InitializeParameters.py\"\u001B[1;36m, line \u001B[1;32m27\u001B[0m\n\u001B[1;33m    self.params[2].enabled = 0\u001B[0m\n\u001B[1;37m                              ^\u001B[0m\n\u001B[1;31mTabError\u001B[0m\u001B[1;31m:\u001B[0m inconsistent use of tabs and spaces in indentation\n"
     ]
    },
    {
     "ename": "TabError",
     "evalue": "inconsistent use of tabs and spaces in indentation (TauDEM Tools.tbx#ParameterRegionTool.InitializeParameters.py, line 27)",
     "output_type": "error",
     "traceback": [
      "\u001B[1;36m  File \u001B[1;32m\"C:\\Program Files\\TauDEM\\TauDEM5Arc\\TauDEM Tools.tbx#ParameterRegionTool.InitializeParameters.py\"\u001B[1;36m, line \u001B[1;32m27\u001B[0m\n\u001B[1;33m    self.params[2].enabled = 0\u001B[0m\n\u001B[1;37m                              ^\u001B[0m\n\u001B[1;31mTabError\u001B[0m\u001B[1;31m:\u001B[0m inconsistent use of tabs and spaces in indentation\n"
     ]
    },
    {
     "ename": "TabError",
     "evalue": "inconsistent use of tabs and spaces in indentation (TauDEM Tools.tbx#ParameterRegionTool.InitializeParameters.py, line 27)",
     "output_type": "error",
     "traceback": [
      "\u001B[1;36m  File \u001B[1;32m\"C:\\Program Files\\TauDEM\\TauDEM5Arc\\TauDEM Tools.tbx#ParameterRegionTool.InitializeParameters.py\"\u001B[1;36m, line \u001B[1;32m27\u001B[0m\n\u001B[1;33m    self.params[2].enabled = 0\u001B[0m\n\u001B[1;37m                              ^\u001B[0m\n\u001B[1;31mTabError\u001B[0m\u001B[1;31m:\u001B[0m inconsistent use of tabs and spaces in indentation\n"
     ]
    },
    {
     "ename": "TabError",
     "evalue": "inconsistent use of tabs and spaces in indentation (TauDEM Tools.tbx#ParameterRegionTool.InitializeParameters.py, line 27)",
     "output_type": "error",
     "traceback": [
      "\u001B[1;36m  File \u001B[1;32m\"C:\\Program Files\\TauDEM\\TauDEM5Arc\\TauDEM Tools.tbx#ParameterRegionTool.InitializeParameters.py\"\u001B[1;36m, line \u001B[1;32m27\u001B[0m\n\u001B[1;33m    self.params[2].enabled = 0\u001B[0m\n\u001B[1;37m                              ^\u001B[0m\n\u001B[1;31mTabError\u001B[0m\u001B[1;31m:\u001B[0m inconsistent use of tabs and spaces in indentation\n"
     ]
    },
    {
     "ename": "TabError",
     "evalue": "inconsistent use of tabs and spaces in indentation (TauDEM Tools.tbx#ParameterRegionTool.InitializeParameters.py, line 27)",
     "output_type": "error",
     "traceback": [
      "\u001B[1;36m  File \u001B[1;32m\"C:\\Program Files\\TauDEM\\TauDEM5Arc\\TauDEM Tools.tbx#ParameterRegionTool.InitializeParameters.py\"\u001B[1;36m, line \u001B[1;32m27\u001B[0m\n\u001B[1;33m    self.params[2].enabled = 0\u001B[0m\n\u001B[1;37m                              ^\u001B[0m\n\u001B[1;31mTabError\u001B[0m\u001B[1;31m:\u001B[0m inconsistent use of tabs and spaces in indentation\n"
     ]
    },
    {
     "ename": "TabError",
     "evalue": "inconsistent use of tabs and spaces in indentation (TauDEM Tools.tbx#ArcGISStabilityIndex.InitializeParameters.py, line 23)",
     "output_type": "error",
     "traceback": [
      "\u001B[1;36m  File \u001B[1;32m\"C:\\Program Files\\TauDEM\\TauDEM5Arc\\TauDEM Tools.tbx#ArcGISStabilityIndex.InitializeParameters.py\"\u001B[1;36m, line \u001B[1;32m23\u001B[0m\n\u001B[1;33m    mxd = arcpy.mapping.MapDocument(\"CURRENT\")\u001B[0m\n\u001B[1;37m                                              ^\u001B[0m\n\u001B[1;31mTabError\u001B[0m\u001B[1;31m:\u001B[0m inconsistent use of tabs and spaces in indentation\n"
     ]
    },
    {
     "ename": "TabError",
     "evalue": "inconsistent use of tabs and spaces in indentation (TauDEM Tools.tbx#ParameterRegionTool.InitializeParameters.py, line 27)",
     "output_type": "error",
     "traceback": [
      "\u001B[1;36m  File \u001B[1;32m\"C:\\Program Files\\TauDEM\\TauDEM5Arc\\TauDEM Tools.tbx#ParameterRegionTool.InitializeParameters.py\"\u001B[1;36m, line \u001B[1;32m27\u001B[0m\n\u001B[1;33m    self.params[2].enabled = 0\u001B[0m\n\u001B[1;37m                              ^\u001B[0m\n\u001B[1;31mTabError\u001B[0m\u001B[1;31m:\u001B[0m inconsistent use of tabs and spaces in indentation\n"
     ]
    },
    {
     "ename": "TabError",
     "evalue": "inconsistent use of tabs and spaces in indentation (TauDEM Tools.tbx#ArcGISStabilityIndex.InitializeParameters.py, line 23)",
     "output_type": "error",
     "traceback": [
      "\u001B[1;36m  File \u001B[1;32m\"C:\\Program Files\\TauDEM\\TauDEM5Arc\\TauDEM Tools.tbx#ArcGISStabilityIndex.InitializeParameters.py\"\u001B[1;36m, line \u001B[1;32m23\u001B[0m\n\u001B[1;33m    mxd = arcpy.mapping.MapDocument(\"CURRENT\")\u001B[0m\n\u001B[1;37m                                              ^\u001B[0m\n\u001B[1;31mTabError\u001B[0m\u001B[1;31m:\u001B[0m inconsistent use of tabs and spaces in indentation\n"
     ]
    },
    {
     "ename": "TabError",
     "evalue": "inconsistent use of tabs and spaces in indentation (TauDEM Tools.tbx#ArcGISStabilityIndex.InitializeParameters.py, line 23)",
     "output_type": "error",
     "traceback": [
      "\u001B[1;36m  File \u001B[1;32m\"C:\\Program Files\\TauDEM\\TauDEM5Arc\\TauDEM Tools.tbx#ArcGISStabilityIndex.InitializeParameters.py\"\u001B[1;36m, line \u001B[1;32m23\u001B[0m\n\u001B[1;33m    mxd = arcpy.mapping.MapDocument(\"CURRENT\")\u001B[0m\n\u001B[1;37m                                              ^\u001B[0m\n\u001B[1;31mTabError\u001B[0m\u001B[1;31m:\u001B[0m inconsistent use of tabs and spaces in indentation\n"
     ]
    },
    {
     "ename": "TabError",
     "evalue": "inconsistent use of tabs and spaces in indentation (TauDEM Tools.tbx#ArcGISStabilityIndex.InitializeParameters.py, line 23)",
     "output_type": "error",
     "traceback": [
      "\u001B[1;36m  File \u001B[1;32m\"C:\\Program Files\\TauDEM\\TauDEM5Arc\\TauDEM Tools.tbx#ArcGISStabilityIndex.InitializeParameters.py\"\u001B[1;36m, line \u001B[1;32m23\u001B[0m\n\u001B[1;33m    mxd = arcpy.mapping.MapDocument(\"CURRENT\")\u001B[0m\n\u001B[1;37m                                              ^\u001B[0m\n\u001B[1;31mTabError\u001B[0m\u001B[1;31m:\u001B[0m inconsistent use of tabs and spaces in indentation\n"
     ]
    },
    {
     "ename": "TabError",
     "evalue": "inconsistent use of tabs and spaces in indentation (TauDEM Tools.tbx#ArcGISStabilityIndex.InitializeParameters.py, line 23)",
     "output_type": "error",
     "traceback": [
      "\u001B[1;36m  File \u001B[1;32m\"C:\\Program Files\\TauDEM\\TauDEM5Arc\\TauDEM Tools.tbx#ArcGISStabilityIndex.InitializeParameters.py\"\u001B[1;36m, line \u001B[1;32m23\u001B[0m\n\u001B[1;33m    mxd = arcpy.mapping.MapDocument(\"CURRENT\")\u001B[0m\n\u001B[1;37m                                              ^\u001B[0m\n\u001B[1;31mTabError\u001B[0m\u001B[1;31m:\u001B[0m inconsistent use of tabs and spaces in indentation\n"
     ]
    },
    {
     "ename": "TabError",
     "evalue": "inconsistent use of tabs and spaces in indentation (TauDEM Tools.tbx#ArcGISStabilityIndex.InitializeParameters.py, line 23)",
     "output_type": "error",
     "traceback": [
      "\u001B[1;36m  File \u001B[1;32m\"C:\\Program Files\\TauDEM\\TauDEM5Arc\\TauDEM Tools.tbx#ArcGISStabilityIndex.InitializeParameters.py\"\u001B[1;36m, line \u001B[1;32m23\u001B[0m\n\u001B[1;33m    mxd = arcpy.mapping.MapDocument(\"CURRENT\")\u001B[0m\n\u001B[1;37m                                              ^\u001B[0m\n\u001B[1;31mTabError\u001B[0m\u001B[1;31m:\u001B[0m inconsistent use of tabs and spaces in indentation\n"
     ]
    },
    {
     "ename": "TabError",
     "evalue": "inconsistent use of tabs and spaces in indentation (TauDEM Tools.tbx#ArcGISStabilityIndex.InitializeParameters.py, line 23)",
     "output_type": "error",
     "traceback": [
      "\u001B[1;36m  File \u001B[1;32m\"C:\\Program Files\\TauDEM\\TauDEM5Arc\\TauDEM Tools.tbx#ArcGISStabilityIndex.InitializeParameters.py\"\u001B[1;36m, line \u001B[1;32m23\u001B[0m\n\u001B[1;33m    mxd = arcpy.mapping.MapDocument(\"CURRENT\")\u001B[0m\n\u001B[1;37m                                              ^\u001B[0m\n\u001B[1;31mTabError\u001B[0m\u001B[1;31m:\u001B[0m inconsistent use of tabs and spaces in indentation\n"
     ]
    },
    {
     "ename": "TabError",
     "evalue": "inconsistent use of tabs and spaces in indentation (TauDEM Tools.tbx#ArcGISStabilityIndex.InitializeParameters.py, line 23)",
     "output_type": "error",
     "traceback": [
      "\u001B[1;36m  File \u001B[1;32m\"C:\\Program Files\\TauDEM\\TauDEM5Arc\\TauDEM Tools.tbx#ArcGISStabilityIndex.InitializeParameters.py\"\u001B[1;36m, line \u001B[1;32m23\u001B[0m\n\u001B[1;33m    mxd = arcpy.mapping.MapDocument(\"CURRENT\")\u001B[0m\n\u001B[1;37m                                              ^\u001B[0m\n\u001B[1;31mTabError\u001B[0m\u001B[1;31m:\u001B[0m inconsistent use of tabs and spaces in indentation\n"
     ]
    },
    {
     "ename": "TabError",
     "evalue": "inconsistent use of tabs and spaces in indentation (TauDEM Tools.tbx#ParameterRegionTool.InitializeParameters.py, line 27)",
     "output_type": "error",
     "traceback": [
      "\u001B[1;36m  File \u001B[1;32m\"C:\\Program Files\\TauDEM\\TauDEM5Arc\\TauDEM Tools.tbx#ParameterRegionTool.InitializeParameters.py\"\u001B[1;36m, line \u001B[1;32m27\u001B[0m\n\u001B[1;33m    self.params[2].enabled = 0\u001B[0m\n\u001B[1;37m                              ^\u001B[0m\n\u001B[1;31mTabError\u001B[0m\u001B[1;31m:\u001B[0m inconsistent use of tabs and spaces in indentation\n"
     ]
    },
    {
     "ename": "TabError",
     "evalue": "inconsistent use of tabs and spaces in indentation (TauDEM Tools.tbx#ParameterRegionTool.InitializeParameters.py, line 27)",
     "output_type": "error",
     "traceback": [
      "\u001B[1;36m  File \u001B[1;32m\"C:\\Program Files\\TauDEM\\TauDEM5Arc\\TauDEM Tools.tbx#ParameterRegionTool.InitializeParameters.py\"\u001B[1;36m, line \u001B[1;32m27\u001B[0m\n\u001B[1;33m    self.params[2].enabled = 0\u001B[0m\n\u001B[1;37m                              ^\u001B[0m\n\u001B[1;31mTabError\u001B[0m\u001B[1;31m:\u001B[0m inconsistent use of tabs and spaces in indentation\n"
     ]
    },
    {
     "ename": "TabError",
     "evalue": "inconsistent use of tabs and spaces in indentation (TauDEM Tools.tbx#ParameterRegionTool.InitializeParameters.py, line 27)",
     "output_type": "error",
     "traceback": [
      "\u001B[1;36m  File \u001B[1;32m\"C:\\Program Files\\TauDEM\\TauDEM5Arc\\TauDEM Tools.tbx#ParameterRegionTool.InitializeParameters.py\"\u001B[1;36m, line \u001B[1;32m27\u001B[0m\n\u001B[1;33m    self.params[2].enabled = 0\u001B[0m\n\u001B[1;37m                              ^\u001B[0m\n\u001B[1;31mTabError\u001B[0m\u001B[1;31m:\u001B[0m inconsistent use of tabs and spaces in indentation\n"
     ]
    },
    {
     "ename": "TabError",
     "evalue": "inconsistent use of tabs and spaces in indentation (TauDEM Tools.tbx#ParameterRegionTool.InitializeParameters.py, line 27)",
     "output_type": "error",
     "traceback": [
      "\u001B[1;36m  File \u001B[1;32m\"C:\\Program Files\\TauDEM\\TauDEM5Arc\\TauDEM Tools.tbx#ParameterRegionTool.InitializeParameters.py\"\u001B[1;36m, line \u001B[1;32m27\u001B[0m\n\u001B[1;33m    self.params[2].enabled = 0\u001B[0m\n\u001B[1;37m                              ^\u001B[0m\n\u001B[1;31mTabError\u001B[0m\u001B[1;31m:\u001B[0m inconsistent use of tabs and spaces in indentation\n"
     ]
    },
    {
     "ename": "TabError",
     "evalue": "inconsistent use of tabs and spaces in indentation (TauDEM Tools.tbx#ParameterRegionTool.InitializeParameters.py, line 27)",
     "output_type": "error",
     "traceback": [
      "\u001B[1;36m  File \u001B[1;32m\"C:\\Program Files\\TauDEM\\TauDEM5Arc\\TauDEM Tools.tbx#ParameterRegionTool.InitializeParameters.py\"\u001B[1;36m, line \u001B[1;32m27\u001B[0m\n\u001B[1;33m    self.params[2].enabled = 0\u001B[0m\n\u001B[1;37m                              ^\u001B[0m\n\u001B[1;31mTabError\u001B[0m\u001B[1;31m:\u001B[0m inconsistent use of tabs and spaces in indentation\n"
     ]
    },
    {
     "ename": "TabError",
     "evalue": "inconsistent use of tabs and spaces in indentation (TauDEM Tools.tbx#ParameterRegionTool.InitializeParameters.py, line 27)",
     "output_type": "error",
     "traceback": [
      "\u001B[1;36m  File \u001B[1;32m\"C:\\Program Files\\TauDEM\\TauDEM5Arc\\TauDEM Tools.tbx#ParameterRegionTool.InitializeParameters.py\"\u001B[1;36m, line \u001B[1;32m27\u001B[0m\n\u001B[1;33m    self.params[2].enabled = 0\u001B[0m\n\u001B[1;37m                              ^\u001B[0m\n\u001B[1;31mTabError\u001B[0m\u001B[1;31m:\u001B[0m inconsistent use of tabs and spaces in indentation\n"
     ]
    },
    {
     "ename": "TabError",
     "evalue": "inconsistent use of tabs and spaces in indentation (TauDEM Tools.tbx#ParameterRegionTool.InitializeParameters.py, line 27)",
     "output_type": "error",
     "traceback": [
      "\u001B[1;36m  File \u001B[1;32m\"C:\\Program Files\\TauDEM\\TauDEM5Arc\\TauDEM Tools.tbx#ParameterRegionTool.InitializeParameters.py\"\u001B[1;36m, line \u001B[1;32m27\u001B[0m\n\u001B[1;33m    self.params[2].enabled = 0\u001B[0m\n\u001B[1;37m                              ^\u001B[0m\n\u001B[1;31mTabError\u001B[0m\u001B[1;31m:\u001B[0m inconsistent use of tabs and spaces in indentation\n"
     ]
    }
   ],
   "source": [
    "import datetime\n",
    "import time\n",
    "arcpy.env.overwriteOutput = True\n",
    "arcpy.env.snapRaster = DEM\n",
    "\n",
    "proc_list = ['Egegik', 'Naknek']\n",
    "\n",
    "# Start timing function\n",
    "processStart = time.time()\n",
    "\n",
    "for region in proc_list:\n",
    "    outfol = os.path.join(datafolder, region)\n",
    "    if not os.path.exists(outfol):\n",
    "        os.makedirs(outfol)\n",
    "        print('{} output location created at {}'.format(region, outfol))\n",
    "        print('\\t----------')\n",
    "    else:\n",
    "        print('{} output location already exists at {}'.format(region, outfol))\n",
    "        print('\\t----------')\n",
    "\n",
    "    arcpy.env.workspace = outfol\n",
    "    # Create roi layer\n",
    "    layer = region + \"_layer\"\n",
    "    print(layer)\n",
    "    print('\\t----------')\n",
    "\n",
    "    # Create expression\n",
    "    reg = \"'\" + region + \"'\"\n",
    "    print(reg)\n",
    "    print('\\t----------')\n",
    "\n",
    "    exp = \"Processing_Region = {}\".format(reg)\n",
    "    print(exp)\n",
    "    print('\\t----------')\n",
    "    rasclip = os.path.join(outfol, region + \"_10mCompDEMClip.tif\")\n",
    "    roilayer = arcpy.MakeFeatureLayer_management(study_area, layer, exp)\n",
    "    if not os.path.exists(rasclip):\n",
    "        print(\"Clipping DEM to {} region \".format(region))\n",
    "        print(\"\\t-----------\")\n",
    "        demclip = arcpy.management.Clip(in_raster = DEM,rectangle = \"\", out_raster = rasclip,\n",
    "                                        in_template_dataset = roilayer, nodata_value = -32768,\n",
    "                                        clipping_geometry = \"ClippingGeometry\",\n",
    "                                        maintain_clipping_extent = \"NO_MAINTAIN_EXTENT\")\n",
    "    else:\n",
    "        print(\"{} Processing Region already exists\")\n",
    "        print(\"\\t-----------\")\n",
    "    print(\"Begin Hydro Processing at\")\n",
    "    # Keyword arguments for hydro processing\n",
    "    hydroprocess_kwargs = {'outfol': outfol,\n",
    "                       'rasclip':rasclip,\n",
    "                       'region':region,\n",
    "                       'Input_Number_of_Processes':10,\n",
    "                       'Check_for_edge_contamination':False\n",
    "                      }\n",
    "\n",
    "    hydroprocess(**hydroprocess_kwargs)\n",
    "# End timing\n",
    "processEnd = time.time()\n",
    "processElapsed = int(processEnd - processStart)\n",
    "processSuccess_time = datetime.datetime.now()\n",
    "# Report success\n",
    "\n",
    "print(f'Hydronetwork(s) complete at {processSuccess_time.strftime(\"%Y-%m-%d %H:%M\")} (Elapsed time: {datetime.timedelta(seconds=processElapsed)})')\n",
    "print('----------')\n",
    "\n"
   ],
   "metadata": {
    "collapsed": false,
    "pycharm": {
     "name": "#%%\n"
    }
   }
  }
 ],
 "metadata": {
  "kernelspec": {
   "name": "conda-env-Python-arcgispro-py3-py",
   "language": "python",
   "display_name": "Python [conda env:Python-arcgispro-py3]"
  },
  "language_info": {
   "codemirror_mode": {
    "name": "ipython",
    "version": 2
   },
   "file_extension": ".py",
   "mimetype": "text/x-python",
   "name": "python",
   "nbconvert_exporter": "python",
   "pygments_lexer": "ipython2",
   "version": "2.7.6"
  }
 },
 "nbformat": 4,
 "nbformat_minor": 0
}