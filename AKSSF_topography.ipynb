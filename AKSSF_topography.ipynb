{
 "cells": [
  {
   "cell_type": "markdown",
   "metadata": {
    "pycharm": {
     "name": "#%% md\n"
    }
   },
   "source": [
    "# AKSSF Topography\n",
    "### Code to construct DEM for hydroprocessing from 5m DEM available for download\n",
    "## **Using Timm's 10m composite DEM at this time**"
   ]
  },
  {
   "cell_type": "markdown",
   "metadata": {
    "pycharm": {
     "name": "#%% md\n"
    }
   },
   "source": [
    "### Set environments, variables, and import modules"
   ]
  },
  {
   "cell_type": "code",
   "execution_count": 2,
   "metadata": {
    "pycharm": {
     "name": "#%%\n"
    }
   },
   "outputs": [],
   "source": [
    "# # import modules\n",
    "# import arcpy\n",
    "# import os\n",
    "#\n",
    "# #Import TauDEM toolbox\n",
    "# #arcpy.ImportToolbox(r\"C:\\Program Files\\TauDEM\\TauDEM5Arc\\TauDEM Tools.tbx\")\n",
    "#\n",
    "# # Set Variables\n",
    "# drive = \"C:\\\\\"\n",
    "# root_folder = \"\\\\Users\\\\dwmerrigan\\\\Documents\\\\GitHub\\\\AKSSF\\\\hydrography\"\n",
    "# # Define data folder\n",
    "# data_folder = os.path.join(drive, root_folder, 'data\\\\topography\\\\USGS3DEP_5m_Alaska\\\\Bristol_Bay')\n",
    "# # Set arcpy working environment\n",
    "# arcpy.env.workspace = \"C:\\\\Users\\\\dwmerrigan\\\\Documents\\\\GitHub\\\\AKSSF\\\\AKSSF_Hydrography.gdb\"\n",
    "# # Variables\n",
    "# # CSV table from national map viewer\n",
    "# input_table = \"C:\\\\Users\\\\dwmerrigan\\\\Documents\\\\GitHub\\\\AKSSF\\\\hydrography\\\\Data\\\\Raster_CSV_Files\\\\BB_ifsar_test.csv\"\n",
    "# # Column name of url download link\n",
    "# url_column = 'col14'\n",
    "# # Location to store raster downloads\n",
    "# directory = \"C:\\\\Users\\\\dwmerrigan\\\\Documents\\\\GitHub\\\\AKSSF\\\\hydrography\\\\Data\\\\BB_ifsar_dl_test\"\n",
    "# # Define input datasets for merge\n",
    "# tile_folder = data_folder\n",
    "# projected_folder = os.path.join(data_folder, 'tiles_projected')\n",
    "# # Raster of study area with processing regions set by HUC8s\n",
    "# snap_raster = \"C:\\\\Users\\\\dwmerrigan\\\\Documents\\\\GitHub\\\\AKSSF\\\\hydrography\\\\AKSSF_Bristol_Bay_StudyArea.tif\"\n",
    "# # Define output raster\n",
    "# usgs5m_composite = os.path.join(data_folder, 'BBay_Elevation_USGS3DEP_5m_Alaska_AKALB.tif')\n",
    "# # Define stream network to burn into raster\n",
    "# flowlines = \"D:\\\\Basedata\\\\NHD_H_Alaska_State_GDB.gdb\\\\Hydrography\\\\NHDFlowline\"\n",
    "# region = \"BBay\""
   ]
  },
  {
   "cell_type": "markdown",
   "metadata": {
    "pycharm": {
     "name": "#%% md\n"
    }
   },
   "source": [
    "## Define Geoprocessing Wrapper"
   ]
  },
  {
   "cell_type": "code",
   "execution_count": 1,
   "metadata": {
    "pycharm": {
     "name": "#%%\n"
    }
   },
   "outputs": [],
   "source": [
    "# Arcpy Geoprocessing Wrapper\n",
    "# Author: Timm Nawrocki\n",
    "# Last Updated: 2019-10-29\n",
    "# Usage: Must be executed in an ArcGIS Pro Python 3.6 installation.\n",
    "# Description: \"Arcpy Geoprocessing Wrapper\" is a function that wraps other arcpy functions for standardization, input and output checks, and error reporting.\n",
    "# ---------------------------------------------------------------------------\n",
    "\n",
    "# Define a wrapper function for arcpy geoprocessing tasks\n",
    "def arcpy_geoprocessing(geoprocessing_function, check_output = True, check_input = True, **kwargs):\n",
    "    \"\"\"\n",
    "    Description: wraps arcpy geoprocessing and data access functions for file checks, message reporting, and errors.\n",
    "    Inputs: geoprocessing function -- any arcpy geoprocessing or data access processing steps defined as a function that receive ** kwargs arguments.\n",
    "            check_output -- boolean input to control if the function should check if the output already exists prior to executing geoprocessing function\n",
    "            check_input -- boolean input to control if the function should check if the inputs already exist prior to executing geoprocessing function\n",
    "            **kwargs -- key word arguments that are used in the wrapper and passed to the geoprocessing function\n",
    "                'input_array' -- if check_input == True, then the input datasets must be passed as an array\n",
    "                'output_array' -- if check_output == True, then the output datasets must be passed as an array\n",
    "    Returned Value: Function returns messages, warnings, and errors from geoprocessing functions.\n",
    "    Preconditions: geoprocessing function and kwargs must be defined, this function does not conduct any geoprocessing on its own\n",
    "    \"\"\"\n",
    "\n",
    "    # Import packages\n",
    "    import arcpy\n",
    "\n",
    "    try:\n",
    "        # If check_output is True, then check if output exists and warn of overwrite if it does\n",
    "        if check_output == True:\n",
    "            for output_data in kwargs['output_array']:\n",
    "                if arcpy.Exists(output_data) == True:\n",
    "                    print(f\"{output_data} already exists and will be overwritten.\")\n",
    "        # If check_input is True, then check if inputs exist and quit if any do not\n",
    "        if check_input == True:\n",
    "            for input_data in kwargs['input_array']:\n",
    "                if arcpy.Exists(input_data) != True:\n",
    "                    print(f'{input_data} does not exist. Check that environment workspace is correct.')\n",
    "                    quit()\n",
    "        # Execute geoprocessing function if all input data exists\n",
    "        out_process = geoprocessing_function(**kwargs)\n",
    "        # Provide results report\n",
    "        try:\n",
    "            msg_count = out_process.messageCount\n",
    "            print(out_process.getMessage(msg_count - 1))\n",
    "        except:\n",
    "            print(out_process)\n",
    "    # Provide arcpy errors for execution error\n",
    "    except arcpy.ExecuteError as err:\n",
    "        print(arcpy.GetMessages())\n",
    "        quit()"
   ]
  },
  {
   "cell_type": "markdown",
   "metadata": {
    "pycharm": {
     "name": "#%% md\n"
    }
   },
   "source": [
    "## Define Merge function"
   ]
  },
  {
   "cell_type": "code",
   "execution_count": 3,
   "metadata": {
    "pycharm": {
     "name": "#%%\n"
    }
   },
   "outputs": [],
   "source": [
    "# Merge Source Elevation Tiles\n",
    "# Author: Timm Nawrocki\n",
    "# Last Updated: 2019-12-03\n",
    "# Usage: Must be executed in an ArcGIS Pro Python 3.6 installation.\n",
    "# Description: \"Merge Source Elevation Tiles\" is a function that creates single merged DEM from input tiles of the same source with new projection, snap raster, and cell size.\n",
    "# ---------------------------------------------------------------------------\n",
    "#\n",
    "#Define function to merge source elevation tiles\n",
    "def merge_elevation_tiles(**kwargs):\n",
    "    \"\"\"\n",
    "    Description: creates a DEM from individual DEM tiles\n",
    "    Inputs: 'tile_folder' -- a folder containing the raster tiles\n",
    "            'projected_folder' -- a folder in which to store the projected tiles\n",
    "            'cell_size' -- a cell size for the output DEM\n",
    "            'input_projection' -- the machine number for the input projection\n",
    "            'output_projection' -- the machine number for the output projection\n",
    "            'geographic_transformation -- the string representation of the appropriate geographic transformation (blank if none required)\n",
    "            'input_array' -- an array containing the snap raster\n",
    "            'output_array' -- an array containing the output raster\n",
    "    \"\"\"\n",
    "\n",
    "    # Import packages\n",
    "    import arcpy\n",
    "    from arcpy.sa import Int\n",
    "    from arcpy.sa import Raster\n",
    "    from arcpy.sa import SetNull\n",
    "    import datetime\n",
    "    import os\n",
    "    import time\n",
    "\n",
    "    # Set overwrite option\n",
    "    arcpy.env.overwriteOutput = True\n",
    "\n",
    "    # Use two thirds of cores on processes that can be split.\n",
    "    arcpy.env.parallelProcessingFactor = \"66%\"\n",
    "\n",
    "    # Parse key word argument inputs\n",
    "    tile_folder = kwargs['tile_folder']\n",
    "    projected_folder = kwargs['projected_folder']\n",
    "    workspace = kwargs['workspace']\n",
    "    cell_size = kwargs['cell_size']\n",
    "    input_projection = kwargs['input_projection']\n",
    "    output_projection = kwargs['output_projection']\n",
    "    geographic_transformation = kwargs['geographic_transformation']\n",
    "    snap_raster = kwargs['input_array'][0]\n",
    "    dem_composite = kwargs['output_array'][0]\n",
    "\n",
    "    # Define intermediate datasets\n",
    "    mosaic_location, mosaic_name = os.path.split(dem_composite)\n",
    "\n",
    "    # Start timing function\n",
    "    iteration_start = time.time()\n",
    "    # Create a list of DEM raster tiles\n",
    "    print('Compiling list of raster tiles...')\n",
    "    arcpy.env.workspace = tile_folder\n",
    "    tile_list = arcpy.ListRasters('*', 'ALL')\n",
    "    # Add file path to raster list\n",
    "    tile_rasters = []\n",
    "    for tile in tile_list:\n",
    "        tile_path = os.path.join(tile_folder, tile)\n",
    "        tile_rasters.append(tile_path)\n",
    "    # Set environment workspace\n",
    "    arcpy.env.workspace = workspace\n",
    "    # End timing\n",
    "    iteration_end = time.time()\n",
    "    iteration_elapsed = int(iteration_end - iteration_start)\n",
    "    iteration_success_time = datetime.datetime.now()\n",
    "    # Report success\n",
    "    print(f'Process will form composite from {len(tile_list)} raster tiles...')\n",
    "    print(f'Raster list completed at {iteration_success_time.strftime(\"%Y-%m-%d %H:%M\")} (Elapsed time: {datetime.timedelta(seconds=iteration_elapsed)})')\n",
    "    print('----------')\n",
    "\n",
    "    # Define projection and reproject all rasters in list\n",
    "    print(f'Reprojecting {len(tile_rasters)} raster tiles...')\n",
    "    # Define the initial projection\n",
    "    tile_projection = arcpy.SpatialReference(input_projection)\n",
    "    # Define the target projection\n",
    "    composite_projection = arcpy.SpatialReference(output_projection)\n",
    "    # Set snap raster\n",
    "    arcpy.env.snapRaster = snap_raster\n",
    "    # Set initial counter\n",
    "    count = 1\n",
    "    # Reproject all rasters in list\n",
    "    for raster in tile_rasters:\n",
    "        # Define intermediate and output raster\n",
    "        reprojected_raster = os.path.join(projected_folder, os.path.splitext(os.path.split(raster)[1])[0] + '_reprojected.tif')\n",
    "        output_raster = os.path.join(projected_folder, os.path.splitext(os.path.split(raster)[1])[0] + '.tif')\n",
    "        # Check if output raster already exists:\n",
    "        if os.path.exists(output_raster) == 0:\n",
    "            # Start timing function\n",
    "            iteration_start = time.time()\n",
    "            print(f'\\tReprojecting tile {count} of {len(tile_list)}...')\n",
    "            # Define initial projection\n",
    "            arcpy.DefineProjection_management(raster, tile_projection)\n",
    "            # Reproject tile\n",
    "            arcpy.ProjectRaster_management(raster,\n",
    "                                           reprojected_raster,\n",
    "                                           composite_projection,\n",
    "                                           'BILINEAR',\n",
    "                                           cell_size,\n",
    "                                           geographic_transformation)\n",
    "            # Enforce new projection\n",
    "            arcpy.DefineProjection_management(reprojected_raster, composite_projection)\n",
    "            # Set values less than -50 to null\n",
    "            corrected_raster = SetNull(reprojected_raster, reprojected_raster, 'VALUE < -50')\n",
    "            # Round to integer and store as 16 bit signed raster\n",
    "            integer_raster = Int(Raster(corrected_raster) + 0.5)\n",
    "            # Convert corrected raster to 16 bit signed\n",
    "            arcpy.CopyRaster_management(integer_raster, output_raster, '', '', '-32768', 'NONE', 'NONE', '16_BIT_SIGNED','NONE', 'NONE', 'TIFF', 'NONE')\n",
    "            # Delete intermediate raster\n",
    "            arcpy.Delete_management(reprojected_raster)\n",
    "            # End timing\n",
    "            iteration_end = time.time()\n",
    "            iteration_elapsed = int(iteration_end - iteration_start)\n",
    "            iteration_success_time = datetime.datetime.now()\n",
    "            # Report success for iteration\n",
    "            print(f'\\tFinished reprojecting tile {count} of {len(tile_list)}...')\n",
    "            print(f'\\tTile projection completed at {iteration_success_time.strftime(\"%Y-%m-%d %H:%M\")} (Elapsed time: {datetime.timedelta(seconds=iteration_elapsed)})')\n",
    "            print('\\t----------')\n",
    "        # Return message if output raster already exists\n",
    "        else:\n",
    "            print(f'\\tTile {count} of {len(tile_list)} already processed...')\n",
    "        # Increase count\n",
    "        count += 1\n",
    "    # Report success for loop\n",
    "    print(f'Defined projection for {len(tile_list)} raster tiles...')\n",
    "    print('----------')\n",
    "\n",
    "    # Start timing function\n",
    "    iteration_start = time.time()\n",
    "    # Create a list of projected DEM raster tiles\n",
    "    print('Compiling list of projected raster tiles...')\n",
    "    arcpy.env.workspace = projected_folder\n",
    "    projected_list = arcpy.ListRasters('*', 'ALL')\n",
    "    # Add file path to raster list\n",
    "    projected_rasters = []\n",
    "    for tile in projected_list:\n",
    "        tile_path = os.path.join(projected_folder, tile)\n",
    "        projected_rasters.append(tile_path)\n",
    "    # Set environment workspace\n",
    "    arcpy.env.workspace = workspace\n",
    "    # End timing\n",
    "    iteration_end = time.time()\n",
    "    iteration_elapsed = int(iteration_end - iteration_start)\n",
    "    iteration_success_time = datetime.datetime.now()\n",
    "    # Report success\n",
    "    print(f'Process will form composite from {len(tile_list)} raster tiles...')\n",
    "    print(f'Raster list completed at {iteration_success_time.strftime(\"%Y-%m-%d %H:%M\")} (Elapsed time: {datetime.timedelta(seconds=iteration_elapsed)})')\n",
    "    print('----------')\n",
    "\n",
    "    # Start timing function\n",
    "    iteration_start = time.time()\n",
    "    print('Creating composite from tiles...')\n",
    "    # Mosaic raster tiles to new raster\n",
    "    arcpy.MosaicToNewRaster_management(projected_rasters,\n",
    "                                       mosaic_location,\n",
    "                                       mosaic_name,\n",
    "                                       composite_projection,\n",
    "                                       '16_BIT_SIGNED',\n",
    "                                       cell_size,\n",
    "                                       '1',\n",
    "                                       'MAXIMUM',\n",
    "                                       'FIRST')\n",
    "    # Enforce correct projection\n",
    "    arcpy.DefineProjection_management(dem_composite, composite_projection)\n",
    "    # End timing\n",
    "    iteration_end = time.time()\n",
    "    iteration_elapsed = int(iteration_end - iteration_start)\n",
    "    iteration_success_time = datetime.datetime.now()\n",
    "    # Report success\n",
    "    print(f'Raster composite completed at {iteration_success_time.strftime(\"%Y-%m-%d %H:%M\")} (Elapsed time: {datetime.timedelta(seconds=iteration_elapsed)})')\n",
    "    print('----------')\n",
    "\n",
    "    # Delete intermediate dataset\n",
    "    out_process = 'Successful creating composite DEM.'\n",
    "    return out_process"
   ]
  },
  {
   "cell_type": "markdown",
   "metadata": {
    "pycharm": {
     "name": "#%% md\n"
    }
   },
   "source": [
    "# 5 Meter DEM Prep\n",
    "## Download tiles for region of interest using csv exported from <a href='https://viewer.nationalmap.gov/basic/#/elevation'> National Map Viewer</a>"
   ]
  },
  {
   "cell_type": "code",
   "execution_count": null,
   "metadata": {
    "pycharm": {
     "name": "#%%\n"
    }
   },
   "outputs": [],
   "source": [
    "\n",
    "# ---------------------------------------------------------------------------\n",
    "# Download Files From CSV\n",
    "# Author: Timm Nawrocki\n",
    "# Last Updated: 2019-10-29\n",
    "# Usage: Can be executed in an Anaconda Python 3.7 distribution or an ArcGIS Pro Python 3.6 distribution.\n",
    "# Description: \"Download Files From CSV\" contacts a server to download a series of files specified in a csv table. The full path to the download must be specified in the table.\n",
    "# ---------------------------------------------------------------------------\n",
    "\n",
    "# # Define a function to download files from a csv\n",
    "# def download_from_csv(input_table, url_column, destination):\n",
    "#     \"\"\"\n",
    "#     Description: downloads set of files specified in a particular column of a csv table.\n",
    "#     Inputs: input_table -- csv table containing rows for download items.\n",
    "#             url_column -- title for column containing download urls.\n",
    "#             destination -- folder to store download results.\n",
    "#     Returned Value: Function returns status messages only. Downloaded data are stored on drive.\n",
    "#     Preconditions: csv tables must be generated from web application tools or manually.\n",
    "#     \"\"\"\n",
    "\n",
    "#     # Import packages\n",
    "#     import datetime\n",
    "#     import pandas as pd\n",
    "#     import time\n",
    "#     import urllib\n",
    "\n",
    "#     # Import a csv file with the download urls for the Arctic DEM tiles\n",
    "#     download_items = pd.read_csv(input_table)\n",
    "\n",
    "#     # Initialize download count\n",
    "#     n = len(download_items[url_column])\n",
    "#     print(f'Beginning download of {n} tiles...')\n",
    "#     count = 1\n",
    "\n",
    "#     # Loop through urls in the downloadURL column and download\n",
    "#     for url in download_items[url_column]:\n",
    "#         target = os.path.join(destination, os.path.split(url)[1])\n",
    "#         if os.path.exists(target) == 0:\n",
    "#             try:\n",
    "#                 # Start timing function\n",
    "#                 iteration_start = time.time()\n",
    "#                 print(f'\\tDownloading {count} of {n} tiles...')\n",
    "#                 # Download data\n",
    "#                 filedata = urllib.request.urlopen(url)\n",
    "#                 datatowrite = filedata.read()\n",
    "#                 with open(target, 'wb') as file:\n",
    "#                     file.write(datatowrite)\n",
    "#                     file.close()\n",
    "#                 # End timing\n",
    "#                 iteration_end = time.time()\n",
    "#                 iteration_elapsed = int(iteration_end - iteration_start)\n",
    "#                 iteration_success_time = datetime.datetime.now()\n",
    "#                 # Report success\n",
    "#                 print(f'\\tCompleted at {iteration_success_time.strftime(\"%Y-%m-%d %H:%M\")} (Elapsed time: {datetime.timedelta(seconds=iteration_elapsed)})')\n",
    "#                 print('\\t----------')\n",
    "#             except:\n",
    "#                 print(f'\\tTile {count} of {n} not available for download. Check url.')\n",
    "#                 print('\\t----------')\n",
    "#         else:\n",
    "#             print(f'\\tTile {count} of {n} already exists...')\n",
    "#             print('\\t----------')\n",
    "#         count += 1\n",
    "\n",
    "#     print('Finished downloading tiles.')\n",
    "\n",
    "# download_from_csv(input_table, url_column, directory)"
   ]
  },
  {
   "cell_type": "markdown",
   "metadata": {
    "pycharm": {
     "name": "#%% md\n"
    }
   },
   "source": [
    "### Unzip raster tiles to data folder"
   ]
  },
  {
   "cell_type": "code",
   "execution_count": null,
   "metadata": {
    "pycharm": {
     "name": "#%%\n"
    }
   },
   "outputs": [],
   "source": [
    "# import zipfile\n",
    "# os.chdir(directory)\n",
    "# start = datetime.datetime.now()\n",
    "# ext = \".zip\"\n",
    "# for item in os.listdir(directory): # loop through items in dir\n",
    "#     if item.endswith(ext):\n",
    "\n",
    "#         file_name = os.path.abspath(item) # get full path of files\n",
    "#         zip_ref = zipfile.ZipFile(file_name) # create zipfile object\n",
    "#         zip_ref.extractall(data_folder) # extract file to dir\n",
    "#         zip_ref.close() # close file\n",
    "#         #os.remove(file_name) # delete zipped file if required\n",
    "#         print ('Unzipping.....', file_name)\n",
    "#         print('')\n",
    "\n",
    "# print ('Unzipping complete')\n",
    "# stop = datetime.datetime.now()\n",
    "# elapsed = stop - start\n",
    "# print ('Time to complete = ',elapsed)"
   ]
  },
  {
   "cell_type": "markdown",
   "metadata": {
    "pycharm": {
     "name": "#%% md\n"
    }
   },
   "source": [
    "## Merge Raster Tiles"
   ]
  },
  {
   "cell_type": "code",
   "execution_count": null,
   "metadata": {
    "pycharm": {
     "name": "#%%\n"
    }
   },
   "outputs": [],
   "source": [
    "# # Define input and output arrays\n",
    "# merge_tiles_inputs = [snap_raster]\n",
    "# merge_tiles_outputs = [usgs5m_composite]\n",
    "#\n",
    "# # Create key word arguments\n",
    "# merge_tiles_kwargs = {'tile_folder': tile_folder,\n",
    "#                      'projected_folder': projected_folder,\n",
    "#                      'workspace': arcpy.env.workspace,\n",
    "#                      'cell_size': 5,\n",
    "#                      'input_projection': 3338,\n",
    "#                      'output_projection': 3338,\n",
    "#                      'geographic_transformation': '',\n",
    "#                      'input_array': merge_tiles_inputs,\n",
    "#                      'output_array': merge_tiles_outputs\n",
    "#                      }\n",
    "#\n",
    "# # Merge source tiles\n",
    "# comp_dem = arcpy_geoprocessing(merge_elevation_tiles, **merge_tiles_kwargs)\n"
   ]
  },
  {
   "cell_type": "markdown",
   "metadata": {
    "heading_collapsed": true,
    "pycharm": {
     "name": "#%% md\n"
    }
   },
   "source": [
    "### Next Step: Input DEM for processing with TauDEM\n",
    "\n"
   ]
  }
 ],
 "metadata": {
  "kernelspec": {
   "display_name": "PyCharm (AKSSF)",
   "language": "python",
   "name": "pycharm-8caab41e"
  },
  "language_info": {
   "codemirror_mode": {
    "name": "ipython",
    "version": 3
   },
   "file_extension": ".py",
   "mimetype": "text/x-python",
   "name": "python",
   "nbconvert_exporter": "python",
   "pygments_lexer": "ipython3",
   "version": "3.7.10"
  }
 },
 "nbformat": 4,
 "nbformat_minor": 1
}
