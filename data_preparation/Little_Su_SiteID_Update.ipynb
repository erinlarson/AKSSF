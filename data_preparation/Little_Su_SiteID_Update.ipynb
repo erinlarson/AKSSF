{
 "cells": [
  {
   "cell_type": "markdown",
   "metadata": {
    "collapsed": true,
    "pycharm": {
     "name": "#%% md\n"
    }
   },
   "source": [
    "# Short script to update Little Susitna Site IDs to new naming convention"
   ]
  },
  {
   "cell_type": "code",
   "execution_count": 2,
   "outputs": [],
   "source": [
    "import arcpy, os"
   ],
   "metadata": {
    "collapsed": false,
    "pycharm": {
     "name": "#%%\n"
    }
   }
  },
  {
   "cell_type": "code",
   "execution_count": null,
   "outputs": [],
   "source": [
    "#Site dataset to update\n",
    "sites = r\"T:\\\\Aquatic\\\\AKSSF\\\\AKSSF_Hydrography.gdb\\\\AKSSF_TempSites\"\n",
    "\n",
    "# data dictionary to store site ids as {originalid :newid}\n",
    "idDict = {'Archangel':'lsarc',\n",
    "'Archangel_2019':'lsarc',\n",
    "'Coal Creek_2019':'lscoa',\n",
    "'Coho':'lscoh',\n",
    "'Coho Creek_2019':'lscoh',\n",
    "'Government Creek_2019':'lsgov',\n",
    "'Lake Creek':'lslak',\n",
    "'Lake Creek 2_2019':'lslak',\n",
    "'Lake below Nancy':'lslak7',\n",
    "'Lake above Nancy':'lslil10',\n",
    "'lsnlt1':'lsnlt10',\n",
    "'Lake Creek 1_2019':'lslil10',\n",
    "'lslil':'lslil10',\n",
    "'Moon princess/Colter Creek_2019':'lsmoo1',\n",
    "'Nancy lakes trib_2019':'lsnlt10',\n",
    "'Papoose':'lspap',\n",
    "'Pappoose Creek_2019':'lspap',\n",
    "'Little Su 10_2019':'lsr100',\n",
    "'LS10':'lsr103',\n",
    "'Little Su 12_2019':'lsr106',\n",
    "'lsr112.5':'lsr106',\n",
    "'Little Su 13_2019':'lsr112',\n",
    "'LS11':'lsr112.2',\n",
    "'Little Su 14_2019':'lsr112.4',\n",
    "'LS12':'lsr112.4',\n",
    "'LS PUF':'lsr28',\n",
    "'Little Su 1_2019':'lsr28.3',\n",
    "'Little Su 2_2019':'lsr33',\n",
    "'LS2':'lsr33.1',\n",
    "'LS1':'lsr33.8',\n",
    "'Little Su 3_2019':'lsr47',\n",
    "'LS3':'lsr48.1',\n",
    "'LS4':'lsr48.3',\n",
    "'Little Su 4_2019':'lsr59',\n",
    "'LS5':'lsr63.1',\n",
    "'LS6':'lsr63.4',\n",
    "'Little Su 5_2019':'lsr67',\n",
    "'LS7':'lsr73',\n",
    "'LS8':'lsr73.1',\n",
    "'Little Su 6_2019':'lsr73.2',\n",
    "'LS9':'lsr87',\n",
    "'Little Su 8_2019':'lsr89',\n",
    "'Little Su 9_2019':'lsr93',\n",
    "'Swiftwater Creek_2019':'lsswi1',\n",
    "'Lake Complex':'lstrb33',\n",
    "'Tributary 4_2019':'lstrb33',\n",
    "'Trib 1_2019':'lstrb36',\n",
    "'Fishhook Creek':'lsfis01',\n",
    "'Fish Hook Creek_2019':'lsfis01',\n",
    "'Tributary 2_2019':'lstrb88',\n",
    "'Tributary 3_2019':'lstrb97'}\n",
    "\n",
    "#Search cursor for testing\n",
    "# with arcpy.da.SearchCursor(sites, 'SiteID') as cur:\n",
    "#     for row in cur:\n",
    "#         print(row[0])\n",
    "#         if row[0] in idDict:\n",
    "#             print(f'{row[0]} will be updated to {idDict[row[0]]}')\n",
    "#             #print(f'{row} will be updated to {idDict[row][0]}')\n",
    "#         else:\n",
    "#             print(f'{row} will not be changed')\n",
    "#         print('----------')\n",
    "\n",
    "#update Cursor to change siteIDs\n",
    "with arcpy.da.UpdateCursor(sites, 'SiteID') as cur:\n",
    "    for row in cur:\n",
    "        print(row[0])\n",
    "        if row[0] in idDict:\n",
    "            print(f'{row[0]} will be updated to {idDict[row[0]]}')\n",
    "            row[0] = idDict[row[0]]\n",
    "            cur.updateRow(row)\n",
    "        else:\n",
    "            pass\n",
    "        print('----------')\n"
   ],
   "metadata": {
    "collapsed": false,
    "pycharm": {
     "name": "#%%\n"
    }
   }
  },
  {
   "cell_type": "code",
   "execution_count": 57,
   "outputs": [],
   "source": [
    "import arcpy\n",
    "arcpy.env.overwriteOutput = True\n",
    "\n",
    "siteIDs = []\n",
    "tempsites = r\"T:\\\\Aquatic\\\\AKSSF\\\\AKSSF_Hydrography.gdb\\\\AKSSF_TempSites\"\n",
    "sites_shift = r\"T:\\\\Aquatic\\\\AKSSF\\\\AKSSF_Hydrography.gdb\\\\AKSSF_Sites_Shifted_2021202\"\n",
    "with arcpy.da.SearchCursor(sites_shift,'SiteID') as cur:\n",
    "    for row in cur:\n",
    "       siteIDs.append(row[0])\n",
    "expression = \"SiteID IN ('{}')\".format(\"','\".join([x.replace(\"'\",\"''\") for x in siteIDs]))\n",
    "origLayer = arcpy.MakeFeatureLayer_management(tempsites, 'origLayer', where_clause=expression)\n",
    "\n",
    "siteIDs2 = []\n",
    "with arcpy.da.SearchCursor(origLayer,'SiteID') as cur:\n",
    "    for row in cur:\n",
    "       siteIDs2.append(row[0])\n",
    "expression2 = \"SiteID IN ('{}')\".format(\"','\".join([x.replace(\"'\",\"''\") for x in siteIDs2]))\n",
    "missLayer = arcpy.SelectLayerByAttribute_management(sites_shift,'NEW_SELECTION',expression2,'INVERT')\n"
   ],
   "metadata": {
    "collapsed": false,
    "pycharm": {
     "name": "#%%\n"
    }
   }
  },
  {
   "cell_type": "code",
   "execution_count": 67,
   "outputs": [
    {
     "name": "stdout",
     "output_type": "stream",
     "text": [
      "151\n",
      "352\n"
     ]
    }
   ],
   "source": [
    "print(arcpy.GetCount_management(missLayer))\n",
    "print(arcpy.GetCount_management(origLayer))"
   ],
   "metadata": {
    "collapsed": false,
    "pycharm": {
     "name": "#%%\n"
    }
   }
  },
  {
   "cell_type": "code",
   "execution_count": 68,
   "outputs": [
    {
     "data": {
      "text/plain": "<Result 'D:\\\\\\\\GIS\\\\\\\\scratch.gdb\\\\AKSSF_Tempsites_no_shift'>",
      "text/html": "<div class='gpresult'><h2>Messages</h2><div id='messages' data-messages='[\"Start Time: Wednesday, December 15, 2021 14:55:31\",\"Succeeded at Wednesday, December 15, 2021 14:55:37 (Elapsed Time: 5.92 seconds)\"]' data-show='true'><div id = 'default' /></div></div>"
     },
     "execution_count": 68,
     "metadata": {},
     "output_type": "execute_result"
    }
   ],
   "source": [
    "arcpy.Merge_management([missLayer, origLayer],r'D:\\\\GIS\\\\scratch.gdb\\\\AKSSF_Tempsites_no_shift')"
   ],
   "metadata": {
    "collapsed": false,
    "pycharm": {
     "name": "#%%\n"
    }
   }
  },
  {
   "cell_type": "code",
   "execution_count": 31,
   "outputs": [
    {
     "name": "stdout",
     "output_type": "stream",
     "text": [
      "SiteID IN ('kdk_busrv01', 'kdk_doscr01', 'kdk_karrv01', 'kdk_doscr02', 'kdk_olgcr01a', 'kdk_olgcr01b', 'kdk_ayarv01', 'APU1', 'APU10', 'APU11', 'APU12', 'APU2', 'APU3', 'APU5', 'APU6', 'APU7', 'APU8', 'APU9', 'AR2', 'CIK1', 'CIK2', 'CIK3', 'CIK4', 'CIK6', 'CIK7', 'CIK8', 'COTT-A', 'COTT-C', 'COTT-W', 'NANC', 'NANC-44-L', 'NANC-44-M', 'NANC-44-U', 'PJ Lower', 'PJ Mid', 'SANC', 'SANC-1203-L', 'SANC-1203-M', 'SANC-1203-U', 'STAR', 'STAR-171-M', 'STAR-171-U', 'STAR-69-L', 'STAR-69-M', 'STAR-69-U', 'STAR-A', 'STAR-W', 'STAR 171 Lower', 'STAR 171 Upper', 'CIK_0', 'CIK_1', 'CIK_10', 'CIK_11', 'CIK_12', 'CIK_13', 'CIK_14', 'CIK_15', 'CIK_16', 'CIK_17', 'CIK_18', 'CIK_19', 'CIK_2', 'CIK_20', 'CIK_21', 'CIK_22', 'CIK_23', 'CIK_24', 'CIK_25', 'CIK_26', 'CIK_27', 'CIK_28', 'CIK_29', 'CIK_3', 'CIK_30', 'CIK_31', 'CIK_32', 'CIK_33', 'CIK_34', 'CIK_35', 'CIK_36', 'CIK_37', 'CIK_38', 'CIK_39', 'CIK_4', 'CIK_40', 'CIK_41', 'CIK_42', 'CIK_43', 'CIK_44', 'CIK_45', 'CIK_46', 'CIK_47', 'CIK_48', 'CIK_5', 'CIK_6', 'CIK_7', 'CIK_8', 'CIK_9', 'Deshka 1 Downstream', 'Deshka 1 Tributary', 'Deshka 1 Upstream', 'Deshka 2 Downstream', 'Deshka 2 Tributary', 'Deshka 2 Upstream', 'Deshka 3 Downstream', 'Deshka 3 Tributary', 'Deshka 3 Upstream', 'Deshka 4 Downstream', 'Deshka 4 Tributary', 'Deshka 4 Upstream', 'Deshka 5 Downstream', 'Deshka 5 Tributary', 'Deshka 6 Downstream', 'Deshka 6 Tributary', 'Deshka 6 Upstream', 'Kroto 1 Downstream', 'Kroto 1 Tributary', 'Kroto 1 Upstream', 'Kroto 2 Downstream', 'Kroto 2 Tributary', 'Kroto 2 Upstream', 'Kroto 3 Downstream', 'Kroto 3 Tributary', 'Kroto 3 Upstream', 'Kroto 4 Downstream', 'Kroto 4 Tributary', 'Kroto 4 Upstream', 'Kroto 5 Downstream', 'Kroto 6 Downstream', 'Kroto 6 Tributary', 'Kroto 6 Upstream', 'Kroto 7 Downstream', 'Kroto 7 Tributary', 'Kroto 7 Upstream', 'Kroto 8 Downstream', 'Kroto 8 Tributary', 'Kroto 8 Upstream', 'Moose 1 Top of Study', 'Moose 2 Downstream', 'Moose 2 Tributary', 'Moose 2 Upstream', 'Moose 3 Downstream', 'Moose 3 Tributary', 'Moose 3 Upstream', 'Moose 4 Downstream', 'Moose 4 Tributary', 'Moose 4 Upstream', 'Moose 5 Downstream', 'Moose 5 Tributary', 'Moose 5 Upstream', 'Moose 6 Downstream', 'Moose 6 Tributary', 'Moose 6 Upstream', 'Moose 7 Downstream', 'Moose 7 Tributary', 'Moose 7 Upstream', 'Moose 8 Downstream', 'Moose 8 Tributary', 'Moose 8 Upstream', 'OCC1', 'OCC2', 'OCCT1', 'OMCT1', 'OMCT2', 'OMCT3', 'OMCT4', 'OMCT5', 'OWL1', 'PGC1', 'PGC2', 'PGCT1', 'PGCT2', 'PKC1', 'PKCT1', 'PKCT2', 'PMC1', 'PMC2', 'PMCT1', 'PNC1', 'PNCT1', 'PNCT2', 'PNCT4', 'PSM1', 'PSM2', 'PSMT1', 'PTC1', 'PWMC1', 'kdk_akacr01', 'kdk_ayarv03', 'kdk_cancr01', 'kdk_concr01', 'kdk_pincr01', 'kdk_relrv01', 'kdk_cascr01', 'kdk_eftrv01', 'kdk_falcr01', 'kdk_meacr01', 'kdk_omarv01', 'kdk_soucr01', 'kdk_akacr02', 'kdk_cancr02', 'kdk_falcr02', 'kdk_pincr02', 'fws_kdk_aforv01', 'fws_kdk_busrv01', 'fws_Long Lake Creek', 'fws_Tanada Creek', '571005154134600', '571221154040300', '571343154244900', '572656154082400', 'BM1', 'BM10', 'BM11', 'BM12', 'BM13', 'BM14', 'BM2', 'BM3', 'BM4', 'BM5', 'BM6', 'BM7', 'BM8', 'BM9', 'KWF1', 'KWF2', 'KWF3', 'kdk_bigcr01', 'kdk_karrv02', 'lsarc', 'lscoh', 'lslak', 'lslil', 'lspap', 'lsr112.4', 'lstrb33', 'lscoa', 'lsgov', 'lslak7', 'lsmoo1', 'lsnlt1', 'lsr100', 'lsr103', 'lsr112', 'lsr112.2', 'lsr112.5', 'lsr28', 'lsr28.3', 'lsr33', 'lsr33.1', 'lsr33.8', 'lsr47', 'lsr48.1', 'lsr48.3', 'lsr59', 'lsr63.1', 'lsr63.4', 'lsr67', 'lsr73', 'lsr73.1', 'lsr73.2', 'lsr87', 'lsr89', 'lsr93lb', 'lsr93rb', 'lsswi1', 'lstrb36', 'lstrb88', 'lstrb97', 'Caribou Creek', 'Crystal Creek', 'Gilahina River', 'Lakina River', 'Long Lake Creek', 'Rock Creek WRST', 'Rufus Creek', 'nv_Eyak_Hartney Creek', 'nv_Eyak_Heney Creek', 'PWSCC_Erb', 'PWSCC_Gilmour', 'PWSCC_Hogan', 'PWSCC_Stockdale', 'USFS_18 Mile', 'USFS_25 Mile', 'USFS_Bench Creek', 'USFS_Blackhole Creek', 'USFS_Cabin Lake Outlet', 'USFS_Center Creek', 'USFS_Chickaloon Headwaters', 'USFS_Crescent Creek', 'USFS_Daves Creek', 'USFS_Eagle Creek', 'USFS_24.9 Mile Creek', 'USFS_Ibeck Creek-Low', 'USFS_18 Mile Middle Fork', 'USFS_18 Mile West Fork', 'USFS_Middle Arm Eyak', \"USFS_Hell''s Hole Trib\", 'USFS_Hook Point', 'USFS_Jackpot River', 'USFS_Juneau Creek', 'USFS_Koppen Creek', 'USFS_Little Martin River', 'USFS_Martin Lake- Inlet', 'USFS_Olsen Creek', 'USFS_Pigot Bay Spawn Channel', 'USFS_Power Creek', 'USFS_Quartz Creek', 'USFS_Resurrection Creek', 'USFS_Rude River SC', 'USFS_Salmon Creek', 'USFS_Sheep River', 'USFS_Shelter Bay Trib', 'USFS_Solf Lake Fish Pass', 'USFS_Stump Lake Outlet', 'USFS_East Fork 18 Mile', 'USFS_ERB Creek', 'USFS_Eyak Lake Tributary', 'USFS_Ibeck Creek-Lower Side Channel', 'USFS_Solf Lake Outlet Creek', '15209700', '15200280', '15200000', '15212000', '15215900', '15219000', '15236900', '15237030', '15295700', '15297475', '15290000', '15292780', '15292800', '15293200', '15293700', '15294005', '15294080', '15294350', '15274000', '15274600', '15276000', '15285000', '15258000', '15260001', '15261000', '15266110', '15266300', '15272380', '15280999', '15283700', '15284000', '15292700', '15294345', '15292400', '15291000', '15291700', '15292100', '15238984', '15238986', '15239070', '15241600', '15298040', '15300100', '15300250', '15300270', '15300300', '15300320', '15301500', '15302000', '15302200', '15302250', '15302300', '15302320', '15302812', '580223156504200', 'AKBB-011', 'AKBB-020', 'AKBB-028', 'AKBB-029', 'AKBB-040', 'CIK_Ben Courtney Creek', 'CIK_Big Creek', 'CIK_Copper River', 'CIK_Gibraltar River', 'CIK_Napotoli Creek', 'CIK_Neilson Creek', 'CIK_Panaruqak Creek', 'CIK_Roadhouse Creek', 'CIK_Silver Salmon Creek', 'CIK_Sivanguq Creek', 'CIK_Squaw Creek', 'CIK_Tunravik Creek', 'CIK_Yellow Creek', 'GELO', 'ilbig01', 'iltaz02', 'iltnr19', 'KATM_idavc_stream_water', 'KATM_lbrooo_lvl', 'KATM_lbrooo_temp', 'KATM_margc_stream_water', 'KATM_naknlo_continuous_wq', 'KATM_naknlo_lvl', 'KATM_naknlo_temp', 'KATM_savor_stream_water', 'KATM_upatc_stream_water', 'KULR', 'LACL_kijilo_lvl', 'LACL_kijilo_temp', 'LACL_lclaro_continuous_wq', 'LACL_lclaro_lvl', 'LACL_lclaro_temp', 'LACL_lkijr_stream_water', 'LACL_tazir_stream_water', 'LACL_tlikr_stream_water', 'MALR', 'mubon10', 'muekm23', 'musfk01', 'mussm15', 'mustu17', 'mutsk02', 'mutsk09', 'NCLO', 'Newhalen River', 'NPS_Chulitna_SiteB', 'NPS_Hardenburg_Bay', 'NPS_Little_Kijik_River_Dan', 'NPS_Newhalen_River', 'NPS_Six_Mile_Outlet', 'OSLR', 'OSLR2', 'PULO', 'PULR', 'SLLR', 'TOLO', 'TOLR', 'UW_Agulowak River', 'UW_Agulukpak River', 'UW_Aleknagik Bear Creek', 'UW_Aleknagik Big Whitefish Creek', 'UW_Aleknagik Eagle Creek', 'UW_Aleknagik Hansen Creek', 'UW_Aleknagik Happy Creek', 'UW_Aleknagik Ice Creek', 'UW_Aleknagik Mission Creek', 'UW_Aleknagik Pfifer Creek', 'UW_Aleknagik Silver Salmon Creek', 'UW_Aleknagik Squaw Creek', 'UW_Aleknagik Sunshine Creek', 'UW_Aleknagik Yako Creek', 'UW_Aleknagik Youth Creek', 'UW_Beverley Hope Creek', 'UW_Beverley Moose Creek', 'UW_Beverley Silverhorn Creek', 'UW_Beverley Uno Creek', 'UW_Kulik Grant River', 'UW_Kulik K-3 Creek', 'UW_Kulik Kulik Creek', 'UW_Little Togiak C Creek', 'UW_Little Togiak Creek', 'UW_Nerka Allah Creek', 'UW_Nerka Bear Creek', 'UW_Nerka Beaver Creek', 'UW_Nerka Berm Creek', 'UW_Nerka Bug Creek', 'UW_Nerka Cabin Creek', 'UW_Nerka Chamee Creek', 'UW_Nerka Cottonwood Creek', 'UW_Nerka Elva Creek', 'UW_Nerka Fenno Creek', 'UW_Nerka Hidden Lake Creek', 'UW_Nerka Joe Creek', 'UW_Nerka Kema Creek', 'UW_Nerka Little Togiak River', 'UW_Nerka Lynx Creek Cold Tributary', 'UW_Nerka Lynx Creek', 'UW_Nerka Lynx Lake Tributary', 'UW_Nerka N4 Creek', 'UW_Nerka Pick Creek', 'UW_Nerka Rainbow Creek', 'UW_Nerka Sam Creek', 'UW_Nerka Seventh Creek', 'UW_Nerka Sixth Creek', 'UW_Nerka Stovall Creek', 'UW_Nerka Teal Creek', 'WELR', 'WELR2')\n"
     ]
    }
   ],
   "source": [
    "#qry = \"\"\"\"{} IN '{}'\"\"\".format(arcpy.AddFieldDelimiters(datasource=tempsites, field=\"SiteID\"), siteIDs)\n",
    "qry2 = 'SiteID IN {0}'.format(tuple(siteIDs))\n",
    "#arcpy.MakeFeatureLayer_management(tempsites,'templyr', qry2)\n",
    "print(qry2)"
   ],
   "metadata": {
    "collapsed": false,
    "pycharm": {
     "name": "#%%\n"
    }
   }
  },
  {
   "cell_type": "code",
   "execution_count": null,
   "outputs": [],
   "source": [
    "with arcpy.da.SearchCursor(tempsites,'SiteID') as cur:\n",
    "    for row in cur:\n",
    "        if row[0] in siteIDs:\n",
    "            print(f'{row[0]} in site list')\n",
    "        else:\n",
    "            print(f'{row[0]} not found in site list.........')\n"
   ],
   "metadata": {
    "collapsed": false,
    "pycharm": {
     "name": "#%%\n"
    }
   }
  }
 ],
 "metadata": {
  "kernelspec": {
   "name": "pycharm-8caab41e",
   "language": "python",
   "display_name": "PyCharm (AKSSF)"
  },
  "language_info": {
   "codemirror_mode": {
    "name": "ipython",
    "version": 2
   },
   "file_extension": ".py",
   "mimetype": "text/x-python",
   "name": "python",
   "nbconvert_exporter": "python",
   "pygments_lexer": "ipython2",
   "version": "2.7.6"
  }
 },
 "nbformat": 4,
 "nbformat_minor": 0
}