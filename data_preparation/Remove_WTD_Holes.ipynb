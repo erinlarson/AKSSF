{
 "cells": [
  {
   "cell_type": "markdown",
   "metadata": {
    "collapsed": true,
    "pycharm": {
     "name": "#%% md\n"
    }
   },
   "source": [
    "# Loop through watershed FCs and remove holes inside polygons.  Updates the input feature's geometry <b>DOES NOT PRODUCE  OUTPUT</b> so make copy of data if necessary.\n",
    "Change data_dir = \"path to your AKSSF folder containing regional subfolders\"\n",
    "* **NOTE - this will capture all polygon features with 'wtd' in the name**"
   ]
  },
  {
   "cell_type": "code",
   "execution_count": 7,
   "outputs": [],
   "source": [
    "#Def function to remove holes\n",
    "def RemovePolygonHoles_management(in_fc, threshold=0.0):\n",
    "    \"\"\"\n",
    "    The function removes holes from a polygon feature class.\n",
    "    If threshold is given, only the holes smaller than the threshold will be removed.\n",
    "    If no threshold is given, it removes all holes.\n",
    "    in_fc is a polygon feature class.\n",
    "    threshold is numeric.\n",
    "    \"\"\"\n",
    "    import time\n",
    "    import datetime\n",
    "    # Start timing function\n",
    "    rhprocessStart = time.time()\n",
    "    rhprocessStartdt = datetime.datetime.now()\n",
    "    desc = arcpy.Describe(in_fc)\n",
    "    if desc.featureType !=\"Simple\":\n",
    "        print (\"Invalid data type. Simple type required.\")\n",
    "        return\n",
    "    else:\n",
    "        if desc.shapeType != \"Polygon\":\n",
    "            print (\"The input is supposed to be a Polygon FeatureClass or Shapefile.\")\n",
    "            return\n",
    "    if threshold < 0.0:\n",
    "        threshold = 0.0\n",
    "    print(f'Begin filling holes in {in_fc}')\n",
    "    with arcpy.da.UpdateCursor(in_fc, [\"SHAPE@\"]) as updateCursor:\n",
    "        for updateRow in updateCursor:\n",
    "            shape = updateRow[0]\n",
    "            new_shape = arcpy.Array()\n",
    "            for part in shape:\n",
    "                new_part = arcpy.Array()\n",
    "                if threshold > 0:\n",
    "                    #find None point in shape part\n",
    "                    #in arcpy module, a None point is used to seperate exterior and interior vertices\n",
    "                    null_point_index = []\n",
    "                    for i in range(len(part)):\n",
    "                        if part[i] == None:\n",
    "                            null_point_index.append(i)\n",
    "                    #if interior vertices exist, create polygons and compare polygon shape area to given threshold\n",
    "                    #if larger, keep vertices, else, dismiss them\n",
    "                    if len(null_point_index) > 0:\n",
    "                        for k in range(0, null_point_index[0]):\n",
    "                            new_part.add(part[k])\n",
    "                        for i in range(len(null_point_index)):\n",
    "                            pointArray = arcpy.Array()\n",
    "                            #determine if the None point is the last one\n",
    "                            if i+1 < len(null_point_index):\n",
    "                                for j in range(null_point_index[i] + 1, null_point_index[i+1]):\n",
    "                                    pointArray.add(part[j])\n",
    "                            else:\n",
    "                                for j in range(null_point_index[i] + 1, len(part)):\n",
    "                                    pointArray.add(part[j])\n",
    "                            #create a polygon to check shape area against the given threshold\n",
    "                            inner_poly = arcpy.Polygon(pointArray)\n",
    "                            #if larger than threshold, then add to the new part Array\n",
    "                            if inner_poly.area > threshold:\n",
    "                                if i+1 < len(null_point_index):\n",
    "                                    for k in range(null_point_index[i], null_point_index[i+1]):\n",
    "                                        new_part.add(part[k])\n",
    "                                else:\n",
    "                                    for k in range(null_point_index[i], len(part)):\n",
    "                                        new_part.add(part[k])\n",
    "                        new_shape.add(new_part)\n",
    "                    #if interior does not exist, add the whole part\n",
    "                    else:\n",
    "                        new_shape.add(part)\n",
    "                else:\n",
    "                    #get the first None point index\n",
    "                    first_null_point_index = 0\n",
    "                    for i in range(len(part)):\n",
    "                        if part[i] == None:\n",
    "                            first_null_point_index = i\n",
    "                            break\n",
    "                    if first_null_point_index == 0:\n",
    "                        new_shape.add(part)\n",
    "                    else:\n",
    "                        for j in range(first_null_point_index):\n",
    "                            new_part.add(part[j])\n",
    "                        new_shape.add(new_part)\n",
    "            if len(new_shape) > 0:\n",
    "                new_poly = arcpy.Polygon(new_shape)\n",
    "                updateRow[0] = new_poly\n",
    "                updateCursor.updateRow(updateRow)\n",
    "    # End timing\n",
    "    rhprocessEnd = time.time()\n",
    "    rhprocessElapsed = int(rhprocessEnd - rhprocessStart)\n",
    "    rhprocessSuccess_time = datetime.datetime.now()\n",
    "\n",
    "    # Report success\n",
    "    print(f'Remove holes for {in_fc} completed at {rhprocessSuccess_time.strftime(\"%Y-%m-%d %H:%M\")} '\n",
    "          f'(Elapsed time: {datetime.timedelta(seconds=rhprocessElapsed)})')\n",
    "    print('----------')"
   ],
   "metadata": {
    "collapsed": false,
    "pycharm": {
     "name": "#%%\n"
    }
   }
  },
  {
   "cell_type": "markdown",
   "source": [],
   "metadata": {
    "collapsed": false,
    "pycharm": {
     "name": "#%% md\n"
    }
   }
  },
  {
   "cell_type": "code",
   "execution_count": null,
   "outputs": [],
   "source": [
    "import arcpy\n",
    "import os\n",
    "import datetime\n",
    "import time\n",
    "# data_dir = r\"D:\\GIS_Temp\\AKSSF\"\n",
    "# Set data_dir equal to folder containing AKSSF regional subfolders containing GDBs and raster datasets\n",
    "arcpy.env.workspace = data_dir\n",
    "arcpy.env.overwriteOutput = True\n",
    "regions  = arcpy.ListWorkspaces(workspace_type=\"Folder\")\n",
    "\n",
    "# Start timing function\n",
    "processStart = time.time()\n",
    "processStartdt = datetime.datetime.now()\n",
    "\n",
    "# Seperate data by\n",
    "nhdplus_dat = ['Cook_Inlet','Copper_River']\n",
    "tauDem_dat = ['Bristol_Bay', 'Kodiak', 'Prince_William_Sound']\n",
    "\n",
    "# Loop through all processing areas\n",
    "rois = nhdplus_dat + tauDem_dat\n",
    "\n",
    "for roi in rois:\n",
    "    # Loop through regional folders\n",
    "    for region in regions:\n",
    "        if roi in str(region):\n",
    "            print(f'Updating Watersheds for {roi} in {region} folder')\n",
    "            # Set workspace to region folder\n",
    "            arcpy.env.workspace = region\n",
    "            gdb = arcpy.ListWorkspaces(workspace_type='FileGDB')\n",
    "            walk = arcpy.da.Walk(region, datatype = 'FeatureClass')\n",
    "            for dirpath, dirnames, filenames in walk:\n",
    "                # loop through watershed datasets\n",
    "                for filename in filenames:\n",
    "                    if 'wtd' in filename:\n",
    "                        rmtimestart = time.time()\n",
    "                        print(f\" {filename} watershed identified\")\n",
    "                        wtd = os.path.join(dirpath, filename)\n",
    "                        print(wtd)\n",
    "                        RemovePolygonHoles_management(wtd, threshold = 0.0)\n",
    "# End timing\n",
    "processEnd = time.time()\n",
    "processElapsed = int(processEnd - processStart)\n",
    "processSuccess_time = datetime.datetime.now()\n",
    "\n",
    "# Report success\n",
    "print(f'Process completed at {processSuccess_time.strftime(\"%Y-%m-%d %H:%M\")} '\n",
    "      f'(Elapsed time: {datetime.timedelta(seconds=processElapsed)})')\n",
    "print('----------')"
   ],
   "metadata": {
    "collapsed": false,
    "pycharm": {
     "name": "#%%\n"
    }
   }
  }
 ],
 "metadata": {
  "kernelspec": {
   "name": "pycharm-8caab41e",
   "language": "python",
   "display_name": "PyCharm (AKSSF)"
  },
  "language_info": {
   "codemirror_mode": {
    "name": "ipython",
    "version": 2
   },
   "file_extension": ".py",
   "mimetype": "text/x-python",
   "name": "python",
   "nbconvert_exporter": "python",
   "pygments_lexer": "ipython2",
   "version": "2.7.6"
  }
 },
 "nbformat": 4,
 "nbformat_minor": 0
}