{
 "cells": [
  {
   "cell_type": "markdown",
   "metadata": {
    "collapsed": true,
    "pycharm": {
     "name": "#%% md\n"
    }
   },
   "source": [
    "# MODIS snow metrics\n",
    "\n",
    "MODIS snow metrics are downloaded as multi-band rasters, each band is a\n",
    "metric and rasters are for years: 2001-2019.\n",
    "\n",
    "Steps:\n",
    "1. Create new raster by year filtered on band 10 cells equal to 32.\n",
    "2. Use zonal statistics to calculate average lcld by watershed.\n"
   ]
  },
  {
   "cell_type": "markdown",
   "source": [
    "# 1.1 create dictionary with path and year for all modis rasters\n",
    "\n",
    "import arcpy\n",
    "import os\n",
    "\n",
    "modis_folder = r\"W:\\GIS\\MODIS_Snow_Metrics\"\n",
    "modis_rasters = {}\n",
    "\n",
    "arcpy.env.workspace = modis_folder\n",
    "rasters = arcpy.ListRasters()\n",
    "\n",
    "#remove extra 2011 raster. not sure what it is.\n",
    "rasters = [x for x in rasters if \"_c.tif\" not in x]\n",
    "rasters = [x for x in rasters if \"byyear.tif\" not in x]\n",
    "print(rasters)\n",
    "\n",
    "for raster in rasters:\n",
    "    # path = os.path.join(modis_folder, raster)\n",
    "    year = raster[0:4]\n",
    "    modis_rasters[year] = path\n",
    "\n",
    "print(len(modis_rasters))\n",
    "print(modis_rasters)"
   ],
   "metadata": {
    "collapsed": false,
    "pycharm": {
     "name": "#%% md\n"
    }
   }
  },
  {
   "cell_type": "markdown",
   "source": [
    "# 1.2 create new set of rasters after filtering on band 10 value\n",
    "# for land and continuous snow cover\n",
    "\n",
    "import arcpy, os\n",
    "from arcpy.sa import *\n",
    "\n",
    "arcpy.env.overwriteOutput = True\n",
    "\n",
    "for key, value in modis_rasters.items():\n",
    "    print(\"Creating band_5 mask for: \" + key)\n",
    "    #create mask by converting band_10 to 1/0\n",
    "    band_10 = Raster(value + \"/Band_10\")\n",
    "    mask1 = Con(band_10 == 32, 1)\n",
    "    #extract band_5 to new raster using new mask\n",
    "    extract1 = ExtractByMask(value + \"/Band_5\", mask1)\n",
    "    extract1.save(\"W://GIS//MODIS_Snow_Metrics//LCLD_rasters//\" + key + \"_lcld_32.tif\")"
   ],
   "metadata": {
    "collapsed": false,
    "pycharm": {
     "name": "#%% md\n"
    }
   }
  },
  {
   "cell_type": "markdown",
   "source": [
    "# 1.3 create dictionary with path and year for all lcld rasters\n",
    "\n",
    "import arcpy\n",
    "import os\n",
    "\n",
    "lcld_folder = r\"W:\\GIS\\MODIS_Snow_Metrics\\LCLD_rasters\"\n",
    "lcld_rasters = {}\n",
    "\n",
    "arcpy.env.workspace = lcld_folder\n",
    "rasters = arcpy.ListRasters()\n",
    "\n",
    "for raster in rasters:\n",
    "    path = os.path.join(lcld_folder, raster)\n",
    "    year = raster[0:4]\n",
    "    lcld_rasters[year] = path\n",
    "\n",
    "print(len(lcld_rasters))\n",
    "print(lcld_rasters)"
   ],
   "metadata": {
    "collapsed": false,
    "pycharm": {
     "name": "#%% md\n"
    }
   }
  },
  {
   "cell_type": "code",
   "execution_count": null,
   "outputs": [],
   "source": [
    "# 2.1 get average lcld by watershed using zonal statistics as table\n",
    "# Note there is an error for very small watersheds that don't intersect cell center\n",
    "# Used try except to skip error, buffer by 150 meters and try again\n",
    "# MODIS cell size is 500 m so that should work\n",
    "\n",
    "import arcpy, os, re\n",
    "from arcpy.sa import *\n",
    "arcpy.env.overwriteOutput = True\n",
    "\n",
    "baseFolder = r\"W:\\GIS\\AKSSF\"\n",
    "# regions = [\"Kodiak\", \"Cook_Inlet\", \"Copper_River\", \"Bristol_Bay\", \"Prince_William_Sound\"]\n",
    "regions = [\"Copper_River\"]\n",
    "\n",
    "for region in regions:\n",
    "    print(\"Starting zonal statistics for region: \" + region)\n",
    "    wtd_dataset = baseFolder + \"\\\\\" + region + \"\\\\\" + region + \".gdb\\\\Watersheds\"\n",
    "    arcpy.env.workspace = wtd_dataset\n",
    "    wtds = arcpy.ListFeatureClasses()\n",
    "    for wtd in wtds:\n",
    "        print(\"starting zonal statistics for wtd: \" + wtd)\n",
    "        wtd_path = os.path.join(wtd_dataset, wtd)\n",
    "        for key, value in lcld_rasters.items():\n",
    "            try:\n",
    "                gdb = baseFolder + \"\\\\\" + region + \"\\\\\" + region + \".gdb\"\n",
    "                out_table = gdb + \"\\\\\" + wtd + \"_\" + key + \"_\" + \"tbl\"\n",
    "                arcpy.ia.ZonalStatisticsAsTable(wtd_path, \"OBJECTID\", value, out_table, \"DATA\", \"MEAN\", \"CURRENT_SLICE\", 90, \"AUTO_DETECT\")\n",
    "            except:\n",
    "                buffer = wtd_path + \"buf\"\n",
    "                arcpy.Buffer_analysis(wtd_path, buffer, \"150 Meters\")\n",
    "                arcpy.ia.ZonalStatisticsAsTable(buffer, \"OBJECTID\", value, out_table, \"DATA\", \"MEAN\", \"CURRENT_SLICE\", 90, \"AUTO_DETECT\")"
   ],
   "metadata": {
    "collapsed": false,
    "pycharm": {
     "name": "#%%\n"
    }
   }
  },
  {
   "cell_type": "code",
   "execution_count": null,
   "outputs": [],
   "source": [
    "# 2.2 read in tables, add year and watershed, and merge\n",
    "\n",
    "import arcpy, os, re\n",
    "from arcpy.sa import *\n",
    "arcpy.env.overwriteOutput = True\n",
    "\n",
    "baseFolder = r\"W:\\GIS\\AKSSF\"\n",
    "regions = [\"Kodiak\", \"Cook_Inlet\", \"Copper_River\", \"Bristol_Bay\", \"Prince_William_Sound\"]\n",
    "\n",
    "for region in regions:\n",
    "    gdb = baseFolder + \"\\\\\" + region + \"\\\\\" + region + \".gdb\"\n",
    "    arcpy.env.workspace = gdb\n",
    "    modis_tables = arcpy.ListTables()\n",
    "    # print(modis_tables)\n",
    "    for table in modis_tables:\n",
    "        in_table = os.path.join(gdb, table)\n",
    "        arcpy.AddField_management(in_table, \"year\", \"SHORT\")\n",
    "        arcpy.AddField_management(in_table, \"cat_ID\", \"LONG\")\n",
    "        m = re.findall('_(.*)_', table, re.MULTILINE)\n",
    "        for a in m:\n",
    "            cat_id = re.split(\"\\_\", a)[0]\n",
    "            year = re.split(\"\\_\", a)[1]\n",
    "        arcpy.CalculateField_management(in_table, \"year\", year)\n",
    "        arcpy.CalculateField_management(in_table, \"cat_id\", cat_id)\n",
    "    arcpy.Merge_management(modis_tables, \"modis_summary_table\")\n"
   ],
   "metadata": {
    "collapsed": false,
    "pycharm": {
     "name": "#%%\n"
    }
   }
  },
  {
   "cell_type": "code",
   "execution_count": null,
   "outputs": [],
   "source": [
    "# 2.3 delete all the modis tables except the final summary table\n",
    "\n",
    "import arcpy, os\n",
    "\n",
    "baseFolder = r\"W:\\GIS\\AKSSF\"\n",
    "regions = [\"Kodiak\", \"Cook_Inlet\", \"Copper_River\", \"Bristol_Bay\", \"Prince_William_Sound\"]\n",
    "\n",
    "for region in regions:\n",
    "    gdb = baseFolder + \"\\\\\" + region + \"\\\\\" + region + \".gdb\"\n",
    "    arcpy.env.workspace = gdb\n",
    "    tables = arcpy.ListTables()\n",
    "    tables = [x for x in tables if \"modis_summary_table\" not in x]\n",
    "    tables = [x for x in tables if \"vaa_merge\" not in x]\n",
    "    arcpy.Delete_management(tables)"
   ],
   "metadata": {
    "collapsed": false,
    "pycharm": {
     "name": "#%%\n",
     "is_executing": true
    }
   }
  }
 ],
 "metadata": {
  "kernelspec": {
   "display_name": "Python 3",
   "language": "python",
   "name": "python3"
  },
  "language_info": {
   "codemirror_mode": {
    "name": "ipython",
    "version": 2
   },
   "file_extension": ".py",
   "mimetype": "text/x-python",
   "name": "python",
   "nbconvert_exporter": "python",
   "pygments_lexer": "ipython2",
   "version": "2.7.6"
  }
 },
 "nbformat": 4,
 "nbformat_minor": 0
}