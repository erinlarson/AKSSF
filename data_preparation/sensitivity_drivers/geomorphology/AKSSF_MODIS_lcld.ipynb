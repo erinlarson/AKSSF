{
 "cells": [
  {
   "cell_type": "markdown",
   "metadata": {
    "collapsed": true,
    "pycharm": {
     "name": "#%% md\n"
    }
   },
   "source": [
    "# MODIS snow metrics\n",
    "\n",
    "MODIS snow metrics are downloaded as multi-band rasters, each band is a\n",
    "metric and rasters are for years: 2001-2019.\n",
    "\n",
    "Steps:\n",
    "1. Create new raster by year filtered on band 10 cells equal to 32.\n",
    "2. Use zonal statistics to calculate average lcld by watershed.\n"
   ]
  },
  {
   "cell_type": "code",
   "source": [
    "# 1.1 create dictionary with path and year for all modis rasters\n",
    "\n",
    "import arcpy\n",
    "import os\n",
    "\n",
    "modis_folder = r\"W:\\GIS\\MODIS_Snow_Metrics\"\n",
    "modis_rasters = {}\n",
    "\n",
    "arcpy.env.workspace = modis_folder\n",
    "rasters = arcpy.ListRasters()\n",
    "\n",
    "#remove extra 2011 raster. not sure what it is.\n",
    "rasters = [x for x in rasters if \"_c.tif\" not in x]\n",
    "rasters = [x for x in rasters if \"byyear.tif\" not in x]\n",
    "print(rasters)\n",
    "\n",
    "for raster in rasters:\n",
    "    # path = os.path.join(modis_folder, raster)\n",
    "    year = raster[0:4]\n",
    "    modis_rasters[year] = path\n",
    "\n",
    "print(len(modis_rasters))\n",
    "print(modis_rasters)"
   ],
   "metadata": {
    "collapsed": false,
    "pycharm": {
     "name": "#%%\n"
    }
   },
   "execution_count": null,
   "outputs": []
  },
  {
   "cell_type": "code",
   "source": [
    "# 1.2 create new set of rasters after filtering on band 10 value\n",
    "# for land and continuous snow cover\n",
    "\n",
    "import arcpy, os\n",
    "from arcpy.sa import *\n",
    "\n",
    "arcpy.env.overwriteOutput = True\n",
    "\n",
    "for key, value in modis_rasters.items():\n",
    "    print(\"Creating band_5 mask for: \" + key)\n",
    "    #create mask by converting band_10 to 1/0\n",
    "    band_10 = Raster(value + \"/Band_10\")\n",
    "    mask1 = Con(band_10 == 32, 1)\n",
    "    #extract band_5 to new raster using new mask\n",
    "    extract1 = ExtractByMask(value + \"/Band_5\", mask1)\n",
    "    extract1.save(\"W://GIS//MODIS_Snow_Metrics//LCLD_rasters//\" + key + \"_lcld_32.tif\")"
   ],
   "metadata": {
    "collapsed": false,
    "pycharm": {
     "name": "#%%\n"
    }
   },
   "execution_count": null,
   "outputs": []
  },
  {
   "cell_type": "code",
   "source": [
    "# 1.3 create dictionary with path and year for all lcld rasters\n",
    "\n",
    "import arcpy\n",
    "import os\n",
    "\n",
    "lcld_folder = r\"W:\\GIS\\MODIS_Snow_Metrics\\LCLD_rasters\"\n",
    "lcld_rasters = {}\n",
    "\n",
    "arcpy.env.workspace = lcld_folder\n",
    "rasters = arcpy.ListRasters()\n",
    "\n",
    "for raster in rasters:\n",
    "    path = os.path.join(lcld_folder, raster)\n",
    "    year = raster[0:4]\n",
    "    lcld_rasters[year] = path\n",
    "\n",
    "print(len(lcld_rasters))\n",
    "print(lcld_rasters)\n"
   ],
   "metadata": {
    "collapsed": false,
    "pycharm": {
     "name": "#%%\n"
    }
   },
   "execution_count": 1,
   "outputs": [
    {
     "name": "stdout",
     "output_type": "stream",
     "text": [
      "19\n",
      "{'2001': 'W:\\\\GIS\\\\MODIS_Snow_Metrics\\\\LCLD_rasters\\\\2001_lcld_32.tif', '2002': 'W:\\\\GIS\\\\MODIS_Snow_Metrics\\\\LCLD_rasters\\\\2002_lcld_32.tif', '2003': 'W:\\\\GIS\\\\MODIS_Snow_Metrics\\\\LCLD_rasters\\\\2003_lcld_32.tif', '2004': 'W:\\\\GIS\\\\MODIS_Snow_Metrics\\\\LCLD_rasters\\\\2004_lcld_32.tif', '2005': 'W:\\\\GIS\\\\MODIS_Snow_Metrics\\\\LCLD_rasters\\\\2005_lcld_32.tif', '2006': 'W:\\\\GIS\\\\MODIS_Snow_Metrics\\\\LCLD_rasters\\\\2006_lcld_32.tif', '2007': 'W:\\\\GIS\\\\MODIS_Snow_Metrics\\\\LCLD_rasters\\\\2007_lcld_32.tif', '2008': 'W:\\\\GIS\\\\MODIS_Snow_Metrics\\\\LCLD_rasters\\\\2008_lcld_32.tif', '2009': 'W:\\\\GIS\\\\MODIS_Snow_Metrics\\\\LCLD_rasters\\\\2009_lcld_32.tif', '2010': 'W:\\\\GIS\\\\MODIS_Snow_Metrics\\\\LCLD_rasters\\\\2010_lcld_32.tif', '2011': 'W:\\\\GIS\\\\MODIS_Snow_Metrics\\\\LCLD_rasters\\\\2011_lcld_32.tif', '2012': 'W:\\\\GIS\\\\MODIS_Snow_Metrics\\\\LCLD_rasters\\\\2012_lcld_32.tif', '2013': 'W:\\\\GIS\\\\MODIS_Snow_Metrics\\\\LCLD_rasters\\\\2013_lcld_32.tif', '2014': 'W:\\\\GIS\\\\MODIS_Snow_Metrics\\\\LCLD_rasters\\\\2014_lcld_32.tif', '2015': 'W:\\\\GIS\\\\MODIS_Snow_Metrics\\\\LCLD_rasters\\\\2015_lcld_32.tif', '2016': 'W:\\\\GIS\\\\MODIS_Snow_Metrics\\\\LCLD_rasters\\\\2016_lcld_32.tif', '2017': 'W:\\\\GIS\\\\MODIS_Snow_Metrics\\\\LCLD_rasters\\\\2017_lcld_32.tif', '2018': 'W:\\\\GIS\\\\MODIS_Snow_Metrics\\\\LCLD_rasters\\\\2018_lcld_32.tif', '2019': 'W:\\\\GIS\\\\MODIS_Snow_Metrics\\\\LCLD_rasters\\\\2019_lcld_32.tif'}\n"
     ]
    }
   ]
  },
  {
   "cell_type": "markdown",
   "source": [
    "Step 2 get average lcld by watershed using zonal statistics as table\n",
    "Note there is an error for very small watersheds that don't intersect cell center\n",
    "Used try except to skip error, buffer by 150 meters and try again\n",
    "MODIS cell size is 500 m so that should work\n",
    "Adding fields for watershed number and year of MODIS snow metric\n",
    "appending mean, watershed, and year to a table\n",
    "deleting zonal stats table\n",
    "converting everything to pandas data frame and exporting as .csv"
   ],
   "metadata": {
    "collapsed": false,
    "pycharm": {
     "name": "#%% md\n"
    }
   }
  },
  {
   "cell_type": "code",
   "execution_count": null,
   "outputs": [],
   "source": [
    "import arcpy, os, re\n",
    "import numpy as np\n",
    "import pandas as pd\n",
    "from arcpy.sa import *\n",
    "arcpy.env.overwriteOutput = True\n",
    "\n",
    "baseFolder = r\"W:\\GIS\\AKSSF\"\n",
    "regions = [\"Kodiak\", \"Cook_Inlet\", \"Copper_River\", \"Bristol_Bay\", \"Prince_William_Sound\"]\n",
    "# regions = [\"Cook_Inlet\", \"Copper_River\"]\n",
    "\n",
    "for region in regions:\n",
    "    print(\"Starting zonal statistics for region: \" + region)\n",
    "    modis_lst = []\n",
    "    wtd_dataset = baseFolder + \"\\\\\" + region + \"\\\\\" + region + \".gdb\\\\Watersheds\"\n",
    "    arcpy.env.workspace = wtd_dataset\n",
    "    wtds = arcpy.ListFeatureClasses()\n",
    "    print(wtds)\n",
    "    print(len(wtds))\n",
    "    for wtd in wtds:\n",
    "        print(\"starting zonal statistics for wtd: \" + wtd)\n",
    "        wtd_path = os.path.join(wtd_dataset, wtd)\n",
    "        for key, value in lcld_rasters.items():\n",
    "            try:\n",
    "                gdb = baseFolder + \"\\\\\" + region + \"\\\\\" + region + \".gdb\"\n",
    "                out_table = gdb + \"\\\\\" + wtd + \"_\" + key + \"_\" + \"tbl\"\n",
    "                arcpy.ia.ZonalStatisticsAsTable(wtd_path, \"OBJECTID\", value, out_table, \"DATA\", \"MEAN\", \"CURRENT_SLICE\", 90, \"AUTO_DETECT\")\n",
    "            except:\n",
    "                buffer = \"memory/\" + wtd + \"buf\" #save buffer to memory\n",
    "                arcpy.Buffer_analysis(wtd_path, buffer, \"150 Meters\")\n",
    "                arcpy.ia.ZonalStatisticsAsTable(buffer, \"OBJECTID\", value, out_table, \"DATA\", \"MEAN\", \"CURRENT_SLICE\", 90, \"AUTO_DETECT\")\n",
    "            #add fields\n",
    "            arcpy.AddField_management(out_table, \"year\", \"SHORT\")\n",
    "            arcpy.AddField_management(out_table, \"cat_ID\", \"DOUBLE\")\n",
    "            table_name = os.path.basename(out_table)\n",
    "            print(table_name)\n",
    "            m = re.findall('_(.*)_', table_name, re.MULTILINE)\n",
    "            print(m)\n",
    "            for a in m:\n",
    "                cat_id = re.findall(r'[0-9]+', a)[0] #numbers only\n",
    "                year = re.split(\"\\_\", a)[1]\n",
    "                print(cat_id)\n",
    "                print(year)\n",
    "            arcpy.CalculateField_management(out_table, \"year\", year)\n",
    "            arcpy.CalculateField_management(out_table, \"cat_id\", cat_id)\n",
    "            #convert table to numpy array, append to list\n",
    "            arr = arcpy.da.TableToNumPyArray(out_table, ['year', 'cat_id', 'MEAN'])\n",
    "            modis_lst.append(arr)\n",
    "            print(modis_lst)\n",
    "            #delete table\n",
    "            arcpy.Delete_management(out_table)\n",
    "\n",
    "    #convert list to pandas data frame\n",
    "    df = pd.DataFrame(np.concatenate(modis_lst))\n",
    "    df.insert(0, 'Region', region)\n",
    "    df.to_csv(baseFolder + \"\\\\\" + region + \"\\\\modis_summary_table.csv\")\n"
   ],
   "metadata": {
    "collapsed": false,
    "pycharm": {
     "name": "#%%\n"
    }
   }
  }
 ],
 "metadata": {
  "kernelspec": {
   "display_name": "Python 3",
   "language": "python",
   "name": "python3"
  },
  "language_info": {
   "codemirror_mode": {
    "name": "ipython",
    "version": 2
   },
   "file_extension": ".py",
   "mimetype": "text/x-python",
   "name": "python",
   "nbconvert_exporter": "python",
   "pygments_lexer": "ipython2",
   "version": "2.7.6"
  }
 },
 "nbformat": 4,
 "nbformat_minor": 0
}