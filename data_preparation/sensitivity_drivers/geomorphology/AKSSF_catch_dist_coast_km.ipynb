{
 "cells": [
  {
   "cell_type": "markdown",
   "source": [
    "## Import Modules\n"
   ],
   "metadata": {
    "collapsed": false,
    "pycharm": {
     "name": "#%% md\n"
    }
   }
  },
  {
   "cell_type": "code",
   "execution_count": 8,
   "outputs": [
    {
     "name": "stdout",
     "output_type": "stream",
     "text": [
      "C:\\Users\\dwmerrigan\\Documents\\Github\\AKSSF\\data_preparation\\sensitivity_drivers\\geomorphology\n",
      "C:\\Program Files\\ArcGIS\\Pro\\bin\\Python\\envs\\arcgispro-py3\n"
     ]
    }
   ],
   "source": [
    "import arcpy\n",
    "import os\n",
    "import sys\n",
    "arcpy.env.overwriteOutput = True\n",
    "path = os.getcwd()\n",
    "print (path)\n",
    "print (sys.base_exec_prefix)"
   ],
   "metadata": {
    "collapsed": false,
    "pycharm": {
     "name": "#%%\n"
    }
   }
  },
  {
   "cell_type": "markdown",
   "source": [
    "## Set working/output directories\n",
    "1. Add cat_ID_con field to cats_intersect if it doesn't already exist\n",
    "2. Collect all cats_intersect to merge"
   ],
   "metadata": {
    "collapsed": false,
    "pycharm": {
     "name": "#%% md\n"
    }
   }
  },
  {
   "cell_type": "code",
   "execution_count": 9,
   "outputs": [
    {
     "name": "stdout",
     "output_type": "stream",
     "text": [
      "Dirpath:D:\\GIS\\AKSSF\\Bristol_Bay\\Bristol_Bay.gdb\n",
      " Filename:cats_intersect\n",
      "  Region:Bristol_Bay\n",
      "cat_ID_con field already present\n",
      "----------\n",
      "Dirpath:D:\\GIS\\AKSSF\\Cook_Inlet\\Cook_Inlet.gdb\n",
      " Filename:cats_intersect\n",
      "  Region:Cook_Inlet\n",
      "cat_ID_con field already present\n",
      "----------\n",
      "Dirpath:D:\\GIS\\AKSSF\\Copper_River\\Copper_River.gdb\n",
      " Filename:cats_intersect\n",
      "  Region:Copper_River\n",
      "cat_ID_con field already present\n",
      "----------\n",
      "Dirpath:D:\\GIS\\AKSSF\\Kodiak\\Kodiak.gdb\n",
      " Filename:cats_intersect\n",
      "  Region:Kodiak\n",
      "cat_ID_con field already present\n",
      "----------\n",
      "Dirpath:D:\\GIS\\AKSSF\\Prince_William_Sound\\Prince_William_Sound.gdb\n",
      " Filename:cats_intersect\n",
      "  Region:Prince_William_Sound\n",
      "cat_ID_con field already present\n",
      "----------\n"
     ]
    }
   ],
   "source": [
    "# Set data directories and output locations\n",
    "\n",
    "# Set AKSSF Data directory\n",
    "data_dir = r\"D:\\\\GIS\\\\AKSSF\"\n",
    "\n",
    "# Set regional datasets\n",
    "nhdplus_dat = ['Cook_Inlet','Copper_River']\n",
    "tauDem_dat = ['Bristol_Bay', 'Kodiak', 'Prince_William_Sound']\n",
    "\n",
    "# List to store cat_intersect paths\n",
    "cats = []\n",
    "\n",
    "# Unique identifier field\n",
    "unfid = 'cat_ID_con'\n",
    "\n",
    "# Set workspace to region folder\n",
    "arcpy.env.workspace = data_dir\n",
    "\n",
    "# Walk through data dir and collect cat_ints\n",
    "walk = arcpy.da.Walk(data_dir, datatype = 'FeatureClass')\n",
    "for dirpath, dirnames, filenames in walk:\n",
    "    for filename in filenames:\n",
    "        if filename == 'cats_intersect':\n",
    "            cat_int = os.path.join(dirpath, filename)\n",
    "            region = os.path.basename(dirpath)[:-4]\n",
    "            if region in nhdplus_dat:\n",
    "                valfield = 'NHDPlusID'\n",
    "            else:\n",
    "                valfield = 'catID'\n",
    "            print(f'Dirpath:{dirpath}\\n Filename:{filename}\\n  Region:{region}')\n",
    "            fields = []\n",
    "            for field in arcpy.ListFields(cat_int):\n",
    "                fields.append(field.name)\n",
    "            if 'cat_ID_con' not in fields:\n",
    "                print(f'unique id field not present adding field {unfid}')\n",
    "                arcpy.AddField_management(cat_int,unfid,'TEXT')\n",
    "                # Update 'cat_ID_con' field\n",
    "                with arcpy.da.UpdateCursor(cat_int, [valfield, unfid]) as cur:\n",
    "                    for row in cur:\n",
    "                        strval = str(row[0])\n",
    "                        row[1] = region + \"_\" + strval.replace(\".0\",\"\")\n",
    "                        # Update\n",
    "                        cur.updateRow(row)\n",
    "                    del(row)\n",
    "                del(cur)\n",
    "            else:\n",
    "                print(f'{unfid} field already present')\n",
    "            cats.append(cat_int)\n",
    "            print('----------')"
   ],
   "metadata": {
    "collapsed": false,
    "pycharm": {
     "name": "#%%\n"
    }
   }
  },
  {
   "cell_type": "code",
   "execution_count": 14,
   "outputs": [
    {
     "name": "stdout",
     "output_type": "stream",
     "text": [
      "Converting D:\\GIS\\AKSSF\\Prince_William_Sound\\Prince_William_Sound.gdb\\cats_intersect to centroid point fc 2022-01-19 10:44:59.816312...\n",
      "Getting distance to coast 2022-01-19 10:45:01.064321...\n",
      "Process complete at 2022-01-19 10:45:37.636848 time elapsed: 0:00:37.820536 \n"
     ]
    }
   ],
   "source": [
    "import arcpy,os,time,datetime\n",
    "# Merge all cats_intersect together\n",
    "all_cats = arcpy.Merge_management(cats,r'memory\\all_cats')\n",
    "\n",
    "#Set output location for catchment centroid points fc\n",
    "outgdb = r\"D:\\\\GIS\\\\AKSSF_land_met\\\\AKSSF_land_met.gdb\"\n",
    "\n",
    "# Set cat_points output\n",
    "cat_points = os.path.join(outgdb,'cat_ints_merge_centroid')\n",
    "\n",
    "# Set coastline fc\n",
    "coast = r\"T:\\\\Aquatic\\\\AKSSF\\\\AKSSF_Hydrography.gdb\\\\AKSSF_NHD_Coastline\"\n",
    "\n",
    "# Start timing function\n",
    "start = datetime.datetime.now()\n",
    "# Convert cats_int to centroid points and generate near table - set INSIDE option\n",
    "print(f'Converting {cat_int} to centroid point fc {start}...')\n",
    "cat_points = arcpy.FeatureToPoint_management(all_cats, cat_points, 'INSIDE')\n",
    "print(f'Getting distance to coast {datetime.datetime.now()}...')\n",
    "arcpy.analysis.Near(cat_points, coast, None, \"NO_LOCATION\", \"NO_ANGLE\", \"GEODESIC\", \"NEAR_DIST NEAR_DIST\")\n",
    "arcpy.AlterField_management(cat_points,'NEAR_DIST','dist_catch_coast_km','dist_catch_coast_km' )\n",
    "\n",
    "# Convert distance in meters to km\n",
    "with arcpy.da.UpdateCursor(cat_points,['dist_catch_coast_km']) as cur:\n",
    "    for row in cur:\n",
    "        row[0] = row[0] * 0.001\n",
    "        cur.updateRow(row)\n",
    "    del(row)\n",
    "del(cur)\n",
    "\n",
    "stop = datetime.datetime.now()\n",
    "elapsed  = stop - start\n",
    "print (f'Process complete at {datetime.datetime.now()} time elapsed: {elapsed} ')\n"
   ],
   "metadata": {
    "collapsed": false,
    "pycharm": {
     "name": "#%%\n"
    }
   }
  },
  {
   "cell_type": "markdown",
   "source": [
    "### Examine output as pd dataframe"
   ],
   "metadata": {
    "collapsed": false,
    "pycharm": {
     "name": "#%% md\n"
    }
   }
  },
  {
   "cell_type": "code",
   "execution_count": 15,
   "outputs": [
    {
     "data": {
      "text/plain": "                            dist_catch_coast_km\ncat_ID_con                                     \nBristol_Bay_1023044                       36.02\nBristol_Bay_2041471                       40.57\nBristol_Bay_2065755                       23.22\nBristol_Bay_2065914                       65.32\nBristol_Bay_2066924                        5.09\n...                                         ...\nPrince_William_Sound_43933                 0.33\nPrince_William_Sound_43973                 0.15\nPrince_William_Sound_44553                 0.66\nPrince_William_Sound_46055                 0.29\nPrince_William_Sound_46513                 0.58\n\n[431 rows x 1 columns]",
      "text/html": "<div>\n<style scoped>\n    .dataframe tbody tr th:only-of-type {\n        vertical-align: middle;\n    }\n\n    .dataframe tbody tr th {\n        vertical-align: top;\n    }\n\n    .dataframe thead th {\n        text-align: right;\n    }\n</style>\n<table border=\"1\" class=\"dataframe\">\n  <thead>\n    <tr style=\"text-align: right;\">\n      <th></th>\n      <th>dist_catch_coast_km</th>\n    </tr>\n    <tr>\n      <th>cat_ID_con</th>\n      <th></th>\n    </tr>\n  </thead>\n  <tbody>\n    <tr>\n      <th>Bristol_Bay_1023044</th>\n      <td>36.02</td>\n    </tr>\n    <tr>\n      <th>Bristol_Bay_2041471</th>\n      <td>40.57</td>\n    </tr>\n    <tr>\n      <th>Bristol_Bay_2065755</th>\n      <td>23.22</td>\n    </tr>\n    <tr>\n      <th>Bristol_Bay_2065914</th>\n      <td>65.32</td>\n    </tr>\n    <tr>\n      <th>Bristol_Bay_2066924</th>\n      <td>5.09</td>\n    </tr>\n    <tr>\n      <th>...</th>\n      <td>...</td>\n    </tr>\n    <tr>\n      <th>Prince_William_Sound_43933</th>\n      <td>0.33</td>\n    </tr>\n    <tr>\n      <th>Prince_William_Sound_43973</th>\n      <td>0.15</td>\n    </tr>\n    <tr>\n      <th>Prince_William_Sound_44553</th>\n      <td>0.66</td>\n    </tr>\n    <tr>\n      <th>Prince_William_Sound_46055</th>\n      <td>0.29</td>\n    </tr>\n    <tr>\n      <th>Prince_William_Sound_46513</th>\n      <td>0.58</td>\n    </tr>\n  </tbody>\n</table>\n<p>431 rows × 1 columns</p>\n</div>"
     },
     "execution_count": 15,
     "metadata": {},
     "output_type": "execute_result"
    }
   ],
   "source": [
    "import pandas as pd\n",
    "import os, arcpy\n",
    "\n",
    "# Unique identifier field\n",
    "unfid = 'cat_ID_con'\n",
    "\n",
    "#Set output location for catchment centroid points fc\n",
    "outgdb = r\"D:\\\\GIS\\\\AKSSF_land_met\\\\AKSSF_land_met.gdb\"\n",
    "\n",
    "# Set cat_points output\n",
    "cat_points = os.path.join(outgdb,'cat_ints_merge_centroid')\n",
    "\n",
    "pd.options.display.float_format = '{:.2f}'.format # only display 2 decimal places\n",
    "\n",
    "# list to store covariate data frames\n",
    "dfs = []\n",
    "# Make catchment points df\n",
    "cat_df = pd.DataFrame()\n",
    "cat_field_list = []\n",
    "\n",
    "for field in arcpy.ListFields(cat_points):\n",
    "    cat_field_list.append(field.name)\n",
    "cat_arr = arcpy.da.TableToNumPyArray(cat_points, [unfid, 'dist_catch_coast_km'])\n",
    "cat_df = pd.DataFrame(cat_arr)\n",
    "cat_df = cat_df.set_index('cat_ID_con')\n",
    "dfs.append(cat_df)\n",
    "cat_df"
   ],
   "metadata": {
    "collapsed": false,
    "pycharm": {
     "name": "#%%\n"
    }
   }
  },
  {
   "cell_type": "code",
   "execution_count": 16,
   "outputs": [
    {
     "name": "stdout",
     "output_type": "stream",
     "text": [
      "CSV export complete\n",
      "----------\n"
     ]
    }
   ],
   "source": [
    "import os\n",
    "#Export CSV to read into R\n",
    "outdir = r\"C:\\Users\\dwmerrigan\\Documents\\GitHub\\AKSSF\\data_preparation\\sensitivity_drivers\"\n",
    "sj_outname = 'AKSSF_dist_catch_coast_km.csv'\n",
    "arcpy.da.NumPyArrayToTable(cat_arr,os.path.join(outdir,sj_outname))\n",
    "print('CSV export complete')\n",
    "print('----------')"
   ],
   "metadata": {
    "collapsed": false,
    "pycharm": {
     "name": "#%%\n"
    }
   }
  }
 ],
 "metadata": {
  "kernelspec": {
   "display_name": "Python 3",
   "language": "python",
   "name": "python3"
  },
  "language_info": {
   "codemirror_mode": {
    "name": "ipython",
    "version": 2
   },
   "file_extension": ".py",
   "mimetype": "text/x-python",
   "name": "python",
   "nbconvert_exporter": "python",
   "pygments_lexer": "ipython2",
   "version": "2.7.6"
  }
 },
 "nbformat": 4,
 "nbformat_minor": 0
}