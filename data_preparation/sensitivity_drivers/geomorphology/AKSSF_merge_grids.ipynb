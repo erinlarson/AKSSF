{
 "cells": [
  {
   "cell_type": "markdown",
   "metadata": {
    "collapsed": true,
    "pycharm": {
     "name": "#%% md\n"
    }
   },
   "source": [
    "Can follow some code in timm's dem merging function.\n",
    "https://github.com/accs-uaa/beringian-vegetation/blob/master/package_GeospatialProcessing/mergeElevationTiles.py\n",
    "\n",
    "Recommended workflow for geoprocessing:\n",
    "- import arcpy\n",
    "- set environments\n",
    "- create lists of gis objects\n",
    "- iterate through list elements\n",
    "- execute geoprocessing tools\n",
    "\n",
    "Geoprocessing steps in this script\n",
    "1. create a set of folders and gdb for each region under a master AKSSF folder\n",
    "2. loop through regions and grids or feature classes (e.g. catchments or flowlines)\n",
    "3. merge grids or feature classes\n",
    "4. save in folder/gdb with consistent name (e.g. fac_merge)\n",
    "\n",
    "These seamed grids will enable us to use zonal statistics with the selected catchments\n",
    "and watersheds to get our environmental variables for modeling."
   ]
  },
  {
   "cell_type": "markdown",
   "source": [
    "# step 1\n",
    "# Create folders for storing outputs\n",
    "\n",
    "#import modules\n",
    "import os\n",
    "import arcpy\n",
    "\n",
    "#user inputs\n",
    "baseFolder = \"W:\\\\GIS\\\\\"\n",
    "projectName = \"AKSSF\"\n",
    "\n",
    "#define folder paths\n",
    "ciFolder = baseFolder + \"\\\\\" + projectName + \"\\\\\"+ \"Cook_Inlet\"\n",
    "pwsFolder = baseFolder + \"\\\\\" + projectName + \"\\\\\"+ \"Prince_William_Sound\"\n",
    "bbFolder = baseFolder + \"\\\\\" + projectName + \"\\\\\"+ \"Bristol_Bay\"\n",
    "crFolder = baseFolder + \"\\\\\" + projectName + \"\\\\\"+ \"Copper_River\"\n",
    "kodFolder = baseFolder + \"\\\\\" + projectName + \"\\\\\"+ \"Kodiak\"\n",
    "\n",
    "#create list of folder paths\n",
    "folders = [ciFolder, pwsFolder, bbFolder, crFolder, kodFolder]\n",
    "\n",
    "#check if project folder exists\n",
    "if not os.path.exists(baseFolder + projectName):\n",
    "    #Create folder if it does not exist\n",
    "    for folder in folders:\n",
    "        os.makedirs(folder)\n",
    "        print(\"Created: \" + folder)\n",
    "else:\n",
    "    #if project folder exists, print error message\n",
    "    print (projectName + \" exists. Please provide a new project name.\")"
   ],
   "metadata": {
    "collapsed": false,
    "pycharm": {
     "name": "#%% md\n"
    }
   }
  },
  {
   "cell_type": "code",
   "execution_count": 1,
   "outputs": [
    {
     "name": "stdout",
     "output_type": "stream",
     "text": [
      "['W:\\\\GIS\\\\NHDPlus\\\\CookInlet_20201216\\\\NHDPLUS_H_19020202_HU8_GDB.gdb', 'W:\\\\GIS\\\\NHDPlus\\\\CookInlet_20201216\\\\NHDPLUS_H_19020301_HU8_GDB.gdb', 'W:\\\\GIS\\\\NHDPlus\\\\CookInlet_20201216\\\\NHDPLUS_H_19020302_HU8_GDB.gdb', 'W:\\\\GIS\\\\NHDPlus\\\\CookInlet_20201216\\\\NHDPLUS_H_19020401_HU8_GDB.gdb', 'W:\\\\GIS\\\\NHDPlus\\\\CookInlet_20201216\\\\NHDPLUS_H_19020402_HU8_GDB.gdb', 'W:\\\\GIS\\\\NHDPlus\\\\CookInlet_20201216\\\\NHDPLUS_H_19020501_HU8_GDB.gdb', 'W:\\\\GIS\\\\NHDPlus\\\\CookInlet_20201216\\\\NHDPLUS_H_19020502_HU8_GDB.gdb', 'W:\\\\GIS\\\\NHDPlus\\\\CookInlet_20201216\\\\NHDPLUS_H_19020503_HU8_GDB.gdb', 'W:\\\\GIS\\\\NHDPlus\\\\CookInlet_20201216\\\\NHDPLUS_H_19020504_HU8_GDB.gdb', 'W:\\\\GIS\\\\NHDPlus\\\\CookInlet_20201216\\\\NHDPLUS_H_19020505_HU8_GDB.gdb', 'W:\\\\GIS\\\\NHDPlus\\\\CookInlet_20201216\\\\NHDPLUS_H_19020601_HU8_GDB.gdb', 'W:\\\\GIS\\\\NHDPlus\\\\CookInlet_20201216\\\\NHDPLUS_H_19020602_HU8_GDB.gdb', 'W:\\\\GIS\\\\NHDPlus\\\\CookInlet_20201216\\\\NHDPLUS_H_19020800_HU8_GDB.gdb']\n"
     ]
    },
    {
     "data": {
      "text/plain": "<Result 'W:\\\\GIS\\\\AKSSF\\\\Cook_Inlet\\\\Cook_Inlet.gdb\\\\vaa_merge'>",
      "text/html": "<h2>Output</h2>W:\\GIS\\AKSSF\\Cook_Inlet\\Cook_Inlet.gdb\\vaa_merge<h2>Messages</h2>Start Time: Wednesday, September 8, 2021 1:11:10 PM<br/>Succeeded at Wednesday, September 8, 2021 1:11:33 PM (Elapsed Time: 23.18 seconds)<br/><style>.rendered_html td, .rendered_html th {text-align: left;}.rendered_html tbody {border: 1px solid black;}</style>"
     },
     "execution_count": 1,
     "metadata": {},
     "output_type": "execute_result"
    }
   ],
   "source": [
    "# step 2\n",
    "# merge catchments and vaa tables\n",
    "import arcpy\n",
    "import os\n",
    "\n",
    "baseFolder = \"W:\\\\GIS\\\\\"\n",
    "ciNHD = baseFolder + \"NHDPlus\\\\CookInlet_20201216\"\n",
    "arcpy.env.workspace = ciNHD\n",
    "gdbs = arcpy.ListWorkspaces('NHDPLUS*','FileGDB')\n",
    "print(gdbs)\n",
    "\n",
    "ciCats = []\n",
    "ciVAA = []\n",
    "for gdb in gdbs:\n",
    "    arcpy.env.workspace = gdb\n",
    "    catpath = os.path.join(arcpy.env.workspace, \"NHDPlus\\\\NHDPlusCatchment\")\n",
    "    ciCats.append(catpath)\n",
    "    vaapath = os.path.join(arcpy.env.workspace, \"NHDPlusFlowlineVAA\")\n",
    "    ciVAA.append(vaapath)\n",
    "\n",
    "arcpy.env.workspace =  r\"W:/GIS/AKSSF/Cook_Inlet.gdb\"\n",
    "arcpy.env.outputCoordinateSystem = arcpy.Describe(ciCats[1]).spatialReference\n",
    "arcpy.env.overwriteOutput = True\n",
    "\n",
    "arcpy.management.Merge(ciCats, r\"W:/GIS/AKSSF/Cook_Inlet/Cook_Inlet.gdb/cats_merge\")\n",
    "arcpy.management.Merge(ciVAA, r\"W:/GIS/AKSSF/Cook_Inlet/Cook_Inlet.gdb/vaa_merge\")\n",
    "\n"
   ],
   "metadata": {
    "collapsed": false,
    "pycharm": {
     "name": "#%%\n"
    }
   }
  },
  {
   "cell_type": "code",
   "execution_count": null,
   "outputs": [],
   "source": [
    "# step 3\n",
    "# merge raster datasets, dems, flow accumulation grids, others?\n",
    "# elevation grid - elevation statistics\n",
    "# flow accumulation grid - watershed size\n",
    "# slope grid (create first)\n",
    "# aspect grid (create first - Dustin has a script with this)\n",
    "\n",
    "\n",
    "import arcpy\n",
    "import os\n",
    "\n",
    "arcpy.env.workspace = r\"T:\\Aquatic\\AKSSF\\NHDPlus\\CookInlet_20201216\"\n",
    "flowacc_rasters = []\n",
    "raster_folders = arcpy.ListWorkspaces(\"*Rasters*\")\n",
    "print(raster_folders)\n",
    "\n",
    "for folder in raster_folders:\n",
    "    arcpy.env.workspace = folder\n",
    "    rasters = arcpy.ListRasters()\n",
    "    for raster in rasters:\n",
    "        if raster == 'fac.tif':\n",
    "            flowacc_raspath = os.path.normpath(os.path.join(folder, raster))\n",
    "            flowacc_rasters.append(flowacc_raspath)\n",
    "\n",
    "print(flowacc_rasters)\n",
    "print(flowacc_rasters[1])\n",
    "dataset = flowacc_rasters[1]\n",
    "spatial_ref = arcpy.Describe(dataset).spatialReference\n",
    "\n",
    "arcpy.MosaicToNewRaster_management(flowacc_rasters, r\"W:\\GIS\\AKSSF Southcentral\\Temporary\", \"ci_fac_merge.tif\", spatial_ref, \"32_BIT_SIGNED\", \"5\", \"1\", \"LAST\",\"FIRST\")"
   ],
   "metadata": {
    "collapsed": false,
    "pycharm": {
     "name": "#%%\n"
    }
   }
  }
 ],
 "metadata": {
  "kernelspec": {
   "display_name": "Python 3",
   "language": "python",
   "name": "python3"
  },
  "language_info": {
   "codemirror_mode": {
    "name": "ipython",
    "version": 2
   },
   "file_extension": ".py",
   "mimetype": "text/x-python",
   "name": "python",
   "nbconvert_exporter": "python",
   "pygments_lexer": "ipython2",
   "version": "2.7.6"
  }
 },
 "nbformat": 4,
 "nbformat_minor": 0
}