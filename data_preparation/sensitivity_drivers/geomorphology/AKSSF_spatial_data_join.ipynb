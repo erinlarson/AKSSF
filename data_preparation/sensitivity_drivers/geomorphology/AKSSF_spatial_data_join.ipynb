{
 "cells": [
  {
   "cell_type": "code",
   "execution_count": null,
   "metadata": {
    "collapsed": true
   },
   "outputs": [],
   "source": []
  },
  {
   "cell_type": "markdown",
   "source": [
    "# Watershed Summaries\n",
    "\n",
    "1. read in all watersheds feature classes\n",
    "2. create a table with the NHDPlusID/catID of the watershed name, region, and watershed area\n",
    "3. merge original point feature classes (inside and outside bb)\n",
    "4. do a spatial join with merged catchments by region to get catID and region on the points dataset\n",
    "5. join the watershed area to the points dataset using the catID"
   ],
   "metadata": {
    "collapsed": false
   }
  },
  {
   "cell_type": "code",
   "execution_count": null,
   "outputs": [],
   "source": [
    "# steps 1 and 2\n",
    "\n",
    "import arcpy\n",
    "import os\n",
    "import pandas as pd\n",
    "\n",
    "# regions = [\"Copper_River\"]\n",
    "regions = [\"Kodiak\", \"Cook_Inlet\", \"Copper_River\", \"Bristol_Bay\", \"Prince_William_Sound\"]\n",
    "\n",
    "for region in regions:\n",
    "    arcpy.env.workspace = \"W:\\\\GIS\\\\AKSSF\\\\\" + region + \"\\\\\" + region + \".gdb\\\\Watersheds\"\n",
    "    wtds = arcpy.ListFeatureClasses()\n",
    "    print(wtds)\n",
    "    print(len(wtds))\n",
    "    wtdList = []\n",
    "\n",
    "    for wtd in wtds:\n",
    "        wtdName = wtd[4:20]\n",
    "        print(\"Starting wtd: \" + wtdName)\n",
    "        wtdPath = os.path.join(arcpy.env.workspace, wtd)\n",
    "        arcpy.AddField_management(wtdPath, \"Area_km2\", \"DOUBLE\")\n",
    "        expression1 = \"{0}\".format(\"!SHAPE.area@SQUAREKILOMETERS!\")\n",
    "        arcpy.CalculateField_management(wtdPath, \"Area_km2\", expression1, \"PYTHON\", )\n",
    "        wtdArea = [row[0] for row in arcpy.da.SearchCursor(wtdPath, ['Area_km2'])]\n",
    "        print(\"wtdName: \" + str(wtdArea))\n",
    "        wtdList.append({'Region': region, 'Name': wtdName, 'Area_km2': wtdArea})\n",
    "\n",
    "wtdDf = pd.DataFrame(wtdList)\n",
    "print(wtdDf)\n"
   ],
   "metadata": {
    "collapsed": false,
    "pycharm": {
     "name": "#%%\n"
    }
   }
  },
  {
   "cell_type": "code",
   "execution_count": null,
   "outputs": [],
   "source": [
    "# step 3\n",
    "import arcpy\n",
    "\n",
    "\n",
    "gdb = \"W:\\\\GIS\\\\AKSSF\\\\AKSSF_Hydrography.gdb\"\n",
    "arcpy.env.workspace = gdb\n",
    "bb_pts = gdb + \"\\\\bb_md_verified_DM\"\n",
    "other_pts = gdb + \"\\\\sites_outside_bb_verified_DM\"\n",
    "\n",
    "output = \"akssf_pts_verified\"\n",
    "arcpy.Merge_management([bb_pts, other_pts], output)\n"
   ],
   "metadata": {
    "collapsed": false,
    "pycharm": {
     "name": "#%%\n"
    }
   }
  },
  {
   "cell_type": "code",
   "execution_count": null,
   "outputs": [],
   "source": [
    "# step 4\n",
    "\n",
    "import arcpy\n",
    "import os\n",
    "import numpy\n",
    "import pandas as pd\n",
    "\n",
    "arcpy.env.overwriteOutput = True\n",
    "regions = [\"Kodiak\", \"Cook_Inlet\", \"Copper_River\", \"Bristol_Bay\", \"Prince_William_Sound\"]\n",
    "# regions = [\"Kodiak\"]\n",
    "points = \"W:\\\\GIS\\\\AKSSF\\\\AKSSF_Hydrography.gdb\\\\akssf_pts_verified\"\n",
    "sites_lst = []\n",
    "\n",
    "for region in regions:\n",
    "    arcpy.env.workspace = \"W:\\\\GIS\\\\AKSSF\\\\\" + region + \"\\\\\" + region + \".gdb\"\n",
    "    cats = os.path.join(arcpy.env.workspace, \"cats_merge\")\n",
    "\n",
    "    arcpy.SpatialJoin_analysis(points, cats, \"sites_all_sj\")\n",
    "    #follow up with clip so just points in that region\n",
    "    arcpy.Clip_analysis(\"sites_all_sj\", cats, \"sites_sj\")\n",
    "    arcpy.DeleteFeatures_management(\"sites_all_sj\")\n",
    "    sites_sj = os.path.join(arcpy.env.workspace, \"sites_sj\")\n",
    "    sites_lst.append(os.path.join(arcpy.env.workspace, \"sites_sj\"))\n",
    "\n",
    "\n",
    "#merge all sites_sj into one point file with all the catIDs.\n",
    "all_sites_out = \"W:\\\\GIS\\\\AKSSF\\\\AKSSF_Hydrography.gdb\\\\all_sites_wcatid\"\n",
    "arcpy.Merge_management(sites_lst, all_sites_out)\n"
   ],
   "metadata": {
    "collapsed": false,
    "pycharm": {
     "name": "#%%\n"
    }
   }
  },
  {
   "cell_type": "code",
   "execution_count": null,
   "outputs": [],
   "source": [
    "# step 5\n",
    "\n",
    "import arcpy\n",
    "\n",
    "#save to dataframe or csv\n",
    "sitesDf = pd.DataFrame(arcpy.da.FeatureClassToNumPyArray(all_sites_out))\n",
    "\n",
    "#merge sitesDf with wtdDf to get watershed area linked to siteID\n",
    "\n",
    "\n"
   ],
   "metadata": {
    "collapsed": false,
    "pycharm": {
     "name": "#%%\n"
    }
   }
  }
 ],
 "metadata": {
  "kernelspec": {
   "display_name": "Python 3",
   "language": "python",
   "name": "python3"
  },
  "language_info": {
   "codemirror_mode": {
    "name": "ipython",
    "version": 2
   },
   "file_extension": ".py",
   "mimetype": "text/x-python",
   "name": "python",
   "nbconvert_exporter": "python",
   "pygments_lexer": "ipython2",
   "version": "2.7.6"
  }
 },
 "nbformat": 4,
 "nbformat_minor": 0
}