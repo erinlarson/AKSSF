{
 "cells": [
  {
   "cell_type": "markdown",
   "source": [
    "# Create watersheds and catchments\n",
    "\n",
    "AKSSF project has ~ 500 sites that have been shifted to the flow networks.\n",
    "We need to create watersheds for each. This will make extracting spatial\n",
    "and climatic covariates for modeling go much faster.\n",
    "\n",
    "Dustin pointed out that there are fromnodes and tonodes in the NHDPlus that can be used to navigate\n",
    "upstream, save all the NHPPlusIDs, select and merge the catchments to create watersheds for each site.\n",
    "This works in R so just need to transfer to python. Premise is to use a while loop to keep selecting\n",
    "new stream segments that have their tonode match the fromnode of the last segment(s). Stop when\n",
    "summing the ids is not greater than 0.\n",
    "\n",
    "Create a loop and process watersheds for all the points. Start with Cook Inlet first.\n",
    "Note that folders, geodbs, and merged catchments are created in the merge_grids script.\n",
    "1. select catchments that intersect points to get NHDPlusID\n",
    "2. create list of IDs\n",
    "3. use loop to create watersheds\n",
    "4. first get list of all upstream NHDPlusIDs\n",
    "5. create temporary layer of catchments\n",
    "6. select catchments that match the upstream IDs\n",
    "7. dissolved on those catchments and save to Cook Inlet gdb and watersheds feature dataset"
   ],
   "metadata": {
    "collapsed": false
   }
  },
  {
   "cell_type": "code",
   "execution_count": 21,
   "outputs": [
    {
     "name": "stdout",
     "output_type": "stream",
     "text": [
      "OBJECTID\n",
      "Shape\n",
      "NHDPlusID\n",
      "SourceFC\n",
      "GridCode\n",
      "AreaSqKm\n",
      "VPUID\n",
      "Catch_ID\n",
      "Shape_Length\n",
      "Shape_Area\n",
      "241\n"
     ]
    }
   ],
   "source": [
    "# steps 1 and 2\n",
    "# intersect points with catchments and create list of NHDPlusIDs\n",
    "import arcpy\n",
    "arcpy.env.workspace = r\"W:\\GIS\\AKSSF\\Cook_Inlet\\Cook_Inlet.gdb\"\n",
    "arcpy.env.overwriteOutput = True\n",
    "\n",
    "points = r\"T:\\Aquatic\\AKSSF\\AKSSF_Hydrography.gdb\\sites_outside_bb_verified_DM\"\n",
    "cats = r\"W:\\GIS\\AKSSF\\Cook_Inlet\\Cook_Inlet.gdb\\cats_merge\"\n",
    "idList = []\n",
    "outcats = \"cats_intersect\"\n",
    "\n",
    "arcpy.MakeFeatureLayer_management(cats, \"tempLayer\")\n",
    "arcpy.management.SelectLayerByLocation(\"tempLayer\", \"INTERSECT\", points)\n",
    "arcpy.management.SaveToLayerFile(\"tempLayer\", outcats)\n",
    "\n",
    "fields = arcpy.ListFields(\"tempLayer\")\n",
    "for field in fields:\n",
    "    print(\"{0}\".format(field.name))\n",
    "with arcpy.da.SearchCursor(\"tempLayer\", [\"NHDPlusID\"]) as cursor:\n",
    "    for row in cursor:\n",
    "        idList.append(row[0])\n",
    "\n",
    "print(len(idList))\n",
    "\n"
   ],
   "metadata": {
    "collapsed": false,
    "pycharm": {
     "name": "#%%\n"
    }
   }
  },
  {
   "cell_type": "code",
   "execution_count": null,
   "outputs": [
    {
     "name": "stdout",
     "output_type": "stream",
     "text": [
      "Starting watershed for: 75004200007057.0\n",
      "<class 'list'>\n",
      "<class 'list'>\n",
      "Watersheds\\wtd_75004200007057\n",
      "Starting watershed for: 75004300006312.0\n",
      "<class 'list'>\n",
      "<class 'list'>\n",
      "Watersheds\\wtd_75004300006312\n",
      "Starting watershed for: 75004300001906.0\n",
      "<class 'list'>\n",
      "<class 'list'>\n",
      "Watersheds\\wtd_75004300001906\n",
      "Starting watershed for: 75004300000100.0\n",
      "<class 'list'>\n",
      "<class 'list'>\n",
      "Watersheds\\wtd_75004300000100\n",
      "Starting watershed for: 75004300004983.0\n",
      "<class 'list'>\n",
      "<class 'list'>\n",
      "Watersheds\\wtd_75004300004983\n",
      "Starting watershed for: 75004300004332.0\n",
      "<class 'list'>\n",
      "<class 'list'>\n",
      "Watersheds\\wtd_75004300004332\n",
      "Starting watershed for: 75004300006239.0\n",
      "<class 'list'>\n",
      "<class 'list'>\n",
      "Watersheds\\wtd_75004300006239\n",
      "Starting watershed for: 75004300004304.0\n",
      "<class 'list'>\n",
      "<class 'list'>\n"
     ]
    }
   ],
   "source": [
    "import arcpy\n",
    "import pandas as pd\n",
    "\n",
    "#idList = [75004300004324]\n",
    "\n",
    "# steps 4-9 for loop to create watersheds\n",
    "arcpy.env.workspace = r\"W:/GIS/AKSSF/Cook_Inlet/Cook_Inlet.gdb\"\n",
    "arcpy.env.overwriteOutput = True\n",
    "arcpy.env.qualifiedFieldNames = False\n",
    "\n",
    "vaa = \"vaa_merge\"\n",
    "cats = \"cats_merge\"\n",
    "output_SR = arcpy.Describe(cats).spatialReference\n",
    "arcpy.env.outputCoordinateSystem = output_SR\n",
    "\n",
    "#watersheds feature dataset for storing fcs\n",
    "arcpy.management.CreateFeatureDataset(r\"W:\\GIS\\AKSSF\\Cook_Inlet\\Cook_Inlet.gdb\", \"Watersheds\", output_SR)\n",
    "\n",
    "vaa_df = pd.DataFrame(arcpy.da.FeatureClassToNumPyArray(vaa, (\"NHDPlusID\", \"FromNode\", \"ToNode\")))\n",
    "\n",
    "#idList = [75004300006440]\n",
    "\n",
    "for id in idList:\n",
    "    print(\"Starting watershed for: \" + str(id))\n",
    "    rec = [id]\n",
    "    print(type(rec))\n",
    "    up_ids = []\n",
    "\n",
    "    while sum(rec) > 0:\n",
    "        up_ids.append(rec)\n",
    "        fromnode = vaa_df.loc[vaa_df[\"NHDPlusID\"].isin(rec), \"FromNode\"]\n",
    "        rec = vaa_df.loc[vaa_df[\"ToNode\"].isin(fromnode), \"NHDPlusID\"]\n",
    "\n",
    "    #up_ids is a list with more than numbers, use extend to only keep numeric nhdplusids\n",
    "    newup_ids = []\n",
    "    for x in up_ids:\n",
    "        newup_ids.extend(x)\n",
    "\n",
    "    print(type(newup_ids))\n",
    "    tempLayer = \"catsLyr\"\n",
    "    #expression = 'NHDPlusID IN {0}'.format(tuple(newup_ids))\n",
    "    #trying expression to deal with one catchment (i.e. hws)\n",
    "    expression = '\"NHDPlusID\" IN ({0})'.format(', '.join(map(str, newup_ids)) or 'NULL')\n",
    "    arcpy.MakeFeatureLayer_management(cats, tempLayer)\n",
    "    arcpy.management.SelectLayerByAttribute(tempLayer, \"NEW_SELECTION\", expression, None)\n",
    "\n",
    "    outwtd = \"Watersheds\\\\wtd_\" + str(round(id))\n",
    "    print(outwtd)\n",
    "    arcpy.management.Dissolve(tempLayer, outwtd)\n",
    "    #arcpy.management.CopyFeatures(tempLayer, outwtd)"
   ],
   "metadata": {
    "collapsed": false,
    "pycharm": {
     "name": "#%%\n",
     "is_executing": true
    }
   }
  }
 ],
 "metadata": {
  "kernelspec": {
   "display_name": "Python 3",
   "language": "python",
   "name": "python3"
  },
  "language_info": {
   "codemirror_mode": {
    "name": "ipython",
    "version": 2
   },
   "file_extension": ".py",
   "mimetype": "text/x-python",
   "name": "python",
   "nbconvert_exporter": "python",
   "pygments_lexer": "ipython2",
   "version": "2.7.6"
  },
  "pycharm": {
   "stem_cell": {
    "cell_type": "raw",
    "source": [
     "\n",
     "\n"
    ],
    "metadata": {
     "collapsed": false
    }
   }
  }
 },
 "nbformat": 4,
 "nbformat_minor": 0
}