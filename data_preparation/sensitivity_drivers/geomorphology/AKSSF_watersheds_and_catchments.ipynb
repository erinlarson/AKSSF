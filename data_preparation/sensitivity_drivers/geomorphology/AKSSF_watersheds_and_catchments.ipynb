{
 "cells": [
  {
   "cell_type": "markdown",
   "source": [
    "# Create watersheds and catchments\n",
    "\n",
    "AKSSF project has ~ 500 sites that have been shifted to the flow networks.\n",
    "We need to shift these sites to the stream raster, extract the appropriate\n",
    "catchments and calculate watersheds for each. This will make extracting spatial\n",
    "and climatic covariates for modeling go much faster.\n"
   ],
   "metadata": {
    "collapsed": false
   }
  },
  {
   "cell_type": "markdown",
   "source": [],
   "metadata": {
    "collapsed": false
   }
  },
  {
   "cell_type": "code",
   "execution_count": 20,
   "outputs": [
    {
     "name": "stdout",
     "output_type": "stream",
     "text": [
      "['T:\\\\Aquatic\\\\AKSSF\\\\NHDPlus\\\\CookInlet_20201216\\\\HRNHDPlusRasters19020202', 'T:\\\\Aquatic\\\\AKSSF\\\\NHDPlus\\\\CookInlet_20201216\\\\HRNHDPlusRasters19020301', 'T:\\\\Aquatic\\\\AKSSF\\\\NHDPlus\\\\CookInlet_20201216\\\\HRNHDPlusRasters19020302', 'T:\\\\Aquatic\\\\AKSSF\\\\NHDPlus\\\\CookInlet_20201216\\\\HRNHDPlusRasters19020401', 'T:\\\\Aquatic\\\\AKSSF\\\\NHDPlus\\\\CookInlet_20201216\\\\HRNHDPlusRasters19020402', 'T:\\\\Aquatic\\\\AKSSF\\\\NHDPlus\\\\CookInlet_20201216\\\\HRNHDPlusRasters19020501', 'T:\\\\Aquatic\\\\AKSSF\\\\NHDPlus\\\\CookInlet_20201216\\\\HRNHDPlusRasters19020502', 'T:\\\\Aquatic\\\\AKSSF\\\\NHDPlus\\\\CookInlet_20201216\\\\HRNHDPlusRasters19020503', 'T:\\\\Aquatic\\\\AKSSF\\\\NHDPlus\\\\CookInlet_20201216\\\\HRNHDPlusRasters19020504', 'T:\\\\Aquatic\\\\AKSSF\\\\NHDPlus\\\\CookInlet_20201216\\\\HRNHDPlusRasters19020505', 'T:\\\\Aquatic\\\\AKSSF\\\\NHDPlus\\\\CookInlet_20201216\\\\HRNHDPlusRasters19020601', 'T:\\\\Aquatic\\\\AKSSF\\\\NHDPlus\\\\CookInlet_20201216\\\\HRNHDPlusRasters19020602', 'T:\\\\Aquatic\\\\AKSSF\\\\NHDPlus\\\\CookInlet_20201216\\\\HRNHDPlusRasters19020800']\n",
      "['T:\\\\Aquatic\\\\AKSSF\\\\NHDPlus\\\\CookInlet_20201216\\\\HRNHDPlusRasters19020202\\\\fac.tif', 'T:\\\\Aquatic\\\\AKSSF\\\\NHDPlus\\\\CookInlet_20201216\\\\HRNHDPlusRasters19020301\\\\fac.tif', 'T:\\\\Aquatic\\\\AKSSF\\\\NHDPlus\\\\CookInlet_20201216\\\\HRNHDPlusRasters19020302\\\\fac.tif', 'T:\\\\Aquatic\\\\AKSSF\\\\NHDPlus\\\\CookInlet_20201216\\\\HRNHDPlusRasters19020401\\\\fac.tif', 'T:\\\\Aquatic\\\\AKSSF\\\\NHDPlus\\\\CookInlet_20201216\\\\HRNHDPlusRasters19020402\\\\fac.tif', 'T:\\\\Aquatic\\\\AKSSF\\\\NHDPlus\\\\CookInlet_20201216\\\\HRNHDPlusRasters19020501\\\\fac.tif', 'T:\\\\Aquatic\\\\AKSSF\\\\NHDPlus\\\\CookInlet_20201216\\\\HRNHDPlusRasters19020502\\\\fac.tif', 'T:\\\\Aquatic\\\\AKSSF\\\\NHDPlus\\\\CookInlet_20201216\\\\HRNHDPlusRasters19020503\\\\fac.tif', 'T:\\\\Aquatic\\\\AKSSF\\\\NHDPlus\\\\CookInlet_20201216\\\\HRNHDPlusRasters19020504\\\\fac.tif', 'T:\\\\Aquatic\\\\AKSSF\\\\NHDPlus\\\\CookInlet_20201216\\\\HRNHDPlusRasters19020505\\\\fac.tif', 'T:\\\\Aquatic\\\\AKSSF\\\\NHDPlus\\\\CookInlet_20201216\\\\HRNHDPlusRasters19020601\\\\fac.tif', 'T:\\\\Aquatic\\\\AKSSF\\\\NHDPlus\\\\CookInlet_20201216\\\\HRNHDPlusRasters19020602\\\\fac.tif', 'T:\\\\Aquatic\\\\AKSSF\\\\NHDPlus\\\\CookInlet_20201216\\\\HRNHDPlusRasters19020800\\\\fac.tif']\n",
      "T:\\Aquatic\\AKSSF\\NHDPlus\\CookInlet_20201216\\HRNHDPlusRasters19020301\\fac.tif\n"
     ]
    },
    {
     "data": {
      "text/plain": "<Result 'W:\\\\GIS\\\\AKSSF Southcentral\\\\Temporary\\\\ci_fac_merge.tif'>"
     },
     "execution_count": 20,
     "metadata": {},
     "output_type": "execute_result"
    }
   ],
   "source": [
    "# merge flow accumulation grids for Cook Inlet using mosaic to new raster\n",
    "\n",
    "import arcpy\n",
    "import os\n",
    "\n",
    "arcpy.env.workspace = r\"T:\\Aquatic\\AKSSF\\NHDPlus\\CookInlet_20201216\"\n",
    "flowacc_rasters = []\n",
    "raster_folders = arcpy.ListWorkspaces(\"*Rasters*\")\n",
    "print(raster_folders)\n",
    "\n",
    "for folder in raster_folders:\n",
    "    arcpy.env.workspace = folder\n",
    "    rasters = arcpy.ListRasters()\n",
    "    for raster in rasters:\n",
    "        if raster == 'fac.tif':\n",
    "            flowacc_raspath = os.path.normpath(os.path.join(folder, raster))\n",
    "            flowacc_rasters.append(flowacc_raspath)\n",
    "\n",
    "print(flowacc_rasters)\n",
    "print(flowacc_rasters[1])\n",
    "dataset = flowacc_rasters[1]\n",
    "spatial_ref = arcpy.Describe(dataset).spatialReference\n",
    "\n",
    "arcpy.MosaicToNewRaster_management(flowacc_rasters, r\"W:\\GIS\\AKSSF Southcentral\\Temporary\", \"ci_fac_merge.tif\", spatial_ref, \"32_BIT_SIGNED\", \"5\", \"1\", \"LAST\",\"FIRST\")\n"
   ],
   "metadata": {
    "collapsed": false,
    "pycharm": {
     "name": "#%%\n"
    }
   }
  },
  {
   "cell_type": "code",
   "execution_count": 22,
   "outputs": [
    {
     "data": {
      "text/plain": "<Result 'W:\\\\GIS\\\\AKSSF Southcentral\\\\Temporary\\\\all_sites.shp'>"
     },
     "execution_count": 22,
     "metadata": {},
     "output_type": "execute_result"
    }
   ],
   "source": [
    "# Combine point files for Bristol Bay and sites outside Bristol Bay so we have\n",
    "# one file of points that have been shifted to the vector network.\n",
    "from arcpy import management\n",
    "\n",
    "bb_sites = r\"T:\\Aquatic\\AKSSF\\AKSSF_Hydrography.gdb\\bb_md_verified_dm\"\n",
    "other_sites = r\"T:\\Aquatic\\AKSSF\\AKSSF_Hydrography.gdb\\sites_outside_bb_verified_DM\"\n",
    "\n",
    "arcpy.management.Merge([bb_sites, other_sites], r\"W:\\GIS\\AKSSF Southcentral\\Temporary\\all_sites\")"
   ],
   "metadata": {
    "collapsed": false,
    "pycharm": {
     "name": "#%%\n"
    }
   }
  },
  {
   "cell_type": "code",
   "execution_count": 29,
   "outputs": [
    {
     "ename": "ExecuteError",
     "evalue": "ERROR 000875: Output raster: C:/sapyexamples/data\\SnapPou_all_sit1.tif's workspace is an invalid output workspace.\nERROR 000581: Invalid parameters.\nFailed to execute (SnapPourPoint).\n",
     "output_type": "error",
     "traceback": [
      "\u001B[1;31m---------------------------------------------------------------------------\u001B[0m",
      "\u001B[1;31mExecuteError\u001B[0m                              Traceback (most recent call last)",
      "\u001B[1;32m<ipython-input-29-c1c551992fb2>\u001B[0m in \u001B[0;36m<module>\u001B[1;34m\u001B[0m\n\u001B[0;32m     38\u001B[0m \u001B[1;31m# Execute SnapPourPoints\u001B[0m\u001B[1;33m\u001B[0m\u001B[1;33m\u001B[0m\u001B[1;33m\u001B[0m\u001B[0m\n\u001B[0;32m     39\u001B[0m outSnapPour = SnapPourPoint(inPourPoint, inFlowAccum, tolerance,\n\u001B[1;32m---> 40\u001B[1;33m                             idField)\n\u001B[0m\u001B[0;32m     41\u001B[0m \u001B[1;33m\u001B[0m\u001B[0m\n\u001B[0;32m     42\u001B[0m \u001B[1;31m# Save the output\u001B[0m\u001B[1;33m\u001B[0m\u001B[1;33m\u001B[0m\u001B[1;33m\u001B[0m\u001B[0m\n",
      "\u001B[1;32mC:\\Program Files\\ArcGIS\\Pro\\Resources\\ArcPy\\arcpy\\sa\\Functions.py\u001B[0m in \u001B[0;36mSnapPourPoint\u001B[1;34m(in_pour_point_data, in_accumulation_raster, snap_distance, pour_point_field)\u001B[0m\n\u001B[0;32m   2601\u001B[0m         \u001B[0min_accumulation_raster\u001B[0m\u001B[1;33m,\u001B[0m\u001B[1;33m\u001B[0m\u001B[1;33m\u001B[0m\u001B[0m\n\u001B[0;32m   2602\u001B[0m         \u001B[0msnap_distance\u001B[0m\u001B[1;33m,\u001B[0m\u001B[1;33m\u001B[0m\u001B[1;33m\u001B[0m\u001B[0m\n\u001B[1;32m-> 2603\u001B[1;33m         pour_point_field)\n\u001B[0m\u001B[0;32m   2604\u001B[0m \u001B[0mSnapPourPoint\u001B[0m\u001B[1;33m.\u001B[0m\u001B[0m__esri_toolname__\u001B[0m \u001B[1;33m=\u001B[0m \u001B[1;34m\"SnapPourPoint_sa\"\u001B[0m\u001B[1;33m\u001B[0m\u001B[1;33m\u001B[0m\u001B[0m\n\u001B[0;32m   2605\u001B[0m SnapPourPoint.__esri_toolinfo__ = [\n",
      "\u001B[1;32mC:\\Program Files\\ArcGIS\\Pro\\Resources\\ArcPy\\arcpy\\sa\\Utils.py\u001B[0m in \u001B[0;36mswapper\u001B[1;34m(*args, **kwargs)\u001B[0m\n\u001B[0;32m     51\u001B[0m \u001B[1;33m\u001B[0m\u001B[0m\n\u001B[0;32m     52\u001B[0m             \u001B[1;32mtry\u001B[0m\u001B[1;33m:\u001B[0m\u001B[1;33m\u001B[0m\u001B[1;33m\u001B[0m\u001B[0m\n\u001B[1;32m---> 53\u001B[1;33m                 \u001B[0mresult\u001B[0m \u001B[1;33m=\u001B[0m \u001B[0mwrapper\u001B[0m\u001B[1;33m(\u001B[0m\u001B[1;33m*\u001B[0m\u001B[0margs\u001B[0m\u001B[1;33m,\u001B[0m \u001B[1;33m**\u001B[0m\u001B[0mkwargs\u001B[0m\u001B[1;33m)\u001B[0m\u001B[1;33m\u001B[0m\u001B[1;33m\u001B[0m\u001B[0m\n\u001B[0m\u001B[0;32m     54\u001B[0m             \u001B[1;32mfinally\u001B[0m\u001B[1;33m:\u001B[0m\u001B[1;33m\u001B[0m\u001B[1;33m\u001B[0m\u001B[0m\n\u001B[0;32m     55\u001B[0m                 \u001B[1;31m# Reset the geoprocessor state to the original setting.\u001B[0m\u001B[1;33m\u001B[0m\u001B[1;33m\u001B[0m\u001B[1;33m\u001B[0m\u001B[0m\n",
      "\u001B[1;32mC:\\Program Files\\ArcGIS\\Pro\\Resources\\ArcPy\\arcpy\\sa\\Functions.py\u001B[0m in \u001B[0;36mWrapper\u001B[1;34m(in_pour_point_data, in_accumulation_raster, snap_distance, pour_point_field)\u001B[0m\n\u001B[0;32m   2595\u001B[0m             \u001B[0mout_raster\u001B[0m\u001B[1;33m,\u001B[0m\u001B[1;33m\u001B[0m\u001B[1;33m\u001B[0m\u001B[0m\n\u001B[0;32m   2596\u001B[0m             \u001B[0msnap_distance\u001B[0m\u001B[1;33m,\u001B[0m\u001B[1;33m\u001B[0m\u001B[1;33m\u001B[0m\u001B[0m\n\u001B[1;32m-> 2597\u001B[1;33m             pour_point_field)\n\u001B[0m\u001B[0;32m   2598\u001B[0m         \u001B[1;32mreturn\u001B[0m \u001B[0m_wrapToolRaster\u001B[0m\u001B[1;33m(\u001B[0m\u001B[1;34mu\"SnapPourPoint_sa\"\u001B[0m\u001B[1;33m,\u001B[0m \u001B[0municode\u001B[0m\u001B[1;33m(\u001B[0m\u001B[0mresult\u001B[0m\u001B[1;33m.\u001B[0m\u001B[0mgetOutput\u001B[0m\u001B[1;33m(\u001B[0m\u001B[1;36m0\u001B[0m\u001B[1;33m)\u001B[0m\u001B[1;33m)\u001B[0m\u001B[1;33m)\u001B[0m\u001B[1;33m\u001B[0m\u001B[1;33m\u001B[0m\u001B[0m\n\u001B[0;32m   2599\u001B[0m     return Wrapper(\n",
      "\u001B[1;32mC:\\Program Files\\ArcGIS\\Pro\\Resources\\ArcPy\\arcpy\\geoprocessing\\_base.py\u001B[0m in \u001B[0;36m<lambda>\u001B[1;34m(*args)\u001B[0m\n\u001B[0;32m    509\u001B[0m         \u001B[0mval\u001B[0m \u001B[1;33m=\u001B[0m \u001B[0mgetattr\u001B[0m\u001B[1;33m(\u001B[0m\u001B[0mself\u001B[0m\u001B[1;33m.\u001B[0m\u001B[0m_gp\u001B[0m\u001B[1;33m,\u001B[0m \u001B[0mattr\u001B[0m\u001B[1;33m)\u001B[0m\u001B[1;33m\u001B[0m\u001B[1;33m\u001B[0m\u001B[0m\n\u001B[0;32m    510\u001B[0m         \u001B[1;32mif\u001B[0m \u001B[0mcallable\u001B[0m\u001B[1;33m(\u001B[0m\u001B[0mval\u001B[0m\u001B[1;33m)\u001B[0m\u001B[1;33m:\u001B[0m\u001B[1;33m\u001B[0m\u001B[1;33m\u001B[0m\u001B[0m\n\u001B[1;32m--> 511\u001B[1;33m             \u001B[1;32mreturn\u001B[0m \u001B[1;32mlambda\u001B[0m \u001B[1;33m*\u001B[0m\u001B[0margs\u001B[0m\u001B[1;33m:\u001B[0m \u001B[0mval\u001B[0m\u001B[1;33m(\u001B[0m\u001B[1;33m*\u001B[0m\u001B[0mgp_fixargs\u001B[0m\u001B[1;33m(\u001B[0m\u001B[0margs\u001B[0m\u001B[1;33m,\u001B[0m \u001B[1;32mTrue\u001B[0m\u001B[1;33m)\u001B[0m\u001B[1;33m)\u001B[0m\u001B[1;33m\u001B[0m\u001B[1;33m\u001B[0m\u001B[0m\n\u001B[0m\u001B[0;32m    512\u001B[0m         \u001B[1;32melse\u001B[0m\u001B[1;33m:\u001B[0m\u001B[1;33m\u001B[0m\u001B[1;33m\u001B[0m\u001B[0m\n\u001B[0;32m    513\u001B[0m             \u001B[1;32mreturn\u001B[0m \u001B[0mconvertArcObjectToPythonObject\u001B[0m\u001B[1;33m(\u001B[0m\u001B[0mval\u001B[0m\u001B[1;33m)\u001B[0m\u001B[1;33m\u001B[0m\u001B[1;33m\u001B[0m\u001B[0m\n",
      "\u001B[1;31mExecuteError\u001B[0m: ERROR 000875: Output raster: C:/sapyexamples/data\\SnapPou_all_sit1.tif's workspace is an invalid output workspace.\nERROR 000581: Invalid parameters.\nFailed to execute (SnapPourPoint).\n"
     ]
    }
   ],
   "source": [
    "# shift points to cell of highest flow accumulation\n",
    "import os\n",
    "import arcpy\n",
    "from arcpy import env\n",
    "from arcpy.sa import *\n",
    "\n",
    "# Set environment settings\n",
    "env.workspace = \"C:/sapyexamples/data\"\n",
    "\n",
    "# Set local variables\n",
    "inPourPoint = r\"W:\\GIS\\AKSSF Southcentral\\Temporary\\all_sites.shp\"\n",
    "inFlowAccum = r\"W:\\GIS\\AKSSF Southcentral\\Temporary\\ci_fac_merge.tif\"\n",
    "tolerance = 15\n",
    "\n",
    "arcpy.management.AddField(inPourPoint, \"numID\", \"LONG\")\n",
    "\n",
    "idField = 'numID'\n",
    "rec = 0\n",
    "\n",
    "def autoIncrement():\n",
    "    global rec\n",
    "    pStart    = 1\n",
    "    pInterval = 1\n",
    "    if (rec == 0):\n",
    "        rec = pStart\n",
    "    else:\n",
    "        rec += pInterval\n",
    "    return rec\n",
    "\n",
    "rows = arcpy.UpdateCursor(inPourPoint)\n",
    "\n",
    "for row in rows:\n",
    "    row.setValue(idField, autoIncrement())\n",
    "    rows.updateRow(row)\n",
    "\n",
    "del row, rows"
   ],
   "metadata": {
    "collapsed": false,
    "pycharm": {
     "name": "#%%\n"
    }
   }
  },
  {
   "cell_type": "code",
   "execution_count": 4,
   "outputs": [],
   "source": [
    "import arcpy\n",
    "inPourPoint = r\"W:\\GIS\\AKSSF Southcentral\\Temporary\\all_sites.shp\"\n",
    "inFlowAccum = r\"W:\\GIS\\AKSSF Southcentral\\Temporary\\ci_fac_merge.tif\"\n",
    "tolerance = 15\n",
    "idField = 'numID'\n",
    "\n",
    "# Execute SnapPourPoints\n",
    "outSnapPour = arcpy.sa.SnapPourPoint(inPourPoint, inFlowAccum, tolerance,\n",
    "                            idField)\n",
    "\n",
    "# Save the output\n",
    "outSnapPour.save(r\"W:\\GIS\\AKSSF Southcentral\\Temporary\\sites_snap.tif\")\n"
   ],
   "metadata": {
    "collapsed": false,
    "pycharm": {
     "name": "#%%\n"
    }
   }
  },
  {
   "cell_type": "markdown",
   "source": [
    "Working on creating watersheds. So far, have shifted points to the cell of highest accumulation\n",
    "and they look good in arcgis. Need to find a way to use a search cursor to cycle through the points\n",
    "in the shifted file, select/intersect with the correct flow direction grid, and input the point\n",
    "file with the selected point to the watershed tool.\n",
    "\n",
    "Found some code that showed out to use a search cursor to select a feature in a fc and input to\n",
    "a geoprocessing tool (will only act on the selection). But, still need a way to know which grid\n",
    "is needed for each point's watershed. For NHDPlus, can use HU8 code, for synthetic networks, may\n",
    "want to create polygon boundaries of the grids and intersect with points so there is an attribute\n",
    "that indicates which grid to use (flow direction grid)."
   ],
   "metadata": {
    "collapsed": false,
    "pycharm": {
     "name": "#%% md\n"
    }
   }
  },
  {
   "cell_type": "code",
   "execution_count": 6,
   "outputs": [
    {
     "ename": "ExecuteError",
     "evalue": "Failed to execute. Parameters are not valid.\nERROR 000732: Target Features: Dataset W:\\GIS\\AKSSF Southcentral\\Temporary\\sites_snap does not exist or is not supported\nFailed to execute (SpatialJoin).\n",
     "output_type": "error",
     "traceback": [
      "\u001B[1;31m---------------------------------------------------------------------------\u001B[0m",
      "\u001B[1;31mExecuteError\u001B[0m                              Traceback (most recent call last)",
      "\u001B[1;32m<ipython-input-6-8f2803fbf0d9>\u001B[0m in \u001B[0;36m<module>\u001B[1;34m\u001B[0m\n\u001B[0;32m      5\u001B[0m \u001B[0mhuc8\u001B[0m \u001B[1;33m=\u001B[0m \u001B[1;34mr\"S:\\Leslie\\GIS\\NHD Harmonized\\WBD_19_GDB.gdb\\WBDHU8\"\u001B[0m\u001B[1;33m\u001B[0m\u001B[1;33m\u001B[0m\u001B[0m\n\u001B[0;32m      6\u001B[0m \u001B[0moutfc\u001B[0m \u001B[1;33m=\u001B[0m \u001B[1;34mr\"W:\\GIS\\AKSSF Southcentral\\Temporary\\sites_snap_huc8\"\u001B[0m\u001B[1;33m\u001B[0m\u001B[1;33m\u001B[0m\u001B[0m\n\u001B[1;32m----> 7\u001B[1;33m \u001B[0marcpy\u001B[0m\u001B[1;33m.\u001B[0m\u001B[0manalysis\u001B[0m\u001B[1;33m.\u001B[0m\u001B[0mSpatialJoin\u001B[0m\u001B[1;33m(\u001B[0m\u001B[0mfc\u001B[0m\u001B[1;33m,\u001B[0m \u001B[0mhuc8\u001B[0m\u001B[1;33m,\u001B[0m \u001B[0moutfc\u001B[0m\u001B[1;33m)\u001B[0m\u001B[1;33m\u001B[0m\u001B[1;33m\u001B[0m\u001B[0m\n\u001B[0m\u001B[0;32m      8\u001B[0m \u001B[1;33m\u001B[0m\u001B[0m\n",
      "\u001B[1;32mC:\\Program Files\\ArcGIS\\Pro\\Resources\\ArcPy\\arcpy\\analysis.py\u001B[0m in \u001B[0;36mSpatialJoin\u001B[1;34m(target_features, join_features, out_feature_class, join_operation, join_type, field_mapping, match_option, search_radius, distance_field_name)\u001B[0m\n\u001B[0;32m    670\u001B[0m         \u001B[1;32mreturn\u001B[0m \u001B[0mretval\u001B[0m\u001B[1;33m\u001B[0m\u001B[1;33m\u001B[0m\u001B[0m\n\u001B[0;32m    671\u001B[0m     \u001B[1;32mexcept\u001B[0m \u001B[0mException\u001B[0m \u001B[1;32mas\u001B[0m \u001B[0me\u001B[0m\u001B[1;33m:\u001B[0m\u001B[1;33m\u001B[0m\u001B[1;33m\u001B[0m\u001B[0m\n\u001B[1;32m--> 672\u001B[1;33m         \u001B[1;32mraise\u001B[0m \u001B[0me\u001B[0m\u001B[1;33m\u001B[0m\u001B[1;33m\u001B[0m\u001B[0m\n\u001B[0m\u001B[0;32m    673\u001B[0m \u001B[1;33m\u001B[0m\u001B[0m\n\u001B[0;32m    674\u001B[0m \u001B[1;33m@\u001B[0m\u001B[0mgptooldoc\u001B[0m\u001B[1;33m(\u001B[0m\u001B[1;34m'SymDiff_analysis'\u001B[0m\u001B[1;33m,\u001B[0m \u001B[1;32mNone\u001B[0m\u001B[1;33m)\u001B[0m\u001B[1;33m\u001B[0m\u001B[1;33m\u001B[0m\u001B[0m\n",
      "\u001B[1;32mC:\\Program Files\\ArcGIS\\Pro\\Resources\\ArcPy\\arcpy\\analysis.py\u001B[0m in \u001B[0;36mSpatialJoin\u001B[1;34m(target_features, join_features, out_feature_class, join_operation, join_type, field_mapping, match_option, search_radius, distance_field_name)\u001B[0m\n\u001B[0;32m    667\u001B[0m     \u001B[1;32mfrom\u001B[0m \u001B[0marcpy\u001B[0m\u001B[1;33m.\u001B[0m\u001B[0marcobjects\u001B[0m\u001B[1;33m.\u001B[0m\u001B[0marcobjectconversion\u001B[0m \u001B[1;32mimport\u001B[0m \u001B[0mconvertArcObjectToPythonObject\u001B[0m\u001B[1;33m\u001B[0m\u001B[1;33m\u001B[0m\u001B[0m\n\u001B[0;32m    668\u001B[0m     \u001B[1;32mtry\u001B[0m\u001B[1;33m:\u001B[0m\u001B[1;33m\u001B[0m\u001B[1;33m\u001B[0m\u001B[0m\n\u001B[1;32m--> 669\u001B[1;33m         \u001B[0mretval\u001B[0m \u001B[1;33m=\u001B[0m \u001B[0mconvertArcObjectToPythonObject\u001B[0m\u001B[1;33m(\u001B[0m\u001B[0mgp\u001B[0m\u001B[1;33m.\u001B[0m\u001B[0mSpatialJoin_analysis\u001B[0m\u001B[1;33m(\u001B[0m\u001B[1;33m*\u001B[0m\u001B[0mgp_fixargs\u001B[0m\u001B[1;33m(\u001B[0m\u001B[1;33m(\u001B[0m\u001B[0mtarget_features\u001B[0m\u001B[1;33m,\u001B[0m \u001B[0mjoin_features\u001B[0m\u001B[1;33m,\u001B[0m \u001B[0mout_feature_class\u001B[0m\u001B[1;33m,\u001B[0m \u001B[0mjoin_operation\u001B[0m\u001B[1;33m,\u001B[0m \u001B[0mjoin_type\u001B[0m\u001B[1;33m,\u001B[0m \u001B[0mfield_mapping\u001B[0m\u001B[1;33m,\u001B[0m \u001B[0mmatch_option\u001B[0m\u001B[1;33m,\u001B[0m \u001B[0msearch_radius\u001B[0m\u001B[1;33m,\u001B[0m \u001B[0mdistance_field_name\u001B[0m\u001B[1;33m)\u001B[0m\u001B[1;33m,\u001B[0m \u001B[1;32mTrue\u001B[0m\u001B[1;33m)\u001B[0m\u001B[1;33m)\u001B[0m\u001B[1;33m)\u001B[0m\u001B[1;33m\u001B[0m\u001B[1;33m\u001B[0m\u001B[0m\n\u001B[0m\u001B[0;32m    670\u001B[0m         \u001B[1;32mreturn\u001B[0m \u001B[0mretval\u001B[0m\u001B[1;33m\u001B[0m\u001B[1;33m\u001B[0m\u001B[0m\n\u001B[0;32m    671\u001B[0m     \u001B[1;32mexcept\u001B[0m \u001B[0mException\u001B[0m \u001B[1;32mas\u001B[0m \u001B[0me\u001B[0m\u001B[1;33m:\u001B[0m\u001B[1;33m\u001B[0m\u001B[1;33m\u001B[0m\u001B[0m\n",
      "\u001B[1;32mC:\\Program Files\\ArcGIS\\Pro\\Resources\\ArcPy\\arcpy\\geoprocessing\\_base.py\u001B[0m in \u001B[0;36m<lambda>\u001B[1;34m(*args)\u001B[0m\n\u001B[0;32m    509\u001B[0m         \u001B[0mval\u001B[0m \u001B[1;33m=\u001B[0m \u001B[0mgetattr\u001B[0m\u001B[1;33m(\u001B[0m\u001B[0mself\u001B[0m\u001B[1;33m.\u001B[0m\u001B[0m_gp\u001B[0m\u001B[1;33m,\u001B[0m \u001B[0mattr\u001B[0m\u001B[1;33m)\u001B[0m\u001B[1;33m\u001B[0m\u001B[1;33m\u001B[0m\u001B[0m\n\u001B[0;32m    510\u001B[0m         \u001B[1;32mif\u001B[0m \u001B[0mcallable\u001B[0m\u001B[1;33m(\u001B[0m\u001B[0mval\u001B[0m\u001B[1;33m)\u001B[0m\u001B[1;33m:\u001B[0m\u001B[1;33m\u001B[0m\u001B[1;33m\u001B[0m\u001B[0m\n\u001B[1;32m--> 511\u001B[1;33m             \u001B[1;32mreturn\u001B[0m \u001B[1;32mlambda\u001B[0m \u001B[1;33m*\u001B[0m\u001B[0margs\u001B[0m\u001B[1;33m:\u001B[0m \u001B[0mval\u001B[0m\u001B[1;33m(\u001B[0m\u001B[1;33m*\u001B[0m\u001B[0mgp_fixargs\u001B[0m\u001B[1;33m(\u001B[0m\u001B[0margs\u001B[0m\u001B[1;33m,\u001B[0m \u001B[1;32mTrue\u001B[0m\u001B[1;33m)\u001B[0m\u001B[1;33m)\u001B[0m\u001B[1;33m\u001B[0m\u001B[1;33m\u001B[0m\u001B[0m\n\u001B[0m\u001B[0;32m    512\u001B[0m         \u001B[1;32melse\u001B[0m\u001B[1;33m:\u001B[0m\u001B[1;33m\u001B[0m\u001B[1;33m\u001B[0m\u001B[0m\n\u001B[0;32m    513\u001B[0m             \u001B[1;32mreturn\u001B[0m \u001B[0mconvertArcObjectToPythonObject\u001B[0m\u001B[1;33m(\u001B[0m\u001B[0mval\u001B[0m\u001B[1;33m)\u001B[0m\u001B[1;33m\u001B[0m\u001B[1;33m\u001B[0m\u001B[0m\n",
      "\u001B[1;31mExecuteError\u001B[0m: Failed to execute. Parameters are not valid.\nERROR 000732: Target Features: Dataset W:\\GIS\\AKSSF Southcentral\\Temporary\\sites_snap does not exist or is not supported\nFailed to execute (SpatialJoin).\n"
     ]
    }
   ],
   "source": [
    "import arcpy\n",
    "import os\n",
    "\n",
    "fc = r\"W:\\GIS\\AKSSF Southcentral\\Temporary\\sites_snap\"\n",
    "huc8 = r\"S:\\Leslie\\GIS\\NHD Harmonized\\WBD_19_GDB.gdb\\WBDHU8\"\n",
    "outfc = r\"W:\\GIS\\AKSSF Southcentral\\Temporary\\sites_snap_huc8\"\n",
    "arcpy.analysis.SpatialJoin(fc, huc8, outfc)"
   ],
   "metadata": {
    "collapsed": false,
    "pycharm": {
     "name": "#%%\n"
    }
   }
  },
  {
   "cell_type": "code",
   "execution_count": null,
   "outputs": [],
   "source": [
    "arcpy.MakeFeatureLayer_management(fc, 'layer')\n",
    "\n",
    "with arcpy.da.SearchCursor('layer', ['numID']) as cursor:\n",
    "    for row in cursor:\n",
    "        arcpy.SelectLayerByAttribute_management('layer', 'NEW_SELECTION', '{}={}'.format('numID', Value))\n",
    "        # generate the minimum bounding geometry for this layer\n",
    "        arcpy.MinimumBoundingGeometry_management('layer','in_memory\\\\temp','ENVELOPE')\n",
    "\n",
    "    # use the extent of the bounding geometry as the geoprocessing extent\n",
    "    desc = arcpy.Describe('in_memory\\\\temp')\n",
    "    arcpy.env.extent = desc.extent\n",
    "\n",
    "    arcpy.sa.Watershed('layer', <output>)\n",
    "\n",
    "    arcpy.Delete_management('in_memory\\\\temp') # Clean up\n",
    "    arcpy.env.extent = 'MAXOF' # reset to 'big' so the next MBG isn't affected."
   ],
   "metadata": {
    "collapsed": false,
    "pycharm": {
     "name": "#%%\n"
    }
   }
  },
  {
   "cell_type": "markdown",
   "source": [],
   "metadata": {
    "collapsed": false
   }
  }
 ],
 "metadata": {
  "kernelspec": {
   "display_name": "Python 3",
   "language": "python",
   "name": "python3"
  },
  "language_info": {
   "codemirror_mode": {
    "name": "ipython",
    "version": 2
   },
   "file_extension": ".py",
   "mimetype": "text/x-python",
   "name": "python",
   "nbconvert_exporter": "python",
   "pygments_lexer": "ipython2",
   "version": "2.7.6"
  },
  "pycharm": {
   "stem_cell": {
    "cell_type": "raw",
    "source": [
     "\n",
     "\n"
    ],
    "metadata": {
     "collapsed": false
    }
   }
  }
 },
 "nbformat": 4,
 "nbformat_minor": 0
}