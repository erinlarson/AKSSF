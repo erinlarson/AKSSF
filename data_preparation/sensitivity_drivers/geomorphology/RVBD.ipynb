{
 "cells": [
  {
   "cell_type": "markdown",
   "source": [
    "# Valley Bottom Extraction\n",
    "## Iterate over regional outputs and select input datasets for RVBD tool as well as convert/create necessary datasets.\n",
    "\n",
    "Create data dictionary to store input parameters for tool.\n",
    "1. River Network\n",
    "2. Catchments\n",
    "3. DEM\n",
    "4. Wetlands - as feature class or shapefile\n",
    "5. Output Folder - Directory\n",
    "6. River Valley Bottom - Output River Valley Bottom Polygon"
   ],
   "metadata": {
    "collapsed": false,
    "pycharm": {
     "name": "#%% md\n"
    }
   }
  },
  {
   "cell_type": "code",
   "execution_count": 31,
   "outputs": [
    {
     "name": "stdout",
     "output_type": "stream",
     "text": [
      "Bristol_Bay\n",
      "wetlands fc will be saved to D:\\\\GIS\\\\AKSSF\\Bristol_Bay\\Bristol_Bay.gdb\n",
      "D:\\\\GIS\\\\AKSSF\\Bristol_Bay,wetlands.tif\n",
      "D:\\\\GIS\\\\AKSSF\\Bristol_Bay\\Bristol_Bay.gdb\\wetlands already created\n",
      "----------\n",
      "Cook_Inlet\n",
      "wetlands fc will be saved to D:\\\\GIS\\\\AKSSF\\Cook_Inlet\\Cook_Inlet.gdb\n",
      "D:\\\\GIS\\\\AKSSF\\Cook_Inlet,wetlands.tif\n",
      "D:\\\\GIS\\\\AKSSF\\Cook_Inlet\\Cook_Inlet.gdb\\wetlands already created\n",
      "----------\n",
      "Copper_River\n",
      "wetlands fc will be saved to D:\\\\GIS\\\\AKSSF\\Copper_River\\Copper_River.gdb\n",
      "D:\\\\GIS\\\\AKSSF\\Copper_River,wetlands.tif\n",
      "D:\\\\GIS\\\\AKSSF\\Copper_River\\Copper_River.gdb\\wetlands already created\n",
      "----------\n",
      "Kodiak\n",
      "wetlands fc will be saved to D:\\\\GIS\\\\AKSSF\\Kodiak\\Kodiak.gdb\n",
      "D:\\\\GIS\\\\AKSSF\\Kodiak,wetlands.tif\n",
      "D:\\\\GIS\\\\AKSSF\\Kodiak\\Kodiak.gdb\\wetlands already created\n",
      "----------\n",
      "Prince_William_Sound\n",
      "wetlands fc will be saved to D:\\\\GIS\\\\AKSSF\\Prince_William_Sound\\Prince_William_Sound.gdb\n",
      "D:\\\\GIS\\\\AKSSF\\Prince_William_Sound,wetlands.tif\n",
      "D:\\\\GIS\\\\AKSSF\\Prince_William_Sound\\Prince_William_Sound.gdb\\wetlands already created\n",
      "----------\n"
     ]
    }
   ],
   "source": [
    "# Convert wetlands to shapefile\n",
    "import arcpy, os, sys\n",
    "\n",
    "# Function to add key, value pairs to dictionary\n",
    "def append_value(dict_obj, key, value):\n",
    "    # Check if key exist in dict or not\n",
    "    if key in dict_obj:\n",
    "        # Key exist in dict.\n",
    "        # Check if type of value of key is list or not\n",
    "        if not isinstance(dict_obj[key], list):\n",
    "            # If type is not list then make it list\n",
    "            dict_obj[key] = [dict_obj[key]]\n",
    "        # Append the value in list\n",
    "        dict_obj[key].append(value)\n",
    "    else:\n",
    "        # As key is not in dict,\n",
    "        # so, add key-value pair\n",
    "        dict_obj[key] = value\n",
    "\n",
    "# folder containing regional watersheds and covariate source data\n",
    "datadir = r'D:\\\\GIS\\\\AKSSF'\n",
    "arcpy.env.overwriteOutput = True\n",
    "data_dir = r\"D:\\\\GIS\\\\AKSSF\"\n",
    "arcpy.env.workspace = data_dir\n",
    "arcpy.env.overwriteOutput = True\n",
    "sr = arcpy.SpatialReference(3338)  #'NAD_1983_Alaska_Albers'\n",
    "arcpy.env.outputCoordinateSystem = sr\n",
    "regions = arcpy.ListWorkspaces(workspace_type=\"Folder\")\n",
    "#working gdb to save intermediate outputs\n",
    "scratchgdb = r\"D:\\\\GIS\\\\scratch.gdb\"\n",
    "scratchfol = r\"D:\\\\GIS\\\\scratch\"\n",
    "\n",
    "rvbdDict = {}\n",
    "# Walk through gdbs and select wetlands raster to convert\n",
    "for region in regions:\n",
    "    rname = os.path.basename(region)\n",
    "    print(rname)\n",
    "    arcpy.env.workspace = region\n",
    "    gdb = arcpy.ListWorkspaces(workspace_type='FileGDB')\n",
    "    outgdb = gdb[0]\n",
    "    walk = arcpy.da.Walk(region, datatype=['RasterDataset','FeatureClass'])\n",
    "    for dirpath, dirnames, filenames in walk:\n",
    "        for filename in filenames:\n",
    "            if 'streams_merge' == filename:\n",
    "                strsource = os.path.join(dirpath, filename)\n",
    "                append_value(rvbdDict,rname,strsource)\n",
    "            # Set merged watersheds dataset\n",
    "            elif 'wtds_merge' == filename:\n",
    "                wtdsource = os.path.join(dirpath, filename)\n",
    "                append_value(rvbdDict,rname,wtdsource)\n",
    "            elif 'elev_tif' == filename:\n",
    "                elev_path = os.path.join(dirpath, filename)\n",
    "                append_value(rvbdDict,rname,elev_path)\n",
    "            # Grab wetland raster\n",
    "            elif filename == 'wetlands.tif':\n",
    "                print(f'wetlands fc will be saved to {outgdb}')\n",
    "                print(f'{dirpath},{filename}')\n",
    "                wras_path = os.path.join(dirpath, filename)\n",
    "                wrasname = filename[:-4]\n",
    "                wetfcpath = os.path.join(outgdb, wrasname)\n",
    "                wetfcpath2 = os.path.join(scratchgdb, wrasname)\n",
    "                # Make local copy projected in AKAlbers\n",
    "                if not arcpy.Exists(wetfcpath):\n",
    "                    print(f'Converting {wrasname} to feature class...')\n",
    "                    print('----------')\n",
    "                    wetfc_conv = arcpy.RasterToPolygon_conversion(wras_path,wetfcpath2,raster_field='VALUE',\n",
    "                                                             simplify='NO_SIMPLIFY',\n",
    "                                                             create_multipart_features='MULTIPLE_OUTER_PART')\n",
    "                    wetfc = arcpy.FeatureClassToFeatureClass_conversion(wetfcpath2,outgdb,wrasname,\n",
    "                                                                        where_clause='gridcode = 1')\n",
    "                else:\n",
    "                    print(f'{wetfcpath} already created')\n",
    "                    wetfc = wetfcpath\n",
    "                    print('----------')\n",
    "                append_value(rvbdDict,rname,wetfcpath)\n",
    "                append_value(rvbdDict,rname,scratchfol)\n",
    "                rivbottpath = os.path.join(dirpath + '.gdb','riv_valbot')\n",
    "                append_value(rvbdDict,rname,rivbottpath)"
   ],
   "metadata": {
    "collapsed": false,
    "pycharm": {
     "name": "#%%\n"
    }
   }
  },
  {
   "cell_type": "code",
   "execution_count": 32,
   "outputs": [
    {
     "data": {
      "text/plain": "{'Bristol_Bay': ['D:\\\\\\\\GIS\\\\\\\\AKSSF\\\\Bristol_Bay\\\\Bristol_Bay.gdb\\\\wetlands',\n  'D:\\\\\\\\GIS\\\\\\\\scratch',\n  'D:\\\\\\\\GIS\\\\\\\\AKSSF\\\\Bristol_Bay.gdb\\\\riv_valbot',\n  'D:\\\\GIS\\\\AKSSF\\\\Bristol_Bay\\\\Bristol_Bay.gdb\\\\streams_merge',\n  'D:\\\\GIS\\\\AKSSF\\\\Bristol_Bay\\\\Bristol_Bay.gdb\\\\wtds_merge'],\n 'Cook_Inlet': ['D:\\\\\\\\GIS\\\\\\\\AKSSF\\\\Cook_Inlet\\\\Cook_Inlet.gdb\\\\wetlands',\n  'D:\\\\\\\\GIS\\\\\\\\scratch',\n  'D:\\\\\\\\GIS\\\\\\\\AKSSF\\\\Cook_Inlet.gdb\\\\riv_valbot',\n  'D:\\\\GIS\\\\AKSSF\\\\Cook_Inlet\\\\Cook_Inlet.gdb\\\\wtds_merge'],\n 'Copper_River': ['D:\\\\\\\\GIS\\\\\\\\AKSSF\\\\Copper_River\\\\Copper_River.gdb\\\\wetlands',\n  'D:\\\\\\\\GIS\\\\\\\\scratch',\n  'D:\\\\\\\\GIS\\\\\\\\AKSSF\\\\Copper_River.gdb\\\\riv_valbot',\n  'D:\\\\GIS\\\\AKSSF\\\\Copper_River\\\\Copper_River.gdb\\\\wtds_merge'],\n 'Kodiak': ['D:\\\\\\\\GIS\\\\\\\\AKSSF\\\\Kodiak\\\\Kodiak.gdb\\\\wetlands',\n  'D:\\\\\\\\GIS\\\\\\\\scratch',\n  'D:\\\\\\\\GIS\\\\\\\\AKSSF\\\\Kodiak.gdb\\\\riv_valbot',\n  'D:\\\\GIS\\\\AKSSF\\\\Kodiak\\\\Kodiak.gdb\\\\streams_merge',\n  'D:\\\\GIS\\\\AKSSF\\\\Kodiak\\\\Kodiak.gdb\\\\wtds_merge'],\n 'Prince_William_Sound': ['D:\\\\\\\\GIS\\\\\\\\AKSSF\\\\Prince_William_Sound\\\\Prince_William_Sound.gdb\\\\wetlands',\n  'D:\\\\\\\\GIS\\\\\\\\scratch',\n  'D:\\\\\\\\GIS\\\\\\\\AKSSF\\\\Prince_William_Sound.gdb\\\\riv_valbot',\n  'D:\\\\GIS\\\\AKSSF\\\\Prince_William_Sound\\\\Prince_William_Sound.gdb\\\\streams_merge',\n  'D:\\\\GIS\\\\AKSSF\\\\Prince_William_Sound\\\\Prince_William_Sound.gdb\\\\wtds_merge']}"
     },
     "execution_count": 32,
     "metadata": {},
     "output_type": "execute_result"
    }
   ],
   "source": [
    "#Check paths in dictionary\n",
    "rvbdDict"
   ],
   "metadata": {
    "collapsed": false,
    "pycharm": {
     "name": "#%%\n"
    }
   }
  },
  {
   "cell_type": "code",
   "execution_count": 34,
   "outputs": [
    {
     "name": "stdout",
     "output_type": "stream",
     "text": [
      "C:\\Users\\dwmerrigan\\Documents\\GitHub\\AKSSF\\data_preparation\\sensitivity_drivers\\py\n"
     ]
    }
   ],
   "source": [
    "#Begin River Valley Bottom tool\n",
    "rvbd_dir = r\"D:\\\\RVBD\\\\\"\n",
    "# Import modules\n",
    "import sys\n",
    "import arcpy\n",
    "import os\n",
    "from pathlib import Path\n",
    "import datetime\n",
    "import sys\n",
    "\n",
    "\n",
    "# in jupyter (lab / notebook), based on notebook path\n",
    "module_path = str(Path.cwd().parents[0] / \"py\")\n",
    "print(module_path)\n",
    "\n",
    "# # in standard python\n",
    "# module_path = str(Path.cwd(__file__).parents[0] / \"py\")\n",
    "\n",
    "if module_path not in sys.path:\n",
    "    sys.path.append(module_path)"
   ],
   "metadata": {
    "collapsed": false,
    "pycharm": {
     "name": "#%%\n"
    }
   }
  },
  {
   "cell_type": "code",
   "execution_count": null,
   "outputs": [],
   "source": [
    "from modules import preparations\n",
    "import tools\n",
    "from employee import motivation_to_work\n",
    "# from slope import slope\n",
    "from valleycostdistance import valley\n",
    "from costdistance import costdist\n"
   ],
   "metadata": {
    "collapsed": false,
    "pycharm": {
     "name": "#%%\n"
    }
   }
  },
  {
   "cell_type": "code",
   "execution_count": null,
   "outputs": [],
   "source": [
    "# Starting script\n",
    "start = datetime.datetime.now()\n",
    "print(\"Script started at %s\" % start)\n",
    "arcpy.AddMessage (\"Script started started at %s\" % start)\n",
    "arcpy.AddMessage (\"\\n\")\n",
    "\n",
    "# Check out spatial extention\n",
    "arcpy.CheckOutExtension(\"Spatial\")\n",
    "\n",
    "# Environments\n",
    "arcpy.env.overwriteOutput = True\n",
    "\n",
    "# Python inputs\n",
    "riv =  r\"D:\\\\GIS\\\\AKSSF\\\\Bristol_Bay\\\\Bristol_Bay.gdb\\\\streams_merge\" # river network as a shapefile\n",
    "cat = r\"D:\\\\GIS\\\\AKSSF\\\\Bristol_Bay\\\\Bristol_Bay.gdb\\\\wtds_merge\" # catchments as a shapefile\n",
    "dem = r\"D:\\\\GIS\\\\AKSSF\\\\Bristol_Bay\\\\elev.tif\"# elevation model as a raster\n",
    "wet = r\"D:\\\\GIS\\\\AKSSF\\\\Bristol_Bay\\\\Bristol_Bay.gdb\\\\wetlands\" # measured valley bottom, wetlands or any wet signature in low areas\n",
    "pth = r\"D:\\\\GIS\\\\scratch\" # path to outputs (scratch and cost distance folders)\n",
    "outval = r\"D:\\\\GIS\\\\scratch.gdb\\bbay_rvbd test\" # path to output river valley\n",
    "sloperas = r\"D:\\\\GIS\\\\AKSSF\\\\Bristol_Bay\\\\slope.tif\"\n",
    "\n",
    "# # ArcGIS inputs\n",
    "# riv =  arcpy.GetParameterAsText(0) # river network as a shapefile\n",
    "# cat = arcpy.GetParameterAsText(1) # catchments as a shapefile\n",
    "# dem = arcpy.GetParameterAsText(2) # elevation model as a raster\n",
    "# wet = arcpy.GetParameterAsText(3) # measured river valley\n",
    "# pth = arcpy.GetParameterAsText(4) # path to outputs (scratch and cost distance folders)\n",
    "# outval = arcpy.GetParameterAsText(5) # path to output river valley\n",
    "\n",
    "# Check to see if scratch geodatabase exists\n",
    "s = Path(os.path.join(pth, \"outputs.gdb\"))\n",
    "if s.exists() == False:\n",
    "    scrg = arcpy.CreateFileGDB_management(pth, \"outputs\")\n",
    "    scr = scrg.getOutput(0) # scratch folder\n",
    "else:\n",
    "    scr = os.path.join(pth, \"outputs.gdb\") #scr = r\"in_memory\" (if you want to store in memory)\n",
    "\n",
    "# Check to see if cost dist folder exists (use code in comments if you want results in a folder instead of gdb)\n",
    "c = Path(os.path.join(pth, \"costdist.gdb\")) # Path(os.path.join(pth, \"costdist\"))\n",
    "if c.exists() == False:\n",
    "    cstg = arcpy.CreateFileGDB_management(pth, \"costdist\")  # arcpy.CreateFolder_management(pth, \"costdist\")\n",
    "    cst = cstg.getOutput(0) # cost distance folder\n",
    "else:\n",
    "    cst = os.path.join(pth, \"costdist.gdb\") # os.path.join(pth, \"costdist\")\n",
    "\n",
    "# Calculate slope and replace 0 slopes with small value - We already have slope rasters so no need for this step\n",
    "# slope(riv, cat, dem, scr)\n",
    "\n",
    "# Cost distance calculation\n",
    "costdist(riv, cat, sloperas, cst, scr)\n",
    "\n",
    "# Extract valley\n",
    "valley(riv, wet, cst, scr, outval)\n",
    "\n",
    "# Ending script\n",
    "end = datetime.datetime.now()\n",
    "print(\"Script ended at %s\" % end)\n",
    "arcpy.AddMessage (\"Script ended at %s\" % end)\n",
    "arcpy.AddMessage (\"\\n\")\n",
    "time_elapsed = end - start\n",
    "print(\"Time elapsed %s\" % (time_elapsed))\n",
    "arcpy.AddMessage (\"Time elapsed %s\" % time_elapsed)\n",
    "arcpy.AddMessage (\"\\n\")\n",
    "print(\".........................................................\")\n",
    "arcpy.AddMessage (\".........................................................\")\n",
    "arcpy.AddMessage (\"\\n\")\n",
    "\n",
    "\n"
   ],
   "metadata": {
    "collapsed": false,
    "pycharm": {
     "name": "#%%\n"
    }
   }
  }
 ],
 "metadata": {
  "kernelspec": {
   "name": "pycharm-8caab41e",
   "language": "python",
   "display_name": "PyCharm (AKSSF)"
  },
  "language_info": {
   "codemirror_mode": {
    "name": "ipython",
    "version": 2
   },
   "file_extension": ".py",
   "mimetype": "text/x-python",
   "name": "python",
   "nbconvert_exporter": "python",
   "pygments_lexer": "ipython2",
   "version": "2.7.6"
  }
 },
 "nbformat": 4,
 "nbformat_minor": 0
}