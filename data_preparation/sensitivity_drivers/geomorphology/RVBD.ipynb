{
 "cells": [
  {
   "cell_type": "markdown",
   "source": [
    "# Valley Bottom Extraction\n",
    "## Iterate over regional outputs and select input datasets for RVBD tool as well as convert/create necessary datasets.\n",
    "\n",
    "Create data dictionary to store input parameters for tool.\n",
    "1. River Network\n",
    "2. Catchments\n",
    "3. DEM\n",
    "4. Wetlands - as feature class or shapefile\n",
    "5. Output Folder - Directory\n",
    "6. River Valley Bottom - Output River Valley Bottom Polygon"
   ],
   "metadata": {
    "collapsed": false,
    "pycharm": {
     "name": "#%% md\n"
    }
   }
  },
  {
   "cell_type": "code",
   "execution_count": 9,
   "outputs": [
    {
     "name": "stdout",
     "output_type": "stream",
     "text": [
      "imports complete\n",
      "sys paths ['C:\\\\Program Files\\\\JetBrains\\\\PyCharm 2021.2.3\\\\plugins\\\\python\\\\helpers-pro\\\\jupyter_debug', 'C:\\\\Program Files\\\\JetBrains\\\\PyCharm 2021.2.3\\\\plugins\\\\python\\\\helpers\\\\pydev', 'C:\\\\Users\\\\dwmerrigan\\\\Documents\\\\Github\\\\AKSSF\\\\data_preparation\\\\sensitivity_drivers\\\\geomorphology', 'C:\\\\Program Files\\\\ArcGIS\\\\Pro\\\\Resources\\\\ArcPy', 'C:\\\\Users\\\\dwmerrigan\\\\Documents\\\\Github\\\\AKSSF', 'C:\\\\Program Files\\\\ArcGIS\\\\Pro\\\\bin\\\\Python\\\\envs\\\\arcgispro-py3\\\\python37.zip', 'C:\\\\Program Files\\\\ArcGIS\\\\Pro\\\\bin\\\\Python\\\\envs\\\\arcgispro-py3\\\\DLLs', 'C:\\\\Program Files\\\\ArcGIS\\\\Pro\\\\bin\\\\Python\\\\envs\\\\arcgispro-py3\\\\lib', 'C:\\\\Program Files\\\\ArcGIS\\\\Pro\\\\bin\\\\Python\\\\envs\\\\arcgispro-py3', '', 'C:\\\\Program Files\\\\ArcGIS\\\\Pro\\\\bin\\\\Python\\\\envs\\\\arcgispro-py3\\\\lib\\\\site-packages', 'C:\\\\Program Files\\\\ArcGIS\\\\Pro\\\\bin', 'C:\\\\Program Files\\\\ArcGIS\\\\Pro\\\\Resources\\\\ArcToolbox\\\\Scripts', 'C:\\\\Program Files\\\\ArcGIS\\\\Pro\\\\bin\\\\Python\\\\envs\\\\arcgispro-py3\\\\lib\\\\site-packages\\\\future-0.18.2-py3.7.egg', 'C:\\\\Program Files\\\\ArcGIS\\\\Pro\\\\bin\\\\Python\\\\envs\\\\arcgispro-py3\\\\lib\\\\site-packages\\\\pytz-2020.1-py3.7.egg', 'C:\\\\Program Files\\\\ArcGIS\\\\Pro\\\\bin\\\\Python\\\\envs\\\\arcgispro-py3\\\\lib\\\\site-packages\\\\pywin32_ctypes-0.2.0-py3.7.egg', 'C:\\\\Program Files\\\\ArcGIS\\\\Pro\\\\bin\\\\Python\\\\envs\\\\arcgispro-py3\\\\lib\\\\site-packages\\\\pywin32security', 'C:\\\\Program Files\\\\ArcGIS\\\\Pro\\\\bin\\\\Python\\\\envs\\\\arcgispro-py3\\\\lib\\\\site-packages\\\\sympy-1.5.1-py3.7.egg', 'C:\\\\Program Files\\\\ArcGIS\\\\Pro\\\\bin\\\\Python\\\\envs\\\\arcgispro-py3\\\\lib\\\\site-packages\\\\IPython\\\\extensions', 'C:\\\\Users\\\\dwmerrigan\\\\.ipython']\n"
     ]
    }
   ],
   "source": [
    "\n",
    "\n",
    "# Convert wetlands to shapefile\n",
    "import arcpy\n",
    "import os\n",
    "import sys\n",
    "# Import RVBD modules\n",
    "import os\n",
    "from pathlib import Path\n",
    "import datetime\n",
    "from data_preparation.RVBD.slope import slope\n",
    "from data_preparation.RVBD.valleycostdistance import valley\n",
    "from data_preparation.RVBD.costdistance import costdist\n",
    "\n",
    "print('imports complete')\n",
    "print(f'sys paths {sys.path}')"
   ],
   "metadata": {
    "collapsed": false,
    "pycharm": {
     "name": "#%%\n"
    }
   }
  },
  {
   "cell_type": "code",
   "execution_count": 10,
   "outputs": [],
   "source": [
    "# Function to add key, value pairs to dictionary\n",
    "def append_value(dict_obj, key, value):\n",
    "    # Check if key exist in dict or not\n",
    "    if key in dict_obj:\n",
    "        # Key exist in dict.\n",
    "        # Check if type of value of key is list or not\n",
    "        if not isinstance(dict_obj[key], list):\n",
    "            # If type is not list then make it list\n",
    "            dict_obj[key] = [dict_obj[key]]\n",
    "        # Append the value in list\n",
    "        dict_obj[key].append(value)\n",
    "    else:\n",
    "        # As key is not in dict,\n",
    "        # so, add key-value pair\n",
    "        dict_obj[key] = value"
   ],
   "metadata": {
    "collapsed": false,
    "pycharm": {
     "name": "#%%\n"
    }
   }
  },
  {
   "cell_type": "code",
   "execution_count": 11,
   "outputs": [
    {
     "name": "stdout",
     "output_type": "stream",
     "text": [
      "['D:\\\\GIS\\\\AKSSF\\\\Bristol_Bay', 'D:\\\\GIS\\\\AKSSF\\\\Cook_Inlet', 'D:\\\\GIS\\\\AKSSF\\\\Copper_River', 'D:\\\\GIS\\\\AKSSF\\\\Kodiak', 'D:\\\\GIS\\\\AKSSF\\\\Prince_William_Sound']\n"
     ]
    }
   ],
   "source": [
    "# folder containing regional watersheds and covariate source data\n",
    "datadir = r'D:\\\\GIS\\\\AKSSF'\n",
    "arcpy.env.overwriteOutput = True\n",
    "# Set data dir equal to directory containing the AKSSF regional sub-folders.\n",
    "data_dir = r\"D:\\\\GIS\\\\AKSSF\"\n",
    "arcpy.env.workspace = data_dir\n",
    "arcpy.env.overwriteOutput = True\n",
    "sr = arcpy.SpatialReference(3338)  #'NAD_1983_Alaska_Albers'\n",
    "arcpy.env.outputCoordinateSystem = sr\n",
    "# Regions to be processed\n",
    "rList = ['Bristol_Bay','Cook_Inlet', 'Copper_River', 'Prince_William_Sound','Kodiak']\n",
    "regions = arcpy.ListWorkspaces(workspace_type=\"Folder\")\n",
    "regions = [os.path.normpath(r) for r in regions if os.path.basename(r) in rList]\n",
    "#working gdb to save intermediate outputs\n",
    "scratchgdb = r\"D:\\\\GIS\\\\scratch.gdb\"\n",
    "scratchfol = r\"D:\\\\GIS\\\\scratch\"\n",
    "rvbd_scratchfol = r\"D:\\\\GIS\\\\RVBD\"\n",
    "print (regions)\n"
   ],
   "metadata": {
    "collapsed": false,
    "pycharm": {
     "name": "#%%\n"
    }
   }
  },
  {
   "cell_type": "code",
   "execution_count": 12,
   "outputs": [
    {
     "name": "stdout",
     "output_type": "stream",
     "text": [
      "Scratch folder for Bristol_Bay already created at D:\\\\GIS\\\\RVBD_scratch\\Bristol_Bay_RVBD\n",
      "----------\n",
      "Scratch folder for Cook_Inlet already created at D:\\\\GIS\\\\RVBD_scratch\\Cook_Inlet_RVBD\n",
      "----------\n",
      "Scratch folder for Copper_River already created at D:\\\\GIS\\\\RVBD_scratch\\Copper_River_RVBD\n",
      "----------\n",
      "Scratch folder for Kodiak already created at D:\\\\GIS\\\\RVBD_scratch\\Kodiak_RVBD\n",
      "----------\n",
      "Scratch folder for Prince_William_Sound already created at D:\\\\GIS\\\\RVBD_scratch\\Prince_William_Sound_RVBD\n",
      "----------\n"
     ]
    }
   ],
   "source": [
    "#Create rvbd scratch folders if they do not already exist\n",
    "\n",
    "rvbd_scratchfol = r\"D:\\\\GIS\\\\RVBD_scratch\"\n",
    "for region in regions:\n",
    "    rname = os.path.basename(region)\n",
    "    rvbdscratchpath = os.path.join(rvbd_scratchfol, rname + '_RVBD')\n",
    "    if not arcpy.Exists(rvbdscratchpath):\n",
    "        os.mkdir(rvbdscratchpath)\n",
    "        print (f'{rname} does not have a scratch folder')\n",
    "        print (f'Creating river valley bottom scratch folder at  {rvbdscratchpath}')\n",
    "    else:\n",
    "        print(f'Scratch folder for {rname} already created at {rvbdscratchpath}')\n",
    "\n",
    "    print('----------')\n"
   ],
   "metadata": {
    "collapsed": false,
    "pycharm": {
     "name": "#%%\n"
    }
   }
  },
  {
   "cell_type": "markdown",
   "source": [
    "### Create data dictionary to use as input to RVBD script.\n",
    " * Collect and convert datasets as necessary to use as inputs for the RVBD script\n",
    " * Create region specific output folders if they do not already exist.\n"
   ],
   "metadata": {
    "collapsed": false,
    "pycharm": {
     "name": "#%% md\n"
    }
   }
  },
  {
   "cell_type": "code",
   "execution_count": 33,
   "outputs": [
    {
     "name": "stdout",
     "output_type": "stream",
     "text": [
      "Bristol_Bay\n",
      "wetlands fc will be saved to D:\\GIS\\AKSSF\\Bristol_Bay\\Bristol_Bay.gdb\n",
      "D:\\GIS\\AKSSF\\Bristol_Bay,wetlands.tif\n",
      "D:\\GIS\\AKSSF\\Bristol_Bay\\Bristol_Bay.gdb\\wetlands already created\n",
      "----------\n",
      "Cook_Inlet\n",
      "wetlands fc will be saved to D:\\GIS\\AKSSF\\Cook_Inlet\\Cook_Inlet.gdb\n",
      "D:\\GIS\\AKSSF\\Cook_Inlet,wetlands.tif\n",
      "D:\\GIS\\AKSSF\\Cook_Inlet\\Cook_Inlet.gdb\\wetlands already created\n",
      "----------\n",
      "Copper_River\n",
      "wetlands fc will be saved to D:\\GIS\\AKSSF\\Copper_River\\Copper_River.gdb\n",
      "D:\\GIS\\AKSSF\\Copper_River,wetlands.tif\n",
      "D:\\GIS\\AKSSF\\Copper_River\\Copper_River.gdb\\wetlands already created\n",
      "----------\n",
      "Kodiak\n",
      "wetlands fc will be saved to D:\\GIS\\AKSSF\\Kodiak\\Kodiak.gdb\n",
      "D:\\GIS\\AKSSF\\Kodiak,wetlands.tif\n",
      "D:\\GIS\\AKSSF\\Kodiak\\Kodiak.gdb\\wetlands already created\n",
      "----------\n",
      "Prince_William_Sound\n",
      "wetlands fc will be saved to D:\\GIS\\AKSSF\\Prince_William_Sound\\Prince_William_Sound.gdb\n",
      "D:\\GIS\\AKSSF\\Prince_William_Sound,wetlands.tif\n",
      "D:\\GIS\\AKSSF\\Prince_William_Sound\\Prince_William_Sound.gdb\\wetlands already created\n",
      "----------\n",
      "----------\n",
      "Data Dictionary created\n"
     ]
    }
   ],
   "source": [
    "rvbdDict = {}\n",
    "# Walk through gdbs and set input data sets. Convert wetland raster to shapefile if this has not already been done.\n",
    "for region in regions:\n",
    "    rname = os.path.basename(region)\n",
    "    print(rname)\n",
    "    arcpy.env.workspace = region\n",
    "    gdb = arcpy.ListWorkspaces(workspace_type='FileGDB')\n",
    "    outgdb = gdb[0]\n",
    "    walk = arcpy.da.Walk(region, datatype=['RasterDataset','FeatureClass'])\n",
    "    rvbdscratchpath = os.path.join(rvbd_scratchfol, rname + '_RVBD')\n",
    "    for dirpath, dirnames, filenames in walk:\n",
    "        for filename in filenames:\n",
    "            if 'streams_merge' == filename or 'NHDFlowline_merge' == filename:\n",
    "                strsource = os.path.join(dirpath, filename)\n",
    "                append_value(rvbdDict,rname,strsource)\n",
    "            # Set merged watersheds dataset\n",
    "            elif 'wtds_merge' == filename:\n",
    "                wtdsource = os.path.join(dirpath, filename)\n",
    "                append_value(rvbdDict,rname,wtdsource)\n",
    "            # Set elev raster\n",
    "            elif 'elev.tif' == filename:\n",
    "                elev_path = os.path.join(dirpath, filename)\n",
    "                append_value(rvbdDict,rname,elev_path)\n",
    "            # Set slope raster\n",
    "            elif 'slope.tif' == filename:\n",
    "                slope_path = os.path.join(dirpath, filename)\n",
    "                append_value(rvbdDict,rname,slope_path)\n",
    "            # Grab wetland raster\n",
    "            elif filename == 'wetlands.tif':\n",
    "                print(f'wetlands fc will be saved to {outgdb}')\n",
    "                print(f'{dirpath},{filename}')\n",
    "                wras_path = os.path.join(dirpath, filename)\n",
    "                wrasname = filename[:-4]\n",
    "                wetfcpath = os.path.join(outgdb, wrasname)\n",
    "                wetfcpath2 = os.path.join(scratchgdb, wrasname)\n",
    "                # Make local copy projected in AKAlbers\n",
    "                if not arcpy.Exists(wetfcpath):\n",
    "                    print(f'Converting {wrasname} to feature class...')\n",
    "                    print('----------')\n",
    "                    wetfc_conv = arcpy.RasterToPolygon_conversion(wras_path,wetfcpath2,raster_field='VALUE',\n",
    "                                                             simplify='NO_SIMPLIFY',\n",
    "                                                             create_multipart_features='MULTIPLE_OUTER_PART')\n",
    "                    wetfc = arcpy.FeatureClassToFeatureClass_conversion(wetfcpath2,outgdb,wrasname,\n",
    "                                                                        where_clause='gridcode = 1')\n",
    "                else:\n",
    "                    print(f'{wetfcpath} already created')\n",
    "                    wetfc = wetfcpath\n",
    "                    print('----------')\n",
    "    append_value(rvbdDict,rname,wetfcpath)\n",
    "    append_value(rvbdDict,rname,rvbdscratchpath)\n",
    "    rivbottpath = os.path.join(dirpath + '.gdb',rname + '_riv_valbot')\n",
    "    append_value(rvbdDict,rname,rivbottpath)\n",
    "print('----------')\n",
    "print('Data Dictionary created')"
   ],
   "metadata": {
    "collapsed": false,
    "pycharm": {
     "name": "#%%\n"
    }
   }
  },
  {
   "cell_type": "code",
   "execution_count": 34,
   "outputs": [
    {
     "data": {
      "text/plain": "{'Bristol_Bay': ['D:\\\\GIS\\\\AKSSF\\\\Bristol_Bay\\\\elev.tif',\n  'D:\\\\GIS\\\\AKSSF\\\\Bristol_Bay\\\\slope.tif',\n  'D:\\\\GIS\\\\AKSSF\\\\Bristol_Bay\\\\Bristol_Bay.gdb\\\\streams_merge',\n  'D:\\\\GIS\\\\AKSSF\\\\Bristol_Bay\\\\Bristol_Bay.gdb\\\\wtds_merge',\n  'D:\\\\GIS\\\\AKSSF\\\\Bristol_Bay\\\\Bristol_Bay.gdb\\\\wetlands',\n  'D:\\\\\\\\GIS\\\\\\\\RVBD_scratch\\\\Bristol_Bay_RVBD',\n  'D:\\\\GIS\\\\AKSSF\\\\Bristol_Bay\\\\Bristol_Bay.gdb\\\\Watersheds.gdb\\\\Bristol_Bay_riv_valbot'],\n 'Cook_Inlet': ['D:\\\\GIS\\\\AKSSF\\\\Cook_Inlet\\\\elev.tif',\n  'D:\\\\GIS\\\\AKSSF\\\\Cook_Inlet\\\\slope.tif',\n  'D:\\\\GIS\\\\AKSSF\\\\Cook_Inlet\\\\Cook_Inlet.gdb\\\\NHDFlowline_merge',\n  'D:\\\\GIS\\\\AKSSF\\\\Cook_Inlet\\\\Cook_Inlet.gdb\\\\wtds_merge',\n  'D:\\\\GIS\\\\AKSSF\\\\Cook_Inlet\\\\Cook_Inlet.gdb\\\\wetlands',\n  'D:\\\\\\\\GIS\\\\\\\\RVBD_scratch\\\\Cook_Inlet_RVBD',\n  'D:\\\\GIS\\\\AKSSF\\\\Cook_Inlet\\\\Cook_Inlet.gdb\\\\Watersheds.gdb\\\\Cook_Inlet_riv_valbot'],\n 'Copper_River': ['D:\\\\GIS\\\\AKSSF\\\\Copper_River\\\\elev.tif',\n  'D:\\\\GIS\\\\AKSSF\\\\Copper_River\\\\slope.tif',\n  'D:\\\\GIS\\\\AKSSF\\\\Copper_River\\\\Copper_River.gdb\\\\NHDFlowline_merge',\n  'D:\\\\GIS\\\\AKSSF\\\\Copper_River\\\\Copper_River.gdb\\\\wtds_merge',\n  'D:\\\\GIS\\\\AKSSF\\\\Copper_River\\\\Copper_River.gdb\\\\wetlands',\n  'D:\\\\\\\\GIS\\\\\\\\RVBD_scratch\\\\Copper_River_RVBD',\n  'D:\\\\GIS\\\\AKSSF\\\\Copper_River\\\\Copper_River.gdb\\\\Watersheds.gdb\\\\Copper_River_riv_valbot'],\n 'Kodiak': ['D:\\\\GIS\\\\AKSSF\\\\Kodiak\\\\elev.tif',\n  'D:\\\\GIS\\\\AKSSF\\\\Kodiak\\\\slope.tif',\n  'D:\\\\GIS\\\\AKSSF\\\\Kodiak\\\\Kodiak.gdb\\\\streams_merge',\n  'D:\\\\GIS\\\\AKSSF\\\\Kodiak\\\\Kodiak.gdb\\\\wtds_merge',\n  'D:\\\\GIS\\\\AKSSF\\\\Kodiak\\\\Kodiak.gdb\\\\wetlands',\n  'D:\\\\\\\\GIS\\\\\\\\RVBD_scratch\\\\Kodiak_RVBD',\n  'D:\\\\GIS\\\\AKSSF\\\\Kodiak\\\\Kodiak.gdb\\\\Watersheds.gdb\\\\Kodiak_riv_valbot'],\n 'Prince_William_Sound': ['D:\\\\GIS\\\\AKSSF\\\\Prince_William_Sound\\\\elev.tif',\n  'D:\\\\GIS\\\\AKSSF\\\\Prince_William_Sound\\\\slope.tif',\n  'D:\\\\GIS\\\\AKSSF\\\\Prince_William_Sound\\\\Prince_William_Sound.gdb\\\\streams_merge',\n  'D:\\\\GIS\\\\AKSSF\\\\Prince_William_Sound\\\\Prince_William_Sound.gdb\\\\wtds_merge',\n  'D:\\\\GIS\\\\AKSSF\\\\Prince_William_Sound\\\\Prince_William_Sound.gdb\\\\wetlands',\n  'D:\\\\\\\\GIS\\\\\\\\RVBD_scratch\\\\Prince_William_Sound_RVBD',\n  'D:\\\\GIS\\\\AKSSF\\\\Prince_William_Sound\\\\Prince_William_Sound.gdb\\\\Watersheds.gdb\\\\Prince_William_Sound_riv_valbot']}"
     },
     "execution_count": 34,
     "metadata": {},
     "output_type": "execute_result"
    }
   ],
   "source": [
    "#Check paths in dictionary\n",
    "rvbdDict"
   ],
   "metadata": {
    "collapsed": false,
    "pycharm": {
     "name": "#%%\n"
    }
   }
  },
  {
   "cell_type": "code",
   "execution_count": 35,
   "outputs": [
    {
     "name": "stdout",
     "output_type": "stream",
     "text": [
      "Bristol_Bay\n",
      "riv = D:\\GIS\\AKSSF\\Bristol_Bay\\Bristol_Bay.gdb\\streams_merge\n",
      "cat = D:\\GIS\\AKSSF\\Bristol_Bay\\Bristol_Bay.gdb\\wtds_merge\n",
      "dem = D:\\GIS\\AKSSF\\Bristol_Bay\\elev.tif\n",
      "wet = D:\\GIS\\AKSSF\\Bristol_Bay\\Bristol_Bay.gdb\\wetlands\n",
      "pth = D:\\\\GIS\\\\RVBD_scratch\\Bristol_Bay_RVBD\n",
      "outval = D:\\GIS\\AKSSF\\Bristol_Bay\\Bristol_Bay.gdb\\Watersheds.gdb\\Bristol_Bay_riv_valbot\n",
      "slp_in = D:\\GIS\\AKSSF\\Bristol_Bay\\slope.tif\n",
      "----------\n",
      "Cook_Inlet\n",
      "riv = D:\\GIS\\AKSSF\\Cook_Inlet\\Cook_Inlet.gdb\\NHDFlowline_merge\n",
      "cat = D:\\GIS\\AKSSF\\Cook_Inlet\\Cook_Inlet.gdb\\wtds_merge\n",
      "dem = D:\\GIS\\AKSSF\\Cook_Inlet\\elev.tif\n",
      "wet = D:\\GIS\\AKSSF\\Cook_Inlet\\Cook_Inlet.gdb\\wetlands\n",
      "pth = D:\\\\GIS\\\\RVBD_scratch\\Cook_Inlet_RVBD\n",
      "outval = D:\\GIS\\AKSSF\\Cook_Inlet\\Cook_Inlet.gdb\\Watersheds.gdb\\Cook_Inlet_riv_valbot\n",
      "slp_in = D:\\GIS\\AKSSF\\Cook_Inlet\\slope.tif\n",
      "----------\n",
      "Copper_River\n",
      "riv = D:\\GIS\\AKSSF\\Copper_River\\Copper_River.gdb\\NHDFlowline_merge\n",
      "cat = D:\\GIS\\AKSSF\\Copper_River\\Copper_River.gdb\\wtds_merge\n",
      "dem = D:\\GIS\\AKSSF\\Copper_River\\elev.tif\n",
      "wet = D:\\GIS\\AKSSF\\Copper_River\\Copper_River.gdb\\wetlands\n",
      "pth = D:\\\\GIS\\\\RVBD_scratch\\Copper_River_RVBD\n",
      "outval = D:\\GIS\\AKSSF\\Copper_River\\Copper_River.gdb\\Watersheds.gdb\\Copper_River_riv_valbot\n",
      "slp_in = D:\\GIS\\AKSSF\\Copper_River\\slope.tif\n",
      "----------\n",
      "Kodiak\n",
      "riv = D:\\GIS\\AKSSF\\Kodiak\\Kodiak.gdb\\streams_merge\n",
      "cat = D:\\GIS\\AKSSF\\Kodiak\\Kodiak.gdb\\wtds_merge\n",
      "dem = D:\\GIS\\AKSSF\\Kodiak\\elev.tif\n",
      "wet = D:\\GIS\\AKSSF\\Kodiak\\Kodiak.gdb\\wetlands\n",
      "pth = D:\\\\GIS\\\\RVBD_scratch\\Kodiak_RVBD\n",
      "outval = D:\\GIS\\AKSSF\\Kodiak\\Kodiak.gdb\\Watersheds.gdb\\Kodiak_riv_valbot\n",
      "slp_in = D:\\GIS\\AKSSF\\Kodiak\\slope.tif\n",
      "----------\n",
      "Prince_William_Sound\n",
      "riv = D:\\GIS\\AKSSF\\Prince_William_Sound\\Prince_William_Sound.gdb\\streams_merge\n",
      "cat = D:\\GIS\\AKSSF\\Prince_William_Sound\\Prince_William_Sound.gdb\\wtds_merge\n",
      "dem = D:\\GIS\\AKSSF\\Prince_William_Sound\\elev.tif\n",
      "wet = D:\\GIS\\AKSSF\\Prince_William_Sound\\Prince_William_Sound.gdb\\wetlands\n",
      "pth = D:\\\\GIS\\\\RVBD_scratch\\Prince_William_Sound_RVBD\n",
      "outval = D:\\GIS\\AKSSF\\Prince_William_Sound\\Prince_William_Sound.gdb\\Watersheds.gdb\\Prince_William_Sound_riv_valbot\n",
      "slp_in = D:\\GIS\\AKSSF\\Prince_William_Sound\\slope.tif\n",
      "----------\n"
     ]
    }
   ],
   "source": [
    "# need to iterate over regions and inputs from data dictionary\n",
    "for region in regions:\n",
    "    key = os.path.basename(region)\n",
    "    print(key)\n",
    "    dem = rvbdDict[key][0]\n",
    "    slp_in = rvbdDict[key][1]\n",
    "    riv = rvbdDict[key][2]\n",
    "    cat = rvbdDict[key][3]\n",
    "    wet = rvbdDict[key][4]\n",
    "    pth = rvbdDict[key][5]\n",
    "    outval = rvbdDict[key][6]\n",
    "\n",
    "    print(f'riv = {riv}')\n",
    "    print(f'cat = {cat}')\n",
    "    print(f'dem = {dem}')\n",
    "    print(f'wet = {wet}')\n",
    "    print(f'pth = {pth}')\n",
    "    print(f'outval = {outval}')\n",
    "    print(f'slp_in = {slp_in}')\n",
    "    print('----------')"
   ],
   "metadata": {
    "collapsed": false,
    "pycharm": {
     "name": "#%%\n"
    }
   }
  },
  {
   "cell_type": "code",
   "execution_count": null,
   "outputs": [],
   "source": [
    "# Starting script\n",
    "start = datetime.datetime.now()\n",
    "print(\"Script started at %s\" % start)\n",
    "arcpy.AddMessage (\"Script started started at %s\" % start)\n",
    "arcpy.AddMessage (\"\\n\")\n",
    "\n",
    "# Check out spatial extention\n",
    "arcpy.CheckOutExtension(\"Spatial\")\n",
    "\n",
    "# Environments\n",
    "arcpy.env.overwriteOutput = True\n",
    "\n",
    "# #try with test data\n",
    "# # Python inputs\n",
    "# riv =  r\"D:\\\\GIS\\\\AKSSF\\\\Kodiak\\\\Kodiak.gdb\\\\streams_merge\" # river network as a shapefile\n",
    "# cat = r\"D:\\\\GIS\\\\AKSSF\\\\Kodiak\\\\Kodiak.gdb\\\\wtds_merge\" # catchments as a shapefile\n",
    "# dem = r\"D:\\\\GIS\\\\AKSSF\\\\Kodiak\\\\elev.tif\"# elevation model as a raster\n",
    "# wet = r\"D:\\\\GIS\\\\AKSSF\\\\Kodiak\\\\Kodiak.gdb\\\\wetlands\" # measured valley bottom, wetlands or any wet signature in low areas\n",
    "# pth = r\"D:\\\\GIS\\\\RVBD_scratch\\\\Kodiak_RVBD\" # path to outputs (scratch and cost distance folders)\n",
    "# outval = r\"D:\\\\GIS\\\\RVBD_scratch\\\\Kodiak_RVBD\\\\Kodiak_RVBD.gdb\\\\kod_rvbd\" # path to output river valley\n",
    "# slp_in = r\"D:\\\\GIS\\\\AKSSF\\\\Kodiak\\\\slope.tif\"\n",
    "\n",
    "# need to iterate over regions and inputs from data dictionary\n",
    "for region in regions:\n",
    "    key = os.path.basename(region)\n",
    "    print(key)\n",
    "    dem = rvbdDict[key][0]\n",
    "    slp_in = rvbdDict[key][1]\n",
    "    riv = rvbdDict[key][2]\n",
    "    cat = rvbdDict[key][3]\n",
    "    wet = rvbdDict[key][4]\n",
    "    pth = rvbdDict[key][5]\n",
    "    outval = rvbdDict[key][6]\n",
    "\n",
    "    print(f'riv = {riv}')\n",
    "    print(f'cat = {cat}')\n",
    "    print(f'dem = {dem}')\n",
    "    print(f'wet = {wet}')\n",
    "    print(f'pth = {pth}')\n",
    "    print(f'outval = {outval}')\n",
    "    print(f'slp_in = {slp_in}')\n",
    "    print('----------')\n",
    "    # Check to see if scratch geodatabase exists\n",
    "    s = Path(os.path.join(pth, \"outputs.gdb\"))\n",
    "    if s.exists() == False:\n",
    "        scrg = arcpy.CreateFileGDB_management(pth, \"outputs\")\n",
    "        scr = scrg.getOutput(0) # scratch folder\n",
    "    else:\n",
    "        scr = os.path.join(pth, \"outputs.gdb\") #scr = r\"in_memory\" (if you want to store in memory)\n",
    "\n",
    "    # Check to see if cost dist folder exists (use code in comments if you want results in a folder instead of gdb)\n",
    "    c = Path(os.path.join(pth, \"costdist.gdb\")) # Path(os.path.join(pth, \"costdist\"))\n",
    "    if c.exists() == False:\n",
    "        cstg = arcpy.CreateFileGDB_management(pth, \"costdist\")  # arcpy.CreateFolder_management(pth, \"costdist\")\n",
    "        cst = cstg.getOutput(0) # cost distance folder\n",
    "    else:\n",
    "        cst = os.path.join(pth, \"costdist.gdb\") # os.path.join(pth, \"costdist\")\n",
    "\n",
    "    # # Calculate slope and replace 0 slopes with small value - We already have slope rasters so no need for this step\n",
    "    # slope(riv, cat, dem, scr)\n",
    "    #\n",
    "    # Cost distance calculation\n",
    "    costdist(riv, cat, slp_in, cst, scr)\n",
    "\n",
    "    # Extract valley\n",
    "    valley(riv, wet, cst, scr, outval)\n",
    "\n",
    "# Ending script\n",
    "end = datetime.datetime.now()\n",
    "print(\"Script ended at %s\" % end)\n",
    "arcpy.AddMessage (\"Script ended at %s\" % end)\n",
    "arcpy.AddMessage (\"\\n\")\n",
    "time_elapsed = end - start\n",
    "print(\"Time elapsed %s\" % (time_elapsed))\n",
    "arcpy.AddMessage (\"Time elapsed %s\" % time_elapsed)\n",
    "arcpy.AddMessage (\"\\n\")\n",
    "print(\".........................................................\")\n",
    "arcpy.AddMessage (\".........................................................\")\n",
    "arcpy.AddMessage (\"\\n\")\n"
   ],
   "metadata": {
    "collapsed": false,
    "pycharm": {
     "name": "#%%\n"
    }
   }
  }
 ],
 "metadata": {
  "kernelspec": {
   "name": "python3",
   "language": "python",
   "display_name": "Python 3"
  },
  "language_info": {
   "codemirror_mode": {
    "name": "ipython",
    "version": 2
   },
   "file_extension": ".py",
   "mimetype": "text/x-python",
   "name": "python",
   "nbconvert_exporter": "python",
   "pygments_lexer": "ipython2",
   "version": "2.7.6"
  }
 },
 "nbformat": 4,
 "nbformat_minor": 0
}