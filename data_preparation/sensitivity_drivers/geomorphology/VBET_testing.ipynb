{
 "cells": [
  {
   "cell_type": "markdown",
   "source": [
    "# Valley Bottom Extraction\n",
    "## Iterate over regional outputs and select input datasets for VBET tool as well as convert/create necessary datasets.\n",
    "### Examine source code to see if it can be modified to use watersheds as masks or if the following input data must be\n",
    "### clipped to each watershed in iterator before running.\n",
    "Create data dictionary to store input parameters.\n",
    "1. select stream_merge\n",
    "    * convert to shapefile to be used as input\n",
    "        * see tool readme concerning singlepart features, and straight lines (paths through large waterbodies)\n",
    "2. select elev.tif as input\n",
    "3. convert flow accumulation raster to drainage area = (fac.tif*(fac.cellsize^2)/(10^6))\n",
    "    * not sure why the conversion to sqKm is necessary\n",
    "4. set input thresholds - Link to covariates and pull values to use as threshold inputs\n",
    "    * Drainage area thresholds - get watershed area metrics from covariates output\n",
    "        * Large - total watershed area\n",
    "        * Medium - mean watershed area\n",
    "    * Slope thresholds - get watershed slope metrics from covariates output\n",
    "        * Large Slope - max?\n",
    "        * Medium Slope - mean?\n",
    "        * Small slope - min?\n",
    "    * Buffer thresholds - not quite sure how to interpret this variable or estimate thresholds currently\n",
    "        * scaled with stream length?\n",
    "            * could use dout pathlengths somehow?\n",
    "    * Depth - not quite sure how to interpret this variable or estimate thresholds currently\n",
    "      * use defaults and examine outputs for now"
   ],
   "metadata": {
    "collapsed": false,
    "pycharm": {
     "name": "#%% md\n"
    }
   }
  },
  {
   "cell_type": "code",
   "execution_count": null,
   "outputs": [],
   "source": [
    "import arcpy, os, sys\n",
    "# folder containing regional watersheds and covariate source data\n",
    "datadir = r'D:\\\\GIS\\\\AKSSF'\n",
    "outfol = r'D:VBET_outputs'\n",
    "arcpy.env.overwriteOutput = True\n",
    "regions = [\"Kodiak\", \"Copper_River\", \"Prince_William_Sound\", \"Cook_Inlet\", \"Bristol_Bay\"]\n",
    "#Iterate over watersheds and clip elev, fac, stream networks and save to temp workspace for each region.  Create drainage\n",
    "#area raster and run VBET.  Delete outputs and copy vbet shapefile to land_met db or merge all together\n",
    "\n",
    "#Create tempfol and scratch gdb\n",
    "tempfol = os.path.join(outfol,'tempfol')\n",
    "if not arcpy.Exists(os.path.join(outfol, tempfol):\n",
    "    tempfol = arcpy.Create\n",
    "\n",
    "#collect data\n",
    "arcpy.env.workspace = datadir"
   ],
   "metadata": {
    "collapsed": false,
    "pycharm": {
     "name": "#%%\n"
    }
   }
  }
 ],
 "metadata": {
  "kernelspec": {
   "name": "pycharm-8caab41e",
   "language": "python",
   "display_name": "PyCharm (AKSSF)"
  },
  "language_info": {
   "codemirror_mode": {
    "name": "ipython",
    "version": 2
   },
   "file_extension": ".py",
   "mimetype": "text/x-python",
   "name": "python",
   "nbconvert_exporter": "python",
   "pygments_lexer": "ipython2",
   "version": "2.7.6"
  }
 },
 "nbformat": 4,
 "nbformat_minor": 0
}