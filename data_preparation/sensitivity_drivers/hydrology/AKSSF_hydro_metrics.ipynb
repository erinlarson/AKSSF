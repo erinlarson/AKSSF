{
 "cells": [
  {
   "cell_type": "code",
   "execution_count": null,
   "outputs": [],
   "source": [
    "                    # Set merged VAA Table dataset\n",
    "                    elif 'vaa_merge' == filename:\n",
    "                        vaasource = os.path.join(dirpath, filename)\n",
    "                        vaaname = roi +'_'+filename\n",
    "                        vaa_path = os.path.join(outgdb,vaaname)\n",
    "\n",
    "                        if not arcpy.Exists(vaa_path):\n",
    "                            print(f'Copying {vaaname}...')\n",
    "                            print('----------')\n",
    "                           # Make local copy projected in AKAlbers\n",
    "                            vaa_merge = arcpy.TableToTable(vaasource, outgdb,vaaname)\n",
    "                        else:\n",
    "                            print(f'Merged VAA Table dataset {vaa_path} already created...')\n",
    "                            print('----------')\n",
    "                            vaa_merge = vaa_path\n",
    "                        vaafieldnames = []\n",
    "                        vaalstFields = arcpy.ListFields(vaa_merge)\n",
    "                        for field in vaalstFields:\n",
    "                            vaafieldnames.append(field.name)\n",
    "                        if str(str_cur_fields[0]) in vaafieldnames:\n",
    "                            print (f'{str_cur_fields[0]} field already in dataset')\n",
    "                            print('----------')\n",
    "                        else:\n",
    "                            print (f'Adding {str_cur_fields[0]} field to VAA Table dataset {vaa_merge}')\n",
    "                            print('----------')\n",
    "                            # add cat_ID_txt field and concat cat_ID + region\n",
    "                            arcpy.AddField_management(vaa_merge, str(str_cur_fields[0]),field_type='TEXT')\n",
    "                            # populate cat_ID_txt\n",
    "                            with arcpy.da.UpdateCursor(vaa_merge, str_cur_fields[0:2]) as cur:\n",
    "                                for row in cur:\n",
    "                                    strval = str(row[1])\n",
    "                                    row[2] = strval.replace('.0','')\n",
    "                                    # Update rows\n",
    "                                    cur.updateRow(row)\n",
    "                                del(row)\n",
    "                            del(cur)\n",
    "                        if str(str_cur_fields[2]) in vaafieldnames:\n",
    "                            print (f'{str_cur_fields[2]} field already in dataset {vaa_merge}')\n",
    "                            print('----------')\n",
    "                        else:\n",
    "                            print (f'Adding {str_cur_fields[2]} field to VAA Table dataset {vaa_merge}')\n",
    "                            print('----------')\n",
    "                            # add cat_ID_con field and concat cat_ID + region\n",
    "                            arcpy.AddField_management(vaa_merge, str(str_cur_fields[2]),field_type='TEXT')\n",
    "                            # populate cat_ID_txt\n",
    "                            with arcpy.da.UpdateCursor(vaa_merge, str_cur_fields) as cur:\n",
    "                                for row in cur:\n",
    "                                    strval = str(row[1])\n",
    "                                    row[2] = str(roi) +'_'+ strval.replace(\".0\",\"\")\n",
    "                                    # Update rows\n",
    "                                    cur.updateRow(row)\n",
    "                                del(row)\n",
    "                            del(cur)\n",
    "        "
   ],
   "metadata": {
    "collapsed": false,
    "pycharm": {
     "name": "#%%                        \n"
    }
   }
  }
 ],
 "metadata": {
  "kernelspec": {
   "name": "pycharm-8caab41e",
   "language": "python",
   "display_name": "PyCharm (AKSSF)"
  },
  "language_info": {
   "codemirror_mode": {
    "name": "ipython",
    "version": 2
   },
   "file_extension": ".py",
   "mimetype": "text/x-python",
   "name": "python",
   "nbconvert_exporter": "python",
   "pygments_lexer": "ipython2",
   "version": "2.7.6"
  }
 },
 "nbformat": 4,
 "nbformat_minor": 0
}