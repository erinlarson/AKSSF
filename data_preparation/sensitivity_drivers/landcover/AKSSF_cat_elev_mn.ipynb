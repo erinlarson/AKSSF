{
 "cells": [
  {
   "cell_type": "markdown",
   "source": [
    "<a id='top'></a>"
   ],
   "metadata": {
    "collapsed": false
   }
  },
  {
   "cell_type": "markdown",
   "source": [
    "# Mean Catchment Elevation\n",
    "\n",
    "Calculate mean catchment elevation for catchments with temperature data using zonal statistics as table and\n",
    "cat_intersect\n",
    "\n",
    "## Import modules"
   ],
   "metadata": {
    "collapsed": false
   }
  },
  {
   "cell_type": "code",
   "execution_count": 2,
   "outputs": [
    {
     "name": "stdout",
     "output_type": "stream",
     "text": [
      "27092021\n",
      "D:\\OneDrive - University of Alaska\\Documents\\GitHub\\AKSSF\\data_preparation\\sensitivity_drivers\\landcover\n",
      "C:\\Program Files\\ArcGIS\\Pro\\bin\\Python\\envs\\arcgispro-py3\n"
     ]
    }
   ],
   "source": [
    "import arcpy\n",
    "import os\n",
    "import datetime\n",
    "import time\n",
    "import sys\n",
    "\n",
    "arcpy.env.overwriteOutput = True\n",
    "today = datetime.datetime.now()\n",
    "# Make the time stamp.\n",
    "time_stamp = '{:%d%m%Y}'.format(today)\n",
    "print(time_stamp)\n",
    "\n",
    "path = os.getcwd()\n",
    "print (path)\n",
    "print (sys.base_exec_prefix)"
   ],
   "metadata": {
    "collapsed": false,
    "pycharm": {
     "name": "#%%\n"
    }
   }
  },
  {
   "cell_type": "markdown",
   "source": [
    "## Collect data and set working output locations"
   ],
   "metadata": {
    "collapsed": false,
    "pycharm": {
     "name": "#%% md\n"
    }
   }
  },
  {
   "cell_type": "code",
   "execution_count": 13,
   "outputs": [
    {
     "name": "stdout",
     "output_type": "stream",
     "text": [
      "['W:\\\\GIS\\\\AKSSF\\\\Bristol_Bay', 'W:\\\\GIS\\\\AKSSF\\\\Cook_Inlet', 'W:\\\\GIS\\\\AKSSF\\\\Copper_River', 'W:\\\\GIS\\\\AKSSF\\\\Kodiak', 'W:\\\\GIS\\\\AKSSF\\\\Prince_William_Sound']\n",
      "Bristol_Bay\n",
      "Cook_Inlet\n",
      "Copper_River\n",
      "Kodiak\n",
      "Prince_William_Sound\n",
      "Creating output GDB\n",
      "Output geodatabase created at W:\\\\GIS_temp\\\\Outputs\\AKSSF_cat_elev_mn\\AKSSF_cat_elev_mn.gdb\n"
     ]
    }
   ],
   "source": [
    "# Set AKSSF Data directory\n",
    "data_dir = r\"W:\\GIS\\AKSSF\"\n",
    "arcpy.env.workspace = data_dir\n",
    "regions = arcpy.ListWorkspaces(workspace_type=\"Folder\")\n",
    "rois= []\n",
    "print (regions)\n",
    "temppath = r\"W:\\\\GIS_temp\\\\Outputs\" # Output folder\n",
    "dirname = 'AKSSF_cat_elev_mn'\n",
    "tempgdbname = 'AKSSF_cat_elev_mn.gdb'\n",
    "temp_dir = os.path.join(temppath,dirname)\n",
    "if not arcpy.Exists(temp_dir):\n",
    "    os.makedirs(temp_dir)\n",
    "else:\n",
    "    print('Working Folder already created...', temp_dir)\n",
    "\n",
    "outcheck = os.path.join(temp_dir, tempgdbname)\n",
    "\n",
    "if arcpy.Exists(outcheck):\n",
    "    print ('Output location already exists', outcheck)\n",
    "    outgdb = outcheck\n",
    "if not arcpy.Exists(outcheck):\n",
    "    print('Creating output GDB')\n",
    "    tempgdb = arcpy.CreateFileGDB_management(temp_dir,tempgdbname)\n",
    "    print ('Output geodatabase created at', outcheck)\n",
    "    outgdb = tempgdb.getOutput(0)"
   ],
   "metadata": {
    "collapsed": false,
    "pycharm": {
     "name": "#%%\n"
    }
   }
  },
  {
   "cell_type": "markdown",
   "source": [
    "## Calculate mean catchment elevation using zonal statistics as table and export"
   ],
   "metadata": {
    "collapsed": false,
    "pycharm": {
     "name": "#%% md\n"
    }
   }
  },
  {
   "cell_type": "code",
   "execution_count": 17,
   "outputs": [
    {
     "name": "stdout",
     "output_type": "stream",
     "text": [
      "Calculating mean elevation for catcments of interest in Cook_Inlet region\n"
     ]
    }
   ],
   "source": [
    "mn_cat_elev_tables = []\n",
    "arcpy.env.workspace = outgdb\n",
    "# Start timing function\n",
    "processStart = time.time()\n",
    "processStartdt = datetime.datetime.now()\n",
    "\n",
    "for region in regions:\n",
    "    if \"Cook_Inlet\" in region:\n",
    "        # Start iter timing function\n",
    "        iteration_start = time.time()\n",
    "        print (f'Calculating mean elevation for catchments of interest in {os.path.basename(region)} region')\n",
    "    else:\n",
    "\n",
    "\n",
    "\n"
   ],
   "metadata": {
    "collapsed": false,
    "pycharm": {
     "name": "#%%\n"
    }
   }
  }
 ],
 "metadata": {
  "kernelspec": {
   "display_name": "Python 3",
   "language": "python",
   "name": "python3"
  },
  "language_info": {
   "codemirror_mode": {
    "name": "ipython",
    "version": 2
   },
   "file_extension": ".py",
   "mimetype": "text/x-python",
   "name": "python",
   "nbconvert_exporter": "python",
   "pygments_lexer": "ipython2",
   "version": "2.7.6"
  }
 },
 "nbformat": 4,
 "nbformat_minor": 0
}