{
 "cells": [
  {
   "cell_type": "markdown",
   "metadata": {},
   "source": [
    "# Creating spatial variables"
   ]
  },
  {
   "cell_type": "markdown",
   "metadata": {},
   "source": [
    "First thing I will try here is to calculate the average snow off date by watershed for catchment outlet points.\n",
    "\n",
    "* Resample modis raster from 500 m to 5 m so that the weighted flow accumulation correctly sums down the network.\n",
    "* Use weighted flow accumulation to calculate across a flow direction grid. We'll need to loop through the different flow direction grids and also the different years of modis snow metrics tifs as weights.\n",
    "* Use an inner buffer on each catchment and extract raster cell with largest flow accumulation.\n",
    "* With these \"catchment outlet cells\", extract the mean modis date of snow off for each catchment."
   ]
  },
  {
   "cell_type": "code",
   "execution_count": 12,
   "metadata": {},
   "outputs": [
    {
     "name": "stdout",
     "output_type": "stream",
     "text": [
      "['In', 'Out', '_', '__', '___', '__builtin__', '__builtins__', '__doc__', '__loader__', '__name__', '__package__', '__spec__', '_dh', '_i', '_i1', '_i10', '_i11', '_i12', '_i2', '_i3', '_i4', '_i5', '_i6', '_i7', '_i8', '_i9', '_ih', '_ii', '_iii', '_oh', '_pydevd_bundle', 'akssf_sa', 'arcpy', 'datetime', 'exit', 'fdr_raster', 'get_ipython', 'lcld', 'math', 'modis_raster', 'modis_sa', 'numpy', 'os', 'pydev_jupyter_vars', 'quit', 'sys', 'tempdir', 'time']\n"
     ]
    }
   ],
   "source": [
    "import arcpy\n",
    "import os \n",
    "import time\n",
    "import datetime\n",
    "\n",
    "print(dir())"
   ]
  },
  {
   "cell_type": "markdown",
   "source": [
    "Set up temporary directory and snap raster and other settings for test processing area - 19020103."
   ],
   "metadata": {
    "collapsed": false,
    "pycharm": {
     "name": "#%% md\n"
    }
   }
  },
  {
   "cell_type": "code",
   "execution_count": 10,
   "outputs": [],
   "source": [
    "modis_raster = \"W:/GIS/MODIS_Snow_Metrics/2019_snowyear_metrics_v006.tif\"\n",
    "fdr_raster = \"T:/Aquatic/AKSSF/NHDPlus/CopperRiver_20210408/extracts/HRNHDPlusRasters19020103/fdr.tif\"\n",
    "akssf_sa = \"T:/Aquatic/AKSSF/AKSSF_Hydrography.gdb/AKSSF_studyarea_HUC8\"\n",
    "\n",
    "tempdir = \"W:\\GIS\\AKSSF Southcentral\\Temporary\"\n",
    "arcpy.env.workspace = tempdir\n",
    "arcpy.env.snapRaster = fdr_raster\n",
    "arcpy.env.overwriteOutput = True\n",
    "arcpy.env.outputCoordinateSystem = arcpy.SpatialReference(\"Alaska Albers Equal Area Conic\")"
   ],
   "metadata": {
    "collapsed": false,
    "pycharm": {
     "name": "#%%\n"
    }
   }
  },
  {
   "cell_type": "markdown",
   "metadata": {},
   "source": [
    "Test out for one fdr first and then try in a for statement. Dustin provided code for looping through gdb in a workspace in the catchment_processing python script.\n",
    "\n",
    "lcld is acronym for last day of the longest continuous snow season, band 5 in each tif.\n",
    "\n",
    "* first sum the lcld values using the fdr\n",
    "* divide by the fac to get the mean lcld by all upstream cells\n",
    "* create a stream raster\n",
    "* extract the mean wtd lcld for just the stream cells"
   ]
  },
  {
   "cell_type": "code",
   "execution_count": 6,
   "outputs": [],
   "source": [
    "modis_sa = arcpy.sa.ExtractByMask(modis_raster, akssf_sa)"
   ],
   "metadata": {
    "collapsed": false,
    "pycharm": {
     "name": "#%%\n"
    }
   }
  },
  {
   "cell_type": "code",
   "execution_count": 11,
   "outputs": [],
   "source": [
    "lcld = arcpy.ia.ExtractBand(modis_sa, [5])\n",
    "lcld.save(os.path.join(tempdir, \"lcld_sa_2019.tif\"))\n"
   ],
   "metadata": {
    "collapsed": false,
    "pycharm": {
     "name": "#%%\n"
    }
   }
  },
  {
   "cell_type": "markdown",
   "source": [
    "STOPPED HERE THE CODE BELOW THROWS AN ERROR, CAN'T GET RESAMPLE TO WORK."
   ],
   "metadata": {
    "collapsed": false,
    "pycharm": {
     "name": "#%% md\n"
    }
   }
  },
  {
   "cell_type": "code",
   "execution_count": 16,
   "outputs": [
    {
     "ename": "ExecuteError",
     "evalue": "Failed to execute. Parameters are not valid.\nERROR 000735: Output Raster Dataset: Value is required\nFailed to execute (Resample).\n",
     "output_type": "error",
     "traceback": [
      "\u001B[1;31m---------------------------------------------------------------------------\u001B[0m",
      "\u001B[1;31mExecuteError\u001B[0m                              Traceback (most recent call last)",
      "\u001B[1;32m<ipython-input-16-2a521c888360>\u001B[0m in \u001B[0;36m<module>\u001B[1;34m\u001B[0m\n\u001B[0;32m      1\u001B[0m \u001B[0mstart\u001B[0m \u001B[1;33m=\u001B[0m \u001B[0mdatetime\u001B[0m\u001B[1;33m.\u001B[0m\u001B[0mdatetime\u001B[0m\u001B[1;33m.\u001B[0m\u001B[0mnow\u001B[0m\u001B[1;33m(\u001B[0m\u001B[1;33m)\u001B[0m\u001B[1;33m\u001B[0m\u001B[1;33m\u001B[0m\u001B[0m\n\u001B[1;32m----> 2\u001B[1;33m \u001B[0mlcld_5m\u001B[0m \u001B[1;33m=\u001B[0m \u001B[0marcpy\u001B[0m\u001B[1;33m.\u001B[0m\u001B[0mmanagement\u001B[0m\u001B[1;33m.\u001B[0m\u001B[0mResample\u001B[0m\u001B[1;33m(\u001B[0m\u001B[0mlcld\u001B[0m\u001B[1;33m,\u001B[0m \u001B[1;34m\"\"\u001B[0m\u001B[1;33m,\u001B[0m \u001B[1;36m5\u001B[0m\u001B[1;33m,\u001B[0m \u001B[1;34m\"Bilinear\"\u001B[0m\u001B[1;33m)\u001B[0m\u001B[1;33m\u001B[0m\u001B[1;33m\u001B[0m\u001B[0m\n\u001B[0m\u001B[0;32m      3\u001B[0m \u001B[0mstop\u001B[0m \u001B[1;33m=\u001B[0m \u001B[0mdatetime\u001B[0m\u001B[1;33m.\u001B[0m\u001B[0mdatetime\u001B[0m\u001B[1;33m.\u001B[0m\u001B[0mnow\u001B[0m\u001B[1;33m(\u001B[0m\u001B[1;33m)\u001B[0m\u001B[1;33m\u001B[0m\u001B[1;33m\u001B[0m\u001B[0m\n\u001B[0;32m      4\u001B[0m \u001B[0melapsed\u001B[0m \u001B[1;33m=\u001B[0m \u001B[0mstop\u001B[0m \u001B[1;33m-\u001B[0m \u001B[0mstart\u001B[0m\u001B[1;33m\u001B[0m\u001B[1;33m\u001B[0m\u001B[0m\n\u001B[0;32m      5\u001B[0m \u001B[1;33m\u001B[0m\u001B[0m\n",
      "\u001B[1;32mC:\\Program Files\\ArcGIS\\Pro\\Resources\\ArcPy\\arcpy\\management.py\u001B[0m in \u001B[0;36mResample\u001B[1;34m(in_raster, out_raster, cell_size, resampling_type)\u001B[0m\n\u001B[0;32m  17926\u001B[0m         \u001B[1;32mreturn\u001B[0m \u001B[0mretval\u001B[0m\u001B[1;33m\u001B[0m\u001B[1;33m\u001B[0m\u001B[0m\n\u001B[0;32m  17927\u001B[0m     \u001B[1;32mexcept\u001B[0m \u001B[0mException\u001B[0m \u001B[1;32mas\u001B[0m \u001B[0me\u001B[0m\u001B[1;33m:\u001B[0m\u001B[1;33m\u001B[0m\u001B[1;33m\u001B[0m\u001B[0m\n\u001B[1;32m> 17928\u001B[1;33m         \u001B[1;32mraise\u001B[0m \u001B[0me\u001B[0m\u001B[1;33m\u001B[0m\u001B[1;33m\u001B[0m\u001B[0m\n\u001B[0m\u001B[0;32m  17929\u001B[0m \u001B[1;33m\u001B[0m\u001B[0m\n\u001B[0;32m  17930\u001B[0m \u001B[1;33m@\u001B[0m\u001B[0mgptooldoc\u001B[0m\u001B[1;33m(\u001B[0m\u001B[1;34m'SplitRaster_management'\u001B[0m\u001B[1;33m,\u001B[0m \u001B[1;32mNone\u001B[0m\u001B[1;33m)\u001B[0m\u001B[1;33m\u001B[0m\u001B[1;33m\u001B[0m\u001B[0m\n",
      "\u001B[1;32mC:\\Program Files\\ArcGIS\\Pro\\Resources\\ArcPy\\arcpy\\management.py\u001B[0m in \u001B[0;36mResample\u001B[1;34m(in_raster, out_raster, cell_size, resampling_type)\u001B[0m\n\u001B[0;32m  17923\u001B[0m     \u001B[1;32mfrom\u001B[0m \u001B[0marcpy\u001B[0m\u001B[1;33m.\u001B[0m\u001B[0marcobjects\u001B[0m\u001B[1;33m.\u001B[0m\u001B[0marcobjectconversion\u001B[0m \u001B[1;32mimport\u001B[0m \u001B[0mconvertArcObjectToPythonObject\u001B[0m\u001B[1;33m\u001B[0m\u001B[1;33m\u001B[0m\u001B[0m\n\u001B[0;32m  17924\u001B[0m     \u001B[1;32mtry\u001B[0m\u001B[1;33m:\u001B[0m\u001B[1;33m\u001B[0m\u001B[1;33m\u001B[0m\u001B[0m\n\u001B[1;32m> 17925\u001B[1;33m         \u001B[0mretval\u001B[0m \u001B[1;33m=\u001B[0m \u001B[0mconvertArcObjectToPythonObject\u001B[0m\u001B[1;33m(\u001B[0m\u001B[0mgp\u001B[0m\u001B[1;33m.\u001B[0m\u001B[0mResample_management\u001B[0m\u001B[1;33m(\u001B[0m\u001B[1;33m*\u001B[0m\u001B[0mgp_fixargs\u001B[0m\u001B[1;33m(\u001B[0m\u001B[1;33m(\u001B[0m\u001B[0min_raster\u001B[0m\u001B[1;33m,\u001B[0m \u001B[0mout_raster\u001B[0m\u001B[1;33m,\u001B[0m \u001B[0mcell_size\u001B[0m\u001B[1;33m,\u001B[0m \u001B[0mresampling_type\u001B[0m\u001B[1;33m)\u001B[0m\u001B[1;33m,\u001B[0m \u001B[1;32mTrue\u001B[0m\u001B[1;33m)\u001B[0m\u001B[1;33m)\u001B[0m\u001B[1;33m)\u001B[0m\u001B[1;33m\u001B[0m\u001B[1;33m\u001B[0m\u001B[0m\n\u001B[0m\u001B[0;32m  17926\u001B[0m         \u001B[1;32mreturn\u001B[0m \u001B[0mretval\u001B[0m\u001B[1;33m\u001B[0m\u001B[1;33m\u001B[0m\u001B[0m\n\u001B[0;32m  17927\u001B[0m     \u001B[1;32mexcept\u001B[0m \u001B[0mException\u001B[0m \u001B[1;32mas\u001B[0m \u001B[0me\u001B[0m\u001B[1;33m:\u001B[0m\u001B[1;33m\u001B[0m\u001B[1;33m\u001B[0m\u001B[0m\n",
      "\u001B[1;32mC:\\Program Files\\ArcGIS\\Pro\\Resources\\ArcPy\\arcpy\\geoprocessing\\_base.py\u001B[0m in \u001B[0;36m<lambda>\u001B[1;34m(*args)\u001B[0m\n\u001B[0;32m    509\u001B[0m         \u001B[0mval\u001B[0m \u001B[1;33m=\u001B[0m \u001B[0mgetattr\u001B[0m\u001B[1;33m(\u001B[0m\u001B[0mself\u001B[0m\u001B[1;33m.\u001B[0m\u001B[0m_gp\u001B[0m\u001B[1;33m,\u001B[0m \u001B[0mattr\u001B[0m\u001B[1;33m)\u001B[0m\u001B[1;33m\u001B[0m\u001B[1;33m\u001B[0m\u001B[0m\n\u001B[0;32m    510\u001B[0m         \u001B[1;32mif\u001B[0m \u001B[0mcallable\u001B[0m\u001B[1;33m(\u001B[0m\u001B[0mval\u001B[0m\u001B[1;33m)\u001B[0m\u001B[1;33m:\u001B[0m\u001B[1;33m\u001B[0m\u001B[1;33m\u001B[0m\u001B[0m\n\u001B[1;32m--> 511\u001B[1;33m             \u001B[1;32mreturn\u001B[0m \u001B[1;32mlambda\u001B[0m \u001B[1;33m*\u001B[0m\u001B[0margs\u001B[0m\u001B[1;33m:\u001B[0m \u001B[0mval\u001B[0m\u001B[1;33m(\u001B[0m\u001B[1;33m*\u001B[0m\u001B[0mgp_fixargs\u001B[0m\u001B[1;33m(\u001B[0m\u001B[0margs\u001B[0m\u001B[1;33m,\u001B[0m \u001B[1;32mTrue\u001B[0m\u001B[1;33m)\u001B[0m\u001B[1;33m)\u001B[0m\u001B[1;33m\u001B[0m\u001B[1;33m\u001B[0m\u001B[0m\n\u001B[0m\u001B[0;32m    512\u001B[0m         \u001B[1;32melse\u001B[0m\u001B[1;33m:\u001B[0m\u001B[1;33m\u001B[0m\u001B[1;33m\u001B[0m\u001B[0m\n\u001B[0;32m    513\u001B[0m             \u001B[1;32mreturn\u001B[0m \u001B[0mconvertArcObjectToPythonObject\u001B[0m\u001B[1;33m(\u001B[0m\u001B[0mval\u001B[0m\u001B[1;33m)\u001B[0m\u001B[1;33m\u001B[0m\u001B[1;33m\u001B[0m\u001B[0m\n",
      "\u001B[1;31mExecuteError\u001B[0m: Failed to execute. Parameters are not valid.\nERROR 000735: Output Raster Dataset: Value is required\nFailed to execute (Resample).\n"
     ]
    }
   ],
   "source": [
    "start = datetime.datetime.now()\n",
    "lcld_5m = arcpy.management.Resample(lcld, \"\", 5, \"Bilinear\")\n",
    "stop = datetime.datetime.now()\n",
    "elapsed = stop - start\n",
    "\n",
    "print (\"Process complete \", elapsed)"
   ],
   "metadata": {
    "collapsed": false,
    "pycharm": {
     "name": "#%%\n"
    }
   }
  },
  {
   "cell_type": "code",
   "execution_count": 14,
   "outputs": [
    {
     "ename": "SyntaxError",
     "evalue": "unexpected EOF while parsing (<ipython-input-14-d28bcc272381>, line 2)",
     "output_type": "error",
     "traceback": [
      "\u001B[1;36m  File \u001B[1;32m\"<ipython-input-14-d28bcc272381>\"\u001B[1;36m, line \u001B[1;32m2\u001B[0m\n\u001B[1;33m    \u001B[0m\n\u001B[1;37m    ^\u001B[0m\n\u001B[1;31mSyntaxError\u001B[0m\u001B[1;31m:\u001B[0m unexpected EOF while parsing\n"
     ]
    }
   ],
   "source": [
    "lcld_5m.save(os.path.join(tempdir, \"lcld_5m_2019.tif\")"
   ],
   "metadata": {
    "collapsed": false,
    "pycharm": {
     "name": "#%%\n"
    }
   }
  },
  {
   "cell_type": "code",
   "execution_count": null,
   "metadata": {},
   "outputs": [],
   "source": [
    "\n",
    "\n",
    "tic = time.perf_counter()\n",
    "\n",
    "\n",
    "lcld_sum_19020103_2019 = arcpy.sa.FlowAccumulation(fdr_raster, lcld)\n",
    "arcpy.sa.\n",
    "\n",
    "toc = time.perf_counter()\n",
    "print(f\"Summed lcld across one HUC8 in {toc - tic:0.4f} seconds\")"
   ]
  },
  {
   "cell_type": "code",
   "execution_count": 7,
   "metadata": {},
   "outputs": [],
   "source": [
    "fac_raster = \"T:/Aquatic/AKSSF/NHDPlus/CopperRiver_20210408/extracts/HRNHDPlusRasters19020103/fac.tif\"\n",
    "lcld_wtdmn_19020103_2019 = lcld_sum_19020103_2019/fac_raster\n"
   ]
  },
  {
   "cell_type": "code",
   "execution_count": 10,
   "metadata": {},
   "outputs": [
    {
     "name": "stdout",
     "output_type": "stream",
     "text": [
      "1 3753915.0\n",
      "2 3635347.0\n"
     ]
    }
   ],
   "source": [
    "#surface water raster that comes with NHDPlus\n",
    "sw_raster = \"T:/Aquatic/AKSSF/NHDPlus/CopperRiver_20210408/extracts/HRNHDPlusRasters19020103/swnet.tif\"\n",
    "\n",
    "#print raster attribute table\n",
    "for r in arcpy.SearchCursor(sw_raster, \"\", \"\", \"VALUE; COUNT\"):\n",
    "    v = r.getValue(\"VALUE\")\n",
    "    c = r.getValue(\"COUNT\")\n",
    "    print (v, c)\n",
    "\n",
    "remap_tbl = arcpy.sa.RemapValue([[1, 1], [2, \"NoData\"]])\n",
    "    \n",
    "#just extract streams, value == 1\n",
    "str_raster = arcpy.sa.Reclassify(sw_raster, \"VALUE\", remap_tbl)\n"
   ]
  },
  {
   "cell_type": "code",
   "execution_count": 11,
   "metadata": {},
   "outputs": [],
   "source": [
    "lcld_str_19020103_2019 = arcpy.sa.ExtractByMask(lcld_wtdmn_19020103_2019, str_raster)"
   ]
  },
  {
   "cell_type": "code",
   "execution_count": null,
   "metadata": {},
   "outputs": [],
   "source": [
    "str_raster.save(\"W:/GIS/AKSSF Southcentral/AKSSF Southcentral.gdb/str_19020103\")"
   ]
  },
  {
   "cell_type": "code",
   "execution_count": null,
   "metadata": {},
   "outputs": [],
   "source": []
  }
 ],
 "metadata": {
  "kernelspec": {
   "display_name": "ArcGISPro",
   "language": "Python",
   "name": "python3"
  },
  "language_info": {
   "file_extension": ".py",
   "name": "python",
   "version": "3"
  }
 },
 "nbformat": 4,
 "nbformat_minor": 2
}